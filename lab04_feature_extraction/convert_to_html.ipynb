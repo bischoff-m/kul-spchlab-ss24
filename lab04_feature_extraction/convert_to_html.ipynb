{
 "cells": [
  {
   "cell_type": "code",
   "execution_count": 1,
   "id": "2e9b006a-d7d5-468c-982f-095ec139774e",
   "metadata": {},
   "outputs": [
    {
     "name": "stdout",
     "output_type": "stream",
     "text": [
      "[NbConvertApp] Converting notebook AuditoryDemonstrations.ipynb to html\n",
      "[NbConvertApp] Writing 11152745 bytes to AuditoryDemonstrations.html\n",
      "[NbConvertApp] Converting notebook HarmonicSignals.ipynb to html\n",
      "[NbConvertApp] Writing 1281301 bytes to HarmonicSignals.html\n",
      "[NbConvertApp] Converting notebook Keyboard.ipynb to html\n",
      "[NbConvertApp] Writing 1172623 bytes to Keyboard.html\n"
     ]
    }
   ],
   "source": [
    "! jupyter nbconvert TimeDomainFeatures.ipynb --to html\n",
    "! jupyter nbconvert TrimAudio.ipynb --to html\n",
    "! jupyter nbconvert FeatureExtraction.ipynb --to html\n",
    "! jupyter nbconvert MelSpectralFeatures.ipynb --to html\n",
    "! jupyter nbconvert CepstralLiftering.ipynb --to html"
   ]
  },
  {
   "cell_type": "code",
   "execution_count": null,
   "id": "f6445cc2-5e4f-4809-abfe-9e81b5709dcf",
   "metadata": {},
   "outputs": [],
   "source": []
  },
  {
   "cell_type": "code",
   "execution_count": null,
   "id": "676bf2dc-f0f5-473b-a634-c4053c517c15",
   "metadata": {},
   "outputs": [],
   "source": []
  }
 ],
 "metadata": {
  "kernelspec": {
   "display_name": "Python 3 (ipykernel)",
   "language": "python",
   "name": "python3"
  },
  "language_info": {
   "codemirror_mode": {
    "name": "ipython",
    "version": 3
   },
   "file_extension": ".py",
   "mimetype": "text/x-python",
   "name": "python",
   "nbconvert_exporter": "python",
   "pygments_lexer": "ipython3",
   "version": "3.7.12"
  },
  "widgets": {
   "application/vnd.jupyter.widget-state+json": {
    "state": {},
    "version_major": 2,
    "version_minor": 0
   }
  }
 },
 "nbformat": 4,
 "nbformat_minor": 5
}
