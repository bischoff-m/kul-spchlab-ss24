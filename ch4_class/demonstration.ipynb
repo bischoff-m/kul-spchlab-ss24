{
 "cells": [
  {
   "cell_type": "markdown",
   "metadata": {},
   "source": [
    "### Demonstration of notebook functionality"
   ]
  },
  {
   "cell_type": "markdown",
   "metadata": {},
   "source": [
    "#### Setting up your Python Environment"
   ]
  },
  {
   "cell_type": "code",
   "execution_count": null,
   "metadata": {},
   "outputs": [],
   "source": [
    "%matplotlib inline\n",
    "import io, os, sys\n",
    "import logging\n",
    "\n",
    "import matplotlib.pyplot as plt\n",
    "import numpy as np\n",
    "import pandas as pd\n",
    "import scipy.io as sio\n",
    "import seaborn as sns\n",
    "import torch\n",
    "from scipy.fftpack import dct\n",
    "#from IPython.display import display\n",
    "\n",
    "# reproducibility \n",
    "torch.manual_seed(0) \n",
    "np.random.seed(0)\n",
    "\n",
    "# pyspch\n",
    "try:\n",
    "  import google.colab\n",
    "  IN_COLAB = True\n",
    "  ! pip install git+https://github.com/compi1234/pyspch.git@v0.6\n",
    "except:\n",
    "  IN_COLAB = False\n",
    "\n",
    "# pyspch\n",
    "import pyspch\n",
    "import pyspch.nn\n",
    "logging.basicConfig(level=logging.INFO)"
   ]
  },
  {
   "cell_type": "code",
   "execution_count": null,
   "metadata": {},
   "outputs": [],
   "source": [
    "#@title Auxiliary functions \n",
    "\n",
    "import requests\n",
    "import importlib\n",
    "import scipy.io as sio\n",
    "import urllib.request\n",
    "import pickle\n",
    "import gzip\n",
    "\n",
    "# download from url and write to file\n",
    "def write_from_url(url, filename):\n",
    "    r = requests.get(url)\n",
    "    with open(filename, 'wb') as f:\n",
    "        f.write(r.content)\n",
    "\n",
    "# dictionairy\n",
    "class dotdict(dict):\n",
    "    \"\"\"dot.notation access to dictionary attributes\"\"\"\n",
    "    __getattr__ = dict.get\n",
    "    __setattr__ = dict.__setitem__\n",
    "    __delattr__ = dict.__delitem__\n",
    "    \n",
    "def dict_from_module(module):\n",
    "    context = {}\n",
    "    for setting in dir(module):\n",
    "        # you can write your filter here\n",
    "        if not setting.startswith('_'):\n",
    "            context[setting] = getattr(module, setting)\n",
    "\n",
    "    return context\n",
    "\n",
    "# import setup file (.py) as module (dotdict)\n",
    "def read_setup(filename, new_read_path=None, old_read_path='/users/spraak/spchlab/public_html/data/timit/'):\n",
    "    \n",
    "    # load module\n",
    "    spec = importlib.util.spec_from_file_location(os.path.basename(filename), filename)\n",
    "    setup = importlib.util.module_from_spec(spec)\n",
    "    spec.loader.exec_module(setup)\n",
    "    \n",
    "    # convert to dict \n",
    "    setup = dict_from_module(setup)\n",
    "    setup = dotdict(setup)\n",
    "\n",
    "    # replace esat_path with root_url\n",
    "    if new_read_path is not None:\n",
    "        for k, v in setup.items():\n",
    "            if type(v) == str:\n",
    "                setup[k] = v.replace(old_read_path, new_read_path)\n",
    "            \n",
    "    return setup\n",
    "\n",
    "# loads all data in a matlab file at given url to the contents structure\n",
    "# this is working for MATLAB 7.0 files and older ; not hdf5 MATLAB 7.3 or more recent\n",
    "def load_matlab_from_url(url):\n",
    "    url_response = urllib.request.urlopen(url)\n",
    "    matio = io.BytesIO(url_response.read())\n",
    "    contents = sio.loadmat(matio,squeeze_me=True)\n",
    "    return(contents)"
   ]
  },
  {
   "cell_type": "code",
   "execution_count": null,
   "metadata": {},
   "outputs": [],
   "source": [
    "# device\n",
    "use_cuda_if_available = True\n",
    "if use_cuda_if_available:\n",
    "    device = torch.device(\"cuda:0\" if torch.cuda.is_available() else \"cpu\") \n",
    "else:\n",
    "    device = \"cpu\""
   ]
  },
  {
   "cell_type": "markdown",
   "metadata": {},
   "source": [
    "#### The TIMIT database \n",
    "\n",
    "The experiments in this notebook use the TIMIT database.\n",
    "Instead of starting from raw speech, we already extracted features (24 filterbank energies) from the speech signal. The feature is obtained by applying the FFT transform (**window step** = 10ms, window size = 30ms, window = Hamming, ...) and mel scaling to the speech waveform (16kHz). Note the window step determines the frame duration (10ms).\n",
    "\n",
    "The directory structure is as follows:\n",
    "- audio (.wav)\n",
    "    - ...\n",
    "- conf\n",
    "    - train_corpus.lst\n",
    "    - test_corpus.lst\n",
    "    - dummy_corpus.lst\n",
    "    - meta.tsv\n",
    "- features (.npy)\n",
    "    - mel24\n",
    "        - ...\n",
    "    - mel80\n",
    "    - mfcc13\n",
    "- segmentations (.phn, .wrd, .txt)\n",
    "    - ...\n",
    "\n",
    "    \n",
    "The phone mapping translates the 61 phone labels used by TIMIT to a smaller phone set with 48 (or 39) phone labels.\n",
    "For example, the 61 phone set discriminates between different types of silences (bcl, dcl, epi, h#, ...), whereas the 39 phone set maps all these to a single silence-label (sil).\n"
   ]
  },
  {
   "cell_type": "markdown",
   "metadata": {},
   "source": [
    "#### Setup \n",
    "\n",
    "From paths, to feature extraction, to model architecture and training"
   ]
  },
  {
   "cell_type": "code",
   "execution_count": null,
   "metadata": {
    "id": "DFGXk5A9cS1a"
   },
   "outputs": [],
   "source": [
    "# define setup (and root url)\n",
    "root_url = 'https://homes.esat.kuleuven.be/~spchlab/data/timit/'\n",
    "use_setup = True\n",
    "overwrite_setup = False\n",
    "\n",
    "# load setup\n",
    "if use_setup:\n",
    "    setup_file = root_url + 'models/ffdnn_default_mel24dd2v/sig_drop01_adamw0001/setup.py'\n",
    "    write_from_url(setup_file, 'setup.py')\n",
    "    setup = read_setup('setup.py')\n",
    "else:\n",
    "    setup = dotdict()\n",
    "    # corpus\n",
    "    setup.train_corpus_file = root_url + 'conf/timit_train_dummy.corpus'\n",
    "    setup.test_corpus_file = root_url + 'conf/timit_test.corpus' \n",
    "    # features\n",
    "    setup.feature_path = root_url + 'features/mel24/'\n",
    "    setup.feature_args =  {\n",
    "        'spg': None,\n",
    "        'Deltas': 'delta_delta2',\n",
    "        'Norm': 'var',\n",
    "        'sample_rate': 16000,\n",
    "        'f_shift': 0.01,\n",
    "        'f_length': 0.03,\n",
    "        'preemp': 0.97,\n",
    "        'window': 'hamm',\n",
    "        'mode': 'dB',\n",
    "        'n_mels': 24,\n",
    "        'n_cep': None\n",
    "    }\n",
    "    # pickled dataframe (preprocessed)\n",
    "    setup.train_pickle_file = setup.feature_path + 'train.pkl'\n",
    "    setup.test_pickle_file = setup.feature_path + 'test.pkl'\n",
    "    # labels\n",
    "    setup.label_path =  root_url + 'segmentation/'\n",
    "    setup.label_args = {\n",
    "        'extension': '.phn', \n",
    "        'pad': 'h#',\n",
    "        }\n",
    "    setup.labset_in = \"timit61\"\n",
    "    setup.labset_out = \"timit41\"\n",
    "    # meta labels\n",
    "    setup.meta_label_args = None\n",
    "    # SpchDataset\n",
    "    setup.sampler_args = {\n",
    "        'N': 5,\n",
    "        'stride': 2,\n",
    "        'mode': 'flatten1d',\n",
    "        }\n",
    "    # model\n",
    "    setup.model_args = {\n",
    "        'model': 'ffdnn',\n",
    "        'model_args': {\n",
    "            'in_dim': 24 * 3 * 11,\n",
    "            'out_dim': 41,\n",
    "            'hidden_layer_dims': [1024, 768, 512],\n",
    "            'nonlinearity': 'sig',\n",
    "            'dropout': 0.1\n",
    "            }\n",
    "        }\n",
    "    setup.use_cuda_if_available = True\n",
    "    # training\n",
    "    setup.current_epoch = 0\n",
    "    setup.print_every = 1\n",
    "    setup.training_args = {\n",
    "        'n_epoch': 250,\n",
    "        'patience': 20,\n",
    "        'criterion': 'crossentropy',\n",
    "        'criterion_args': {},\n",
    "        'optimizer': 'adamw',\n",
    "        'optimizer_args': {\n",
    "            'lr': 0.001,\n",
    "            },\n",
    "        'scheduler': 'plateau',\n",
    "        'scheduler_args': {\n",
    "            'factor': 0.1,\n",
    "            'patience': 10,\n",
    "            'threshold': 0.0001\n",
    "            },\n",
    "        'clip_args': {},\n",
    "        'batch_size': 64,\n",
    "        'shuffle': True,\n",
    "        'num_workers': 0,\n",
    "        'val_frac': 0.1,\n",
    "        'val_seed': 1234,\n",
    "        }\n",
    "    # evaluate\n",
    "    setup.evaluate_args = {\n",
    "        'batch_size': 256,\n",
    "        'shuffle': False,\n",
    "        'num_workers': 0,\n",
    "        }\n",
    "    # output\n",
    "    setup.output_path = root_url + \"models/ffdnn_default_mel24dd2v/sig_drop01_adamw0001/\"\n",
    "    setup.setup_jsonfile = setup.output_path + \"setup.json\"\n",
    "    setup.model_file = setup.output_path + \"model.pt\"\n",
    "    \n",
    "# overwrite setup\n",
    "if use_setup and overwrite_setup:\n",
    "    # use dummy training data\n",
    "    setup.train_corpus_file = root_url + 'conf/timit_train_dummy.corpus'\n",
    "    # smaller model \n",
    "    setup.model_args['model_args'].update({\n",
    "        'hidden_layer_dims': [256, 256]\n",
    "        })"
   ]
  },
  {
   "cell_type": "code",
   "execution_count": null,
   "metadata": {},
   "outputs": [],
   "source": [
    "# dummy setup (and root url)\n",
    "root_url = 'https://homes.esat.kuleuven.be/~spchlab/data/timit/'\n",
    "setup_file = root_url + 'models/dummy/setup.py'\n",
    "write_from_url(setup_file, 'setup.py')\n",
    "setup = read_setup('setup.py', root_url)"
   ]
  },
  {
   "cell_type": "markdown",
   "metadata": {},
   "source": [
    "#### Data loading"
   ]
  },
  {
   "cell_type": "code",
   "execution_count": null,
   "metadata": {},
   "outputs": [
    {
     "name": "stdout",
     "output_type": "stream",
     "text": [
      "WARNING(read_data_file): reading from file https://homes.esat.kuleuven.be/~spchlab/data/timit/conf/timit_train_dummy.corpus failed\n"
     ]
    }
   ],
   "source": [
    "# load corpus \n",
    "train_corpus = pyspch.read_txt(setup.train_corpus_file)\n",
    "test_corpus = pyspch.read_txt(setup.test_corpus_file)"
   ]
  },
  {
   "cell_type": "code",
   "execution_count": null,
   "metadata": {},
   "outputs": [],
   "source": [
    "# feature arguments\n",
    "read_feature_args = pyspch.read_json(setup.feature_path + 'feature_args.json')\n",
    "modify_feature_args = pyspch.dct_diff(read_feature_args, setup.feature_args)\n",
    "\n",
    "# features depend on directory, labels are always TIMIT61\n",
    "train_df = pd.read_pickle(setup.train_pickle_file)\n",
    "test_df = pd.read_pickle(setup.test_pickle_file)\n",
    "train_data = pyspch.nn.DataFrame_to_SpchData(train_df, delete_df=True)\n",
    "test_data = pyspch.nn.DataFrame_to_SpchData(test_df, delete_df=True) \n",
    "\n",
    "# subset\n",
    "train_data = train_data.subset(train_corpus)\n",
    "test_data = test_data.subset(test_corpus)\n",
    "\n",
    "# modify features\n",
    "train_data.modify_features(modify_feature_args)\n",
    "test_data.modify_features(modify_feature_args)\n",
    "\n",
    "# set lengths\n",
    "train_data.lengths = train_data.get_length('features')\n",
    "test_data.lengths = test_data.get_length('features')"
   ]
  },
  {
   "cell_type": "code",
   "execution_count": null,
   "metadata": {},
   "outputs": [
    {
     "name": "stdout",
     "output_type": "stream",
     "text": [
      "{'aa': 0, 'ae': 1, 'ah': 2, 'ao': 3, 'aw': 4, 'er': 5, 'ay': 6, 'b': 7, 'ch': 8, 'd': 9, 'dh': 10, 'eh': 11, 'm': 12, 'ng': 13, 'ey': 14, 'f': 15, 'g': 16, 'hh': 17, 'ih': 18, 'iy': 19, 'jh': 20, 'k': 21, 'l': 22, 'n': 23, 'ow': 24, 'oy': 25, 'p': 26, 'r': 27, 's': 28, 'sh': 29, 't': 30, 'th': 31, 'uh': 32, 'uw': 33, 'v': 34, 'w': 35, 'y': 36, 'z': 37, 'zh': 38, 'sil': 39, 'cl': 40}\n"
     ]
    }
   ],
   "source": [
    "# label mapping and meta labels\n",
    "labels = pyspch.timit.get_timit_alphabet(setup.labset_out)\n",
    "lab2lab = pyspch.timit.get_timit_mapping(setup.labset_in, setup.labset_out) \n",
    "lab2idx = {k: i for i, k in enumerate(labels)} \n",
    "print(lab2idx)"
   ]
  },
  {
   "cell_type": "code",
   "execution_count": null,
   "metadata": {},
   "outputs": [
    {
     "name": "stdout",
     "output_type": "stream",
     "text": [
      "{'N': 5, 'stride': 2, 'mode': 'flatten'}\n"
     ]
    }
   ],
   "source": [
    "# SpchDataset\n",
    "train_ds = pyspch.nn.SpchDataset(train_data.corpus, train_data.features, train_data.labels)\n",
    "test_ds = pyspch.nn.SpchDataset(test_data.corpus, test_data.features, test_data.labels)\n",
    "\n",
    "# targets  \n",
    "train_ds.map_target(lab2lab)\n",
    "train_ds.encode_target(lab2idx)\n",
    "train_ds.to_tensor()\n",
    "test_ds.map_target(lab2lab)\n",
    "test_ds.encode_target(lab2idx)\n",
    "test_ds.to_tensor()\n",
    "\n",
    "# sampler with splicing\n",
    "print(setup.sampler_args)\n",
    "train_ds.set_sampler(train_data.lengths, setup.sampler_args)\n",
    "test_ds.set_sampler(test_data.lengths, setup.sampler_args)"
   ]
  },
  {
   "cell_type": "code",
   "execution_count": null,
   "metadata": {},
   "outputs": [],
   "source": [
    "# free-up memory\n",
    "rm_data = False\n",
    "if rm_data:\n",
    "    del train_data\n",
    "    del test_data"
   ]
  },
  {
   "cell_type": "markdown",
   "metadata": {},
   "source": [
    "#### Model training"
   ]
  },
  {
   "cell_type": "code",
   "execution_count": null,
   "metadata": {},
   "outputs": [
    {
     "name": "stdout",
     "output_type": "stream",
     "text": [
      "{'model': 'ffdnn', 'model_args': {'in_dim': 792, 'out_dim': 41, 'hidden_layer_dims': [1024, 768, 512], 'nonlinearity': 'sig', 'dropout': 0.1}}\n",
      "FFDNN(\n",
      "  (net): Sequential(\n",
      "    (0): Linear(in_features=792, out_features=1024, bias=True)\n",
      "    (1): Sigmoid()\n",
      "    (2): Dropout(p=0.1, inplace=False)\n",
      "    (3): Linear(in_features=1024, out_features=768, bias=True)\n",
      "    (4): Sigmoid()\n",
      "    (5): Dropout(p=0.1, inplace=False)\n",
      "    (6): Linear(in_features=768, out_features=512, bias=True)\n",
      "    (7): Sigmoid()\n",
      "    (8): Dropout(p=0.1, inplace=False)\n",
      "    (9): Linear(in_features=512, out_features=41, bias=True)\n",
      "  )\n",
      ")\n"
     ]
    }
   ],
   "source": [
    "# model\n",
    "print(setup.model_args)\n",
    "model = pyspch.nn.get_model(setup.model_args)\n",
    "print(model)"
   ]
  },
  {
   "cell_type": "code",
   "execution_count": null,
   "metadata": {},
   "outputs": [],
   "source": [
    "# device\n",
    "use_cuda_if_available = True\n",
    "if use_cuda_if_available:\n",
    "    device = torch.device(\"cuda:0\" if torch.cuda.is_available() else \"cpu\") \n",
    "else:\n",
    "    device = \"cpu\"\n",
    "    \n",
    "model.to(device)\n",
    "train_ds.to_device(device)\n",
    "test_ds.to_device(device)"
   ]
  },
  {
   "cell_type": "code",
   "execution_count": null,
   "metadata": {},
   "outputs": [
    {
     "name": "stderr",
     "output_type": "stream",
     "text": [
      "INFO:root:start training\n"
     ]
    },
    {
     "name": "stdout",
     "output_type": "stream",
     "text": [
      "{'n_epoch': 250, 'patience': 20, 'criterion': 'crossentropy', 'criterion_args': {}, 'optimizer': 'adamw', 'optimizer_args': {'lr': 0.001}, 'scheduler': 'plateau', 'scheduler_args': {'factor': 0.1, 'patience': 10, 'threshold': 0.0001}, 'clip_args': {}, 'batch_size': 64, 'shuffle': True, 'num_workers': 0, 'val_frac': 0.1, 'val_seed': 1234}\n",
      " 1461 training examples, 146 validation files\n"
     ]
    },
    {
     "name": "stderr",
     "output_type": "stream",
     "text": [
      "INFO:root:Epoch 0 -- av. train loss per mini-batch 3.37\n",
      "INFO:root:\t -- av. validation loss per mini-batch 3.21\n",
      "INFO:root:Epoch 1 -- av. train loss per mini-batch 3.02\n",
      "INFO:root:\t -- av. validation loss per mini-batch 2.89\n",
      "INFO:root:Epoch 2 -- av. train loss per mini-batch 2.69\n",
      "INFO:root:\t -- av. validation loss per mini-batch 2.51\n",
      "INFO:root:Epoch 3 -- av. train loss per mini-batch 2.40\n",
      "INFO:root:\t -- av. validation loss per mini-batch 2.46\n",
      "INFO:root:Epoch 4 -- av. train loss per mini-batch 2.12\n",
      "INFO:root:\t -- av. validation loss per mini-batch 2.42\n",
      "INFO:root:Epoch 5 -- av. train loss per mini-batch 1.85\n",
      "INFO:root:\t -- av. validation loss per mini-batch 2.11\n",
      "INFO:root:Epoch 6 -- av. train loss per mini-batch 1.65\n",
      "INFO:root:\t -- av. validation loss per mini-batch 1.86\n",
      "INFO:root:Epoch 7 -- av. train loss per mini-batch 1.50\n",
      "INFO:root:\t -- av. validation loss per mini-batch 1.90\n",
      "INFO:root:Epoch 8 -- av. train loss per mini-batch 1.37\n",
      "INFO:root:\t -- av. validation loss per mini-batch 1.83\n",
      "INFO:root:Epoch 9 -- av. train loss per mini-batch 1.27\n",
      "INFO:root:\t -- av. validation loss per mini-batch 1.82\n"
     ]
    }
   ],
   "source": [
    "# training\n",
    "training_args = setup.training_args\n",
    "print(training_args)\n",
    "\n",
    "# criterion + optimizer + learning rate-scheduler\n",
    "criterion = pyspch.nn.get_criterion(training_args)\n",
    "optimizer = pyspch.nn.get_optimizer(training_args, model) \n",
    "scheduler = pyspch.nn.get_scheduler(training_args, optimizer)\n",
    "\n",
    "# validation set (split fraction from train set)\n",
    "valid_ds, actual_train_ds = train_ds.split(training_args['val_frac'], training_args['val_seed'])\n",
    "if valid_ds: print(\" %d training examples, %d validation files\" % (len(train_ds), len(valid_ds)))    \n",
    "    \n",
    "# dataloader (train set)\n",
    "train_dl = torch.utils.data.DataLoader(actual_train_ds, \n",
    "    batch_size=training_args['batch_size'],\n",
    "    shuffle=training_args['shuffle'], \n",
    "    num_workers=training_args['num_workers'])\n",
    "\n",
    "# dataloader (validation set)\n",
    "if valid_ds is None:\n",
    "    valid_dl = None\n",
    "else:\n",
    "    valid_dl = torch.utils.data.DataLoader(valid_ds, \n",
    "        batch_size=training_args['batch_size'],\n",
    "        shuffle=training_args['shuffle'], \n",
    "        num_workers=training_args['num_workers'])\n",
    "\n",
    "# test logging\n",
    "logging.info(\"start training\")\n",
    "\n",
    "# train model \n",
    "current_epoch = setup.current_epoch\n",
    "print_every = setup.print_every\n",
    "clip_args = training_args['clip_args']\n",
    "training_args['n_epoch'] = 10\n",
    "\n",
    "# train\n",
    "tr_loss, val_loss, last_epoch = pyspch.nn.train(model, train_dl, criterion, optimizer, \n",
    "    clip_args=clip_args, scheduler=scheduler,\n",
    "    current_epoch=current_epoch, n_epochs=training_args['n_epoch'],\n",
    "    valid_dl=valid_dl, patience=training_args['patience'], \n",
    "    every=print_every)\n",
    "\n",
    "setup.current_epoch = last_epoch"
   ]
  },
  {
   "cell_type": "markdown",
   "metadata": {},
   "source": [
    "#### Model evaluation"
   ]
  },
  {
   "cell_type": "markdown",
   "metadata": {},
   "source": [
    "##### Test set"
   ]
  },
  {
   "cell_type": "code",
   "execution_count": null,
   "metadata": {},
   "outputs": [],
   "source": [
    "# test dataloader\n",
    "test_dl = torch.utils.data.DataLoader(test_ds, batch_size=256)"
   ]
  },
  {
   "cell_type": "code",
   "execution_count": null,
   "metadata": {},
   "outputs": [
    {
     "name": "stdout",
     "output_type": "stream",
     "text": [
      "PER 0.63 \n",
      "CEL 2.79\n"
     ]
    },
    {
     "data": {
      "image/png": "[encoded data removed]",
      "text/plain": [
       "<Figure size 288x288 with 1 Axes>"
      ]
     },
     "metadata": {},
     "output_type": "display_data"
    },
    {
     "data": {
      "text/plain": [
       "(<Figure size 288x288 with 1 Axes>,\n",
       " <AxesSubplot:title={'center':'Confusion Matrix\\n'}, xlabel='Predicted', ylabel='True'>)"
      ]
     },
     "metadata": {},
     "output_type": "display_data"
    }
   ],
   "source": [
    "# Confusion matrix\n",
    "cm = pyspch.nn.evaluate_cm(model, test_dl) \n",
    "\n",
    "# Phone Error Rate (PER) + PER per phone class\n",
    "per, per_pc = pyspch.nn.cm2per(cm)\n",
    "print(\"PER %.2f \" % (per))\n",
    "if not None in per_pc:\n",
    "    print(\"PER per phone class %s\" % (np.round(per_pc, 4)))\n",
    "\n",
    "# Cross-entropy loss\n",
    "loss = pyspch.nn.evaluate(model, test_dl, criterion)\n",
    "print(\"CEL %.2f\" % loss)\n",
    "\n",
    "# plot\n",
    "pyspch.plot_confusion_matrix(cm, labels, annot=False)"
   ]
  },
  {
   "cell_type": "markdown",
   "metadata": {},
   "source": [
    "##### Single utterance"
   ]
  },
  {
   "cell_type": "code",
   "execution_count": null,
   "metadata": {},
   "outputs": [],
   "source": [
    "# select file to visualize\n",
    "example = 'test/dr1/faks0/si2203'\n",
    "\n",
    "# transcription + word segmentation \n",
    "example_txt = pyspch.read_txt(setup.label_path + example + \".txt\")\n",
    "example_wrd = pyspch.read_dataframe(setup.label_path + example + \".wrd\", sep=\" \", names=['t0','t1','wrd'])\n",
    "\n",
    "# labels (phone segmentation)\n",
    "lab_shift = read_feature_args['f_shift'] * read_feature_args['sample_rate']\n",
    "example_phn = pyspch.timit.read_seg_file(setup.label_path + example + \".phn\", fmt=\"float32\")\n",
    "example_lab = pyspch.seg2lbls(example_phn, lab_shift)\n",
    "example_lab = [lab2lab[lbl] for lbl in example_lab]\n",
    "example_idx = [lab2idx[lbl] for lbl in example_lab] # target\n",
    "\n",
    "# audio\n",
    "example_audio, _ = pyspch.audio.load(root_url + 'audio/' + example + \".wav\", sample_rate=lab_shift)\n",
    "\n",
    "# feature + modification + splicing\n",
    "example_feature = np.load(pyspch.read_fobj(setup.feature_path + example + '.npy'))\n",
    "example_mod = pyspch.sp.feature_extraction(spg=example_feature, **modify_feature_args)\n",
    "example_spliced = pyspch.sp.splice_frames(example_mod, setup.sampler_args['N'], setup.sampler_args['stride']) # input\n",
    "\n",
    "# tensor\n",
    "example_X = torch.tensor(example_spliced).T.float().to(device)\n",
    "example_y = torch.tensor(example_idx).long().to(device)"
   ]
  },
  {
   "cell_type": "code",
   "execution_count": null,
   "metadata": {},
   "outputs": [],
   "source": [
    "# output for single example utterance \n",
    "example_yp = model(example_X) # log probs\n",
    "example_yp = torch.nn.Softmax(dim=1)(example_yp) # probs"
   ]
  },
  {
   "cell_type": "code",
   "execution_count": null,
   "metadata": {},
   "outputs": [
    {
     "data": {
      "image/png": "[encoded data removed]",
      "text/plain": [
       "<SpchFig size 864x432 with 1 Axes>"
      ]
     },
     "metadata": {},
     "output_type": "display_data"
    }
   ],
   "source": [
    "pyspch.display.PlotSpg(spgdata=example_feature, segspg=example_phn)"
   ]
  },
  {
   "cell_type": "markdown",
   "metadata": {},
   "source": [
    "#### Model write/read"
   ]
  },
  {
   "cell_type": "code",
   "execution_count": null,
   "metadata": {},
   "outputs": [],
   "source": [
    "# write checkpoint\n",
    "model_file = \"model_eval.pt\"\n",
    "pyspch.nn.write_checkpoint(model_file, setup, lab2idx, model, optimizer, scheduler)\n",
    "\n",
    "# read checkpoint\n",
    "model_setup, lab2idx, model, criterion, optimizer, scheduler = pyspch.nn.read_checkpoint(model_file, device)\n",
    "model = pyspch.nn.get_model(model_setup['model_args'])\n",
    "\n",
    "# test model \n",
    "# -- new setup\n",
    "new_setup = setup.copy()\n",
    "new_setup.update(model_setup)\n",
    "new_setup = dotdict(new_setup)\n",
    "\n",
    "# feature arguments\n",
    "feature_path = root_url + 'features/mel24/'\n",
    "read_feature_args = pyspch.read_json(new_setup.feature_path + 'feature_args.json')\n",
    "modify_feature_args = pyspch.dct_diff(read_feature_args, new_setup.feature_args)\n",
    "\n",
    "# Data\n",
    "dummy_df = pd.read_pickle(new_setup.train_pickle_file)\n",
    "dummy_data = pyspch.nn.DataFrame_to_SpchData(dummy_df, delete_df=True)\n",
    "dummy_data = dummy_data.subset(train_corpus)\n",
    "dummy_data.modify_features(modify_feature_args)\n",
    "dummy_data.lengths = dummy_data.get_length('features')\n",
    "\n",
    "# SpchDataset\n",
    "labels = pyspch.timit.get_timit_alphabet(new_setup.labset_out)\n",
    "lab2lab = pyspch.timit.get_timit_mapping(new_setup.labset_in, new_setup.labset_out) \n",
    "dummy_ds = pyspch.nn.SpchDataset(dummy_data.corpus, dummy_data.features, dummy_data.labels)\n",
    "dummy_ds.map_target(lab2lab)\n",
    "dummy_ds.encode_target(lab2idx)\n",
    "dummy_ds.to_tensor()\n",
    "dummy_ds.set_sampler(dummy_data.lengths, new_setup.sampler_args)\n",
    "\n",
    "# device\n",
    "model.to(device)\n",
    "dummy_ds.to_device(device)"
   ]
  },
  {
   "cell_type": "code",
   "execution_count": null,
   "metadata": {},
   "outputs": [
    {
     "name": "stdout",
     "output_type": "stream",
     "text": [
      "PER 0.98 \n",
      "CEL 4.29\n"
     ]
    },
    {
     "data": {
      "image/png": "[encoded data removed]",
      "text/plain": [
       "<Figure size 288x288 with 1 Axes>"
      ]
     },
     "metadata": {},
     "output_type": "display_data"
    },
    {
     "data": {
      "text/plain": [
       "(<Figure size 288x288 with 1 Axes>,\n",
       " <AxesSubplot:title={'center':'Confusion Matrix\\n'}, xlabel='Predicted', ylabel='True'>)"
      ]
     },
     "metadata": {},
     "output_type": "display_data"
    }
   ],
   "source": [
    "# evaluate\n",
    "loss = pyspch.nn.evaluate(model, test_dl, criterion)\n",
    "cm = pyspch.nn.evaluate_cm(model, test_dl) \n",
    "per, per_pc = pyspch.nn.cm2per(cm)\n",
    "print(\"PER %.2f \" % (per))\n",
    "print(\"CEL %.2f\" % loss)\n",
    "pyspch.plot_confusion_matrix(cm, labels, annot=False)"
   ]
  },
  {
   "cell_type": "code",
   "execution_count": null,
   "metadata": {},
   "outputs": [
    {
     "name": "stderr",
     "output_type": "stream",
     "text": [
      "INFO:root:start training\n"
     ]
    },
    {
     "name": "stdout",
     "output_type": "stream",
     "text": [
      " 1461 training examples, 146 validation files\n"
     ]
    },
    {
     "name": "stderr",
     "output_type": "stream",
     "text": [
      "INFO:root:Epoch 10 -- av. train loss per mini-batch 3.39\n",
      "INFO:root:\t -- av. validation loss per mini-batch 3.24\n",
      "INFO:root:Epoch 11 -- av. train loss per mini-batch 3.13\n",
      "INFO:root:\t -- av. validation loss per mini-batch 3.04\n",
      "INFO:root:Epoch 12 -- av. train loss per mini-batch 2.83\n",
      "INFO:root:\t -- av. validation loss per mini-batch 2.60\n",
      "INFO:root:Epoch 13 -- av. train loss per mini-batch 2.54\n",
      "INFO:root:\t -- av. validation loss per mini-batch 2.57\n",
      "INFO:root:Epoch 14 -- av. train loss per mini-batch 2.25\n",
      "INFO:root:\t -- av. validation loss per mini-batch 2.47\n",
      "INFO:root:Epoch 15 -- av. train loss per mini-batch 1.99\n",
      "INFO:root:\t -- av. validation loss per mini-batch 2.23\n",
      "INFO:root:Epoch 16 -- av. train loss per mini-batch 1.79\n",
      "INFO:root:\t -- av. validation loss per mini-batch 1.97\n",
      "INFO:root:Epoch 17 -- av. train loss per mini-batch 1.59\n",
      "INFO:root:\t -- av. validation loss per mini-batch 1.94\n",
      "INFO:root:Epoch 18 -- av. train loss per mini-batch 1.46\n",
      "INFO:root:\t -- av. validation loss per mini-batch 1.90\n",
      "INFO:root:Epoch 19 -- av. train loss per mini-batch 1.36\n",
      "INFO:root:\t -- av. validation loss per mini-batch 1.79\n"
     ]
    }
   ],
   "source": [
    "# continued training\n",
    "training_args = new_setup.training_args\n",
    "\n",
    "# criterion + optimizer + learning rate-scheduler\n",
    "criterion = pyspch.nn.get_criterion(training_args)\n",
    "optimizer = pyspch.nn.get_optimizer(training_args, model) \n",
    "scheduler = pyspch.nn.get_scheduler(training_args, optimizer)\n",
    "\n",
    "# validation set (split fraction from train set)\n",
    "valid_ds, actual_train_ds = train_ds.split(training_args['val_frac'], training_args['val_seed'])\n",
    "if valid_ds: print(\" %d training examples, %d validation files\" % (len(train_ds), len(valid_ds)))    \n",
    "    \n",
    "# dataloader (train set)\n",
    "train_dl = torch.utils.data.DataLoader(actual_train_ds, \n",
    "    batch_size=training_args['batch_size'],\n",
    "    shuffle=training_args['shuffle'], \n",
    "    num_workers=training_args['num_workers'])\n",
    "\n",
    "# dataloader (validation set)\n",
    "if valid_ds is None:\n",
    "    valid_dl = None\n",
    "else:\n",
    "    valid_dl = torch.utils.data.DataLoader(valid_ds, \n",
    "        batch_size=training_args['batch_size'],\n",
    "        shuffle=training_args['shuffle'], \n",
    "        num_workers=training_args['num_workers'])\n",
    "\n",
    "# test logging\n",
    "logging.info(\"start training\")\n",
    "\n",
    "# train model \n",
    "current_epoch = setup.current_epoch\n",
    "print_every = setup.print_every\n",
    "clip_args = training_args['clip_args']\n",
    "training_args['n_epoch'] = 10\n",
    "\n",
    "# train\n",
    "tr_loss, val_loss, last_epoch = pyspch.nn.train(model, train_dl, criterion, optimizer, \n",
    "    clip_args=clip_args, scheduler=scheduler,\n",
    "    current_epoch=current_epoch, n_epochs=training_args['n_epoch'],\n",
    "    valid_dl=valid_dl, patience=training_args['patience'], \n",
    "    every=print_every)\n",
    "\n",
    "setup.current_epoch = last_epoch"
   ]
  }
 ],
 "metadata": {
  "language_info": {
   "name": "python"
  },
  "orig_nbformat": 4
 },
 "nbformat": 4,
 "nbformat_minor": 2
}
