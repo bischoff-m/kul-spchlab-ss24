{
 "cells": [
  {
   "cell_type": "markdown",
   "metadata": {},
   "source": [
    "# Speech Analysis\n",
    "\n",
    "+ ###### Author: Dirk Van Compernolle   \n",
    "+ ###### Modification History: 12/12/2023\n",
    "+ ###### Requires:  pyspch>=0.7\n",
    "\n",
    "This notebook contains a collection of interactive, versatile speech analysis tools.\n",
    "It is ment to be a generic workbench giving access to various spectral analysis tools in the pyspch package.\n",
    "Hence as a user you will not run this notebook cell by cell, but just select the tool(s) that you want to work with.\n",
    "\n",
    "#### Tools  \n",
    "1) **Spectrogram** with options for mel spectrogram and cepstral analysis\n",
    "2) **Spectrogram + Spectral Slice**: similar as above, but with a slider showing spectral slices\n",
    "3) **Recorder** "
   ]
  },
  {
   "cell_type": "code",
   "execution_count": 1,
   "metadata": {},
   "outputs": [
    {
     "data": {
      "text/html": [
       "\n",
       "<style>\n",
       "    div#notebook-container    { width: 95%; }\n",
       "    div#menubar-container     { width: 65%; }\n",
       "    div#maintoolbar-container { width: 99%; }\n",
       "</style>\n"
      ],
      "text/plain": [
       "<IPython.core.display.HTML object>"
      ]
     },
     "metadata": {},
     "output_type": "display_data"
    }
   ],
   "source": [
    "# uncomment the pip install command to install pyspch -- it is required!\n",
    "#\n",
    "#!pip install git+https://github.com/compi1234/pyspch.git\n",
    "#\n",
    "try:\n",
    "    import pyspch\n",
    "except ModuleNotFoundError:\n",
    "    try:\n",
    "        print(\n",
    "        \"\"\"\n",
    "        To enable this notebook on platforms as Google Colab, \n",
    "        install the pyspch package and dependencies by running following code:\n",
    "\n",
    "        !pip install git+https://github.com/compi1234/pyspch.git\n",
    "        \"\"\"\n",
    "        )\n",
    "    except ModuleNotFoundError:\n",
    "        raise\n",
    "\n",
    "# Do the imports #\n",
    "##################\n",
    "#\n",
    "%matplotlib qt\n",
    "import os,sys \n",
    "import numpy as np\n",
    "import pandas as pd\n",
    "from IPython.display import display, Audio, HTML\n",
    "import matplotlib.pyplot as plt\n",
    "#   \n",
    "import pyspch.sp as Sps\n",
    "import pyspch.core as Spch\n",
    "import pyspch.display as Spd\n",
    "# make notebook cells stretch over the full screen\n",
    "display(HTML(data=\"\"\"\n",
    "<style>\n",
    "    div#notebook-container    { width: 95%; }\n",
    "    div#menubar-container     { width: 65%; }\n",
    "    div#maintoolbar-container { width: 99%; }\n",
    "</style>\n",
    "\"\"\"))"
   ]
  },
  {
   "cell_type": "markdown",
   "metadata": {
    "editable": true,
    "slideshow": {
     "slide_type": ""
    },
    "tags": []
   },
   "source": [
    "## Spectrogram GUI\n",
    "\n",
    "**iSpectrogram** is a GUI that lets you visualize various spectral representations including Fourier Spectrum, Mel spectrum and cepstrum or mel-cepstrum.\n",
    "The parameters of the spectral analysis can be modified in an interactive way.\n",
    "\n",
    "### Parameters\n",
    "- RHS (boolean)  defines the screen layout\n",
    "    1. RHS=False (default): standard spectrogram view\n",
    "    2. RHS=True spectrogam view combined with spectral slice view (frame to be selected with a slider); to select this view, add argument \"RHS=True\" when calling   \n",
    "- figwidth (in inch): default=12.0, this may need to be adjusted in function of your screen properties\n",
    "- dpi (default=100): this default is OK for most screens\n",
    "\n",
    "### GUI controls\n",
    "- frame shift (in msec): default=10.0\n",
    "- frame length (in msec): default=25.0\n",
    "- preemphasis: default=0.97 (range: 0.0 - 1.0)\n",
    "- mel spectrogram view: checkbox\n",
    "- cepstral view: checkbox  (if mel spectrogram box is checked, MFCCs are shown otherwise the cepstrum obtained from the Fourier Spectrum)\n",
    "- number of mel bands: default=80\n",
    "- number of cepstral coefficients: default=12\n",
    "\n",
    "*KNOWN LIMITATIONS*:\n",
    "- The slider may for certain settings not perfectly align with the spectrogram\n",
    "- Interaction can be sluggish when \"sliding\" the slider, better is to \"click\" the intended location\n",
    "- When changing a text field: put your cursor at the end of the text and hit enter to signal your modification to the GUI !  \n"
   ]
  },
  {
   "cell_type": "code",
   "execution_count": 6,
   "metadata": {
    "editable": true,
    "slideshow": {
     "slide_type": ""
    },
    "tags": []
   },
   "outputs": [
    {
     "data": {
      "application/vnd.jupyter.widget-view+json": {
       "model_id": "812286bc8ade447689ee31dc76dc07b2",
       "version_major": 2,
       "version_minor": 0
      },
      "text/plain": [
       "iSpectrogram(children=(HBox(children=(VBox(children=(Output(layout=Layout(height='95%')), FloatSlider(value=0.…"
      ]
     },
     "execution_count": 6,
     "metadata": {},
     "output_type": "execute_result"
    }
   ],
   "source": [
    "Spd.iSpectrogram(figwidth=15,RHS=True,seg_pane=0)                 "
   ]
  },
  {
   "cell_type": "code",
   "execution_count": 3,
   "metadata": {},
   "outputs": [
    {
     "data": {
      "text/plain": [
       "tuple"
      ]
     },
     "execution_count": 3,
     "metadata": {},
     "output_type": "execute_result"
    }
   ],
   "source": [
    "times = (0.,1.)\n",
    "type(times)"
   ]
  },
  {
   "cell_type": "code",
   "execution_count": 4,
   "metadata": {},
   "outputs": [],
   "source": [
    "from ipywidgets import widgets\n",
    "wg = widgets.FloatRangeSlider(\n",
    "    value=[5, 7.5],\n",
    "    min=0,\n",
    "    max=10.0,\n",
    "    step=0.1,\n",
    "    description='Test:',\n",
    "    disabled=False,\n",
    "    continuous_update=False,\n",
    "    orientation='horizontal',\n",
    "    readout=True,\n",
    "    readout_format='.1f',\n",
    ")"
   ]
  },
  {
   "cell_type": "code",
   "execution_count": 5,
   "metadata": {},
   "outputs": [
    {
     "name": "stdout",
     "output_type": "stream",
     "text": [
      "<class 'tuple'>\n",
      "<class 'tuple'> <class 'list'>\n"
     ]
    }
   ],
   "source": [
    "print(type(wg.value))\n",
    "wg.value = [0.,1.]\n",
    "a = list(wg.value) # [wg.value[0], wg.value[1] ]\n",
    "print(type(wg.value),type(a))"
   ]
  },
  {
   "cell_type": "code",
   "execution_count": 6,
   "metadata": {},
   "outputs": [
    {
     "data": {
      "application/vnd.jupyter.widget-view+json": {
       "model_id": "1438e4d3a8f642d48a69d38747b05d6c",
       "version_major": 2,
       "version_minor": 0
      },
      "text/plain": [
       "FloatRangeSlider(value=(0.0, 1.0), continuous_update=False, description='Test:', max=10.0, readout_format='.1f…"
      ]
     },
     "execution_count": 6,
     "metadata": {},
     "output_type": "execute_result"
    }
   ],
   "source": [
    "wg"
   ]
  },
  {
   "cell_type": "markdown",
   "metadata": {},
   "source": [
    "## Suggested Exercises\n",
    "\n",
    "### Examining the SLIDING WINDOW approach\n",
    "\n",
    "Any spectrogram or spectral slice is obtained by analyzing in long signal in successive short frames, a so called sliding window approach.\n",
    "This sliding window should not be too short, not too long, not too much overlap, ....\n",
    "\n",
    "The default parameters are shift=10msec, length=25msec, preemphasis=.97\n",
    "    + describe what you observe when deviating from the defaults\n",
    "    + for what parameters and in what way does the spectrogram deviate from speech perception ?\n",
    "    + choose as frame_length 10, 30, 50, 100 msec. Which values would you describe as good, acceptable, not acceptible and why ?\n",
    "    + choose as frame_shift 5,10, 20 msec. Which values would you describe as good, acceptable, not acceptable and why ?\n",
    "    + Have you discovered the Heisenberg principle for speech ?\n",
    "\n",
    "The interactive spectrogram visualizes speech in the time-frequency domain.\n",
    "Some form of time-frequency analysis is the first processing step in the human auditory system in equally so\n",
    "in speech recognition systems.\n",
    " \n",
    "A Fourier Spectrogram is obtained by letting a sliding window make short time spectra and by viewing this in a 2D heatmap\n",
    "we may see which frequencies are present at which moment in time.  \n",
    "\n",
    "In this notebook we focus on elementary usage\n",
    "\n",
    "- as a popular Time-Frequency view of speech and audio signals in which we may discover the cognitive relevant elements (sounds, acoustic events, ... )\n",
    "- where we want to create a visual impression that is consistent with our auditory perception.\n",
    " \n",
    "\n",
    "\n",
    "### Instructions\n",
    "- You should use\n",
    "> Spd.iSpectrogram()   \n",
    "which is equivalent to calling it with parameters:     \n",
    "> Spd.iSpectrogram(figwidth=12, dpi=120)     \n",
    "\n",
    "On most graphic card / displays these parameters will work fine.\n",
    "If on your display you observe a bad mismatch between character sizes in the UI and detail in the figures, then you can try to modify the default settings.   \n",
    "If sliders don't align well with plots,\n",
    "you may also need to adjust the size of your window. \n",
    "\n",
    "#### Audio and Segmentation File Input\n",
    "Suggested Files to choose from:     \n",
    "( in root directory: 'https://homes.esat.kuleuven.be/~spchlab/data/'):   \n",
    "- misc/friendly.wav  ... a 1 second speech fragment\n",
    "- misc/train.wav     ... a train whistle\n",
    "- timit/audio/train/dr1/fcfj0/si1027.wav   ... an example sentence from the TIMIT corpus\n",
    "\n",
    "#### Segmentations\n",
    "For the example speech files a number of segmentations are available (not all for each example). You can display them by entering the filename in the appropriate field.\n",
    "They just have different extensions: \".gra\" for grapheme or letter ,\n",
    "\".phn\" for phone, \".syl\" for syllable and \".wrd\" for word   \n",
    "Be aware that the segmentations may look slightly different in the waveform plot vs. spectrogram plot as segmentations that are given in msec's are rounded to the sample level in the first plot and to the frame level in the second one \n"
   ]
  },
  {
   "cell_type": "markdown",
   "metadata": {
    "tags": []
   },
   "source": [
    "## Exercise 1: Phonetic Segmentations\n",
    "\n",
    "1. setting up:\n",
    "    + work with iSpectrogram()\n",
    "    + load friendly.wav and load also the phonetic segmentation in friendly.phn (or graphemic friendly.gra)\n",
    "    + set your audio at a comfortable loudness when you play the sentence\n",
    "2. focus on the first word 'friendly', evaluate the segmentations, listen and comment\n",
    "    + 'f-r-ie-n-d-l-iy'\n",
    "    + 'ie-n-d-l-iy' \n",
    "    + 'f' and 'f-r'\n",
    "    + what was your most striking observation\n",
    "    + to what extent do you agree with the given segmentation, based on perception, based on time waveform and based on spectrogram ?\n",
    "\n",
    "## Exercise 2: Spectrogram Parameters\n",
    "\n",
    "1. setting up:\n",
    "    + work with iSpectrogram()\n",
    "    + load again misc/friendly.was with its phonetic transcript (or some other speech wavfile)\n",
    "    + use sliders to select small segments and listen to them to verify the phonetic transcript\n",
    "2. \n"
   ]
  },
  {
   "cell_type": "code",
   "execution_count": null,
   "metadata": {},
   "outputs": [],
   "source": []
  }
 ],
 "metadata": {
  "kernelspec": {
   "display_name": "Python 3 (ipykernel)",
   "language": "python",
   "name": "python3"
  },
  "language_info": {
   "codemirror_mode": {
    "name": "ipython",
    "version": 3
   },
   "file_extension": ".py",
   "mimetype": "text/x-python",
   "name": "python",
   "nbconvert_exporter": "python",
   "pygments_lexer": "ipython3",
   "version": "3.10.13"
  },
  "widgets": {
   "application/vnd.jupyter.widget-state+json": {
    "state": {},
    "version_major": 2,
    "version_minor": 0
   }
  }
 },
 "nbformat": 4,
 "nbformat_minor": 4
}
