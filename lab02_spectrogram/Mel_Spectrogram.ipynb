{
 "cells": [
  {
   "cell_type": "markdown",
   "metadata": {},
   "source": [
    "# Mel Spectrograms for Speech Analysis\n",
    "\n",
    "+ ###### Author: Dirk Van Compernolle   \n",
    "+ ###### Modification History:   1/1/2020, 11/02/2023, 23/11/2023\n",
    "+ ###### Requires:  pyspch>=0.7"
   ]
  },
  {
   "cell_type": "code",
   "execution_count": null,
   "metadata": {},
   "outputs": [],
   "source": [
    "# uncomment the pip install command to install pyspch -- it is required!\n",
    "#\n",
    "#!pip install git+https://github.com/compi1234/pyspch.git\n",
    "#\n",
    "try:\n",
    "    import pyspch\n",
    "except ModuleNotFoundError:\n",
    "    try:\n",
    "        print(\n",
    "        \"\"\"\n",
    "        To enable this notebook on platforms as Google Colab, \n",
    "        install the pyspch package and dependencies by running following code:\n",
    "\n",
    "        !pip install git+https://github.com/compi1234/pyspch.git\n",
    "        \"\"\"\n",
    "        )\n",
    "    except ModuleNotFoundError:\n",
    "        raise"
   ]
  },
  {
   "cell_type": "code",
   "execution_count": 1,
   "metadata": {},
   "outputs": [
    {
     "ename": "ModuleNotFoundError",
     "evalue": "No module named 'pyspch.display_dec2'",
     "output_type": "error",
     "traceback": [
      "\u001b[1;31m---------------------------------------------------------------------------\u001b[0m",
      "\u001b[1;31mModuleNotFoundError\u001b[0m                       Traceback (most recent call last)",
      "Cell \u001b[1;32mIn[1], line 14\u001b[0m\n\u001b[0;32m     12\u001b[0m \u001b[38;5;28;01mimport\u001b[39;00m \u001b[38;5;21;01mpyspch\u001b[39;00m\u001b[38;5;21;01m.\u001b[39;00m\u001b[38;5;21;01msp\u001b[39;00m \u001b[38;5;28;01mas\u001b[39;00m \u001b[38;5;21;01mSps\u001b[39;00m\n\u001b[0;32m     13\u001b[0m \u001b[38;5;28;01mimport\u001b[39;00m \u001b[38;5;21;01mpyspch\u001b[39;00m\u001b[38;5;21;01m.\u001b[39;00m\u001b[38;5;21;01mcore\u001b[39;00m \u001b[38;5;28;01mas\u001b[39;00m \u001b[38;5;21;01mSpch\u001b[39;00m\n\u001b[1;32m---> 14\u001b[0m \u001b[38;5;28;01mimport\u001b[39;00m \u001b[38;5;21;01mpyspch\u001b[39;00m\u001b[38;5;21;01m.\u001b[39;00m\u001b[38;5;21;01mdisplay_dec2\u001b[39;00m \u001b[38;5;28;01mas\u001b[39;00m \u001b[38;5;21;01mSpd\u001b[39;00m\n\u001b[0;32m     15\u001b[0m \u001b[38;5;28;01mimport\u001b[39;00m \u001b[38;5;21;01mmatplotlib\u001b[39;00m\u001b[38;5;21;01m.\u001b[39;00m\u001b[38;5;21;01mpyplot\u001b[39;00m \u001b[38;5;28;01mas\u001b[39;00m \u001b[38;5;21;01mplt\u001b[39;00m\n\u001b[0;32m     16\u001b[0m \u001b[38;5;66;03m# make notebook cells stretch over the full screen\u001b[39;00m\n",
      "\u001b[1;31mModuleNotFoundError\u001b[0m: No module named 'pyspch.display_dec2'"
     ]
    }
   ],
   "source": [
    "# Do the imports #\n",
    "##################\n",
    "#\n",
    "%matplotlib inline\n",
    "import os,sys \n",
    "import numpy as np\n",
    "import pandas as pd\n",
    "from IPython.display import display, Audio, HTML\n",
    "import ipywidgets as widgets\n",
    "from ipywidgets import interact, interactive, Layout, HBox, VBox\n",
    "#   \n",
    "import pyspch.sp as Sps\n",
    "import pyspch.core as Spch\n",
    "import pyspch.display as Spd\n",
    "import matplotlib.pyplot as plt\n",
    "# make notebook cells stretch over the full screen\n",
    "display(HTML(data=\"\"\"\n",
    "<style>\n",
    "    div#notebook-container    { width: 95%; }\n",
    "    div#menubar-container     { width: 65%; }\n",
    "    div#maintoolbar-container { width: 99%; }\n",
    "</style>\n",
    "\"\"\"))"
   ]
  },
  {
   "cell_type": "markdown",
   "metadata": {},
   "source": [
    "## The Mel Spectrogram\n",
    "\n",
    "+ for a readup on the mel-scale, it is advised to run [mel_scale.ipynb notebook](mel_scale.ipynb) in this folder first.\n",
    "+ The most important info is summarized below\n",
    "    - The mel scale provides a mapping between Hz and mel which is indicative for the non linear frequency axis of human hearing.  There are a number of almost equivalent transformation in use.  Our software uses the librosa default which is the same as the 'Slaney' mapping below.\n",
    "      <img src=mel_scale.png>\n",
    "    - By using a **mel filterbank** we can transform a Fourier spectrum into a **mel spectrum**.  In the example below we show an 80 channel filterbank for usage with 16kHz wide band speech.\n",
    "    <img src=\"mel_filterbank80_cf.png\">\n",
    "    <img src=\"mel_filterbank80_filt.png\">\n",
    "\n",
    "+ The resolution of a mel spectrogram is defined by the number of mel filterbanks (and obviously also on available bandwidth given the sampling rate). Grosso modo we distinguish two scenarios:\n",
    "    - a **critical band** mel filterbank: the bands are roughly \"one mel\" wide; which is the minimal filterbank that will preserve spectral envelope well, but due its low resolution pitch information will be largely lost.   \n",
    "        - Recommended number of channels: *20(8kHz), 24(16kHz)*  \n",
    "    - a **high resolution** mel filterbank: will maintain both pitch and spectral envelope information, it performs merely spectral warping onto the mel scale.\n",
    "        - Recommended number of channels: *64(8kHz), 80(16kHz)*  "
   ]
  },
  {
   "cell_type": "markdown",
   "metadata": {},
   "source": [
    "### Demo 1\n",
    "This simply shows a critical band mel spectrogram together with a high resolution mel spectrogram"
   ]
  },
  {
   "cell_type": "code",
   "execution_count": null,
   "metadata": {},
   "outputs": [],
   "source": [
    "# read a datafile\n",
    "dir='https://homes.esat.kuleuven.be/~spchlab/data/'\n",
    "#file = \"timit/audio/train/dr1/fcjf0/si1027\" \n",
    "file = \"timit/audio/train/dr2/marc0/sa1\"\n",
    "file = \"misc/friendly\"\n",
    "wavfile = dir+file+\".wav\" \n",
    "wavdata, sr = Spch.audio.load(wavfile)\n",
    "\n",
    "# compute a standard spectrogram and a low and high resolution mel spectrogram\n",
    "nmels_lr = 24 if sr>8000 else 20\n",
    "nmels_hr = 80 if sr>8000 else 64\n",
    "spg = Sps.spectrogram(wavdata,sample_rate=sr,n_mels=None)\n",
    "spg_mel_hr = Sps.spectrogram(wavdata,sample_rate=sr,n_mels=nmels_hr)\n",
    "spg_mel_lr = Sps.spectrogram(wavdata,sample_rate=sr,n_mels=nmels_lr)\n",
    "label_lr = \"mel \"+str(nmels_lr)\n",
    "label_hr = \"mel \"+str(nmels_hr)\n",
    "#Spd.PlotSpg(wavdata=wavdata,spgdata=spg,sample_rate=sr,figsize=(14,10))\n",
    "Spd.PlotSpgFtrs(wavdata=wavdata,spgdata=spg,img_ftrs=[spg_mel_hr,spg_mel_lr],img_labels=[label_hr,label_lr],sample_rate=sr,figsize=(14,10))"
   ]
  },
  {
   "cell_type": "markdown",
   "metadata": {},
   "source": [
    "## Exercises\n",
    "\n",
    "You are provided with an interactive setup in which you can\n",
    "- choose from different input files (both 8kHz and 16kHz samples are provided)\n",
    "- set the number of channels in the mel filterbank\n",
    "\n",
    "In a second interactive setup (iSpectrogram2()) you are provided with a GUI that lets you view individual frames in detail.\n",
    "Consider using that GUI if you feel that you need that level of detail to answer certain of the questions below.\n",
    "\n",
    "#### Questions\n",
    "\n",
    "+ How does the regular (Fourier) spectrogram compare with the mel spectrogram ?\n",
    "    - think about psychoacoustics, source-filter model, ...\n",
    "+ How does the mel spectrogram change visualy when you reduce the number of mel filterbanks from 80 to 24 to less than 10  ?\n",
    "+ What seems the be the benefit of the mel spectrogram vs. a Fourier spectrogram\n",
    "+ Are your responses dependent on the input sample (male vs female, 8kHz vs. 16kHz sampling rate, ... ) ?\n",
    "+ Find the tuning frequency of the middle channel of your filterbank \n",
    "    + can estimate this by visual observation of spectrograms ?\n",
    "    + is this frequency equal, lower or higher than sampling_rate/4 ?  (A standard spectrogram shows content from 0Hz to Nyquist (=sampling_rate/2) )\n",
    "    + is the answer dependent on the choice for critical bands or high resolution ?"
   ]
  },
  {
   "cell_type": "code",
   "execution_count": null,
   "metadata": {},
   "outputs": [],
   "source": [
    "# our data directory to read from\n",
    "dir='https://homes.esat.kuleuven.be/~spchlab/data/'\n",
    "\n",
    "### Define spectrogram plot ###\n",
    "def spectrogram_plot(n_mels=24,file=\"misc/friendly.wav\"):\n",
    "    wavfile = dir+file\n",
    "    wavdata, sr = Spch.audio.load(wavfile)\n",
    "    spg = Sps.spectrogram(wavdata,sample_rate=sr,n_mels=None)\n",
    "    spg_mel = Sps.spectrogram(wavdata,sample_rate=sr,n_mels=n_mels)\n",
    "    fig = Spd.PlotSpgFtrs(wavdata=wavdata,spgdata=spg,img_ftrs=[spg_mel],img_labels=[\"MEL \"+str(n_mels)],sample_rate=sr,figsize=(14,8))\n",
    "    display(fig,Audio(data=wavdata,rate=sr))\n",
    "\n",
    "### GUI #####################\n",
    "#############################\n",
    "file_options = [\"misc/friendly.wav\",\"digits/15zz6a.wav\",\"coding/f1.wav\",\"misc/train.wav\",\n",
    "                \"misc/timit1.wav\",\"misc/timit2.wav\",\"timit/audio/train/dr2/marc0/sa1.wav\"]\n",
    "wg_file = widgets.Dropdown(options=file_options,value=\"misc/friendly.wav\",description=\"File Name\")\n",
    "#wg_file = widgets.Text(value=file,\n",
    "#                        description=\"Wav Filename: \",continuous_update=False,layout=Layout(width='98%'))\n",
    "wg_mels=widgets.IntSlider(value=24,min=4,max=128,step=4,\n",
    "                            continous_update=False,description=\"n_mels\",\n",
    "                                  orientation = 'horizontal') #,width='50%', style={'description_width':'20%'})\n",
    "output = widgets.interactive_output(spectrogram_plot,{'n_mels':wg_mels,'file':wg_file})\n",
    " \n",
    "wg_instructions = widgets.HTML(\n",
    "    \"<b>MEL SPECTROGRAM</b><br> \\\n",
    "    Move the n_mels Slider to control the number of filters to be used in the Mel Filterbank<br>\\\n",
    "    Check the 'mel'-box to work with mel-spectrograms\")\n",
    "\n",
    "ui = VBox([ wg_instructions, VBox([wg_file,wg_mels],layout=Spd.box_layout(width='100%',border='',align_items='flex-start'))],\n",
    "          layout=Spd.box_layout(width='100%',padding='10px'))\n",
    "\n",
    "# Run the GUI\n",
    "display(VBox([ui, output]))"
   ]
  },
  {
   "cell_type": "markdown",
   "metadata": {},
   "source": [
    "## GUI 2\n",
    "\n",
    "This GUI provides a few extra's:\n",
    "- you are given a slider that lets you highlight single frames in the right hand pane\n",
    "- apart from the number of channels in the mel filterbank, you can also adjust the parameters of the FFT"
   ]
  },
  {
   "cell_type": "code",
   "execution_count": null,
   "metadata": {},
   "outputs": [],
   "source": [
    "Spd.iSpectrogram2(figwidth=12,fname='coding/f2.wav',MELFB=True)     "
   ]
  },
  {
   "cell_type": "code",
   "execution_count": null,
   "metadata": {},
   "outputs": [],
   "source": []
  },
  {
   "cell_type": "code",
   "execution_count": null,
   "metadata": {},
   "outputs": [],
   "source": []
  }
 ],
 "metadata": {
  "kernelspec": {
   "display_name": "Python 3 (ipykernel)",
   "language": "python",
   "name": "python3"
  },
  "language_info": {
   "codemirror_mode": {
    "name": "ipython",
    "version": 3
   },
   "file_extension": ".py",
   "mimetype": "text/x-python",
   "name": "python",
   "nbconvert_exporter": "python",
   "pygments_lexer": "ipython3",
   "version": "3.10.13"
  },
  "widgets": {
   "application/vnd.jupyter.widget-state+json": {
    "state": {},
    "version_major": 2,
    "version_minor": 0
   }
  }
 },
 "nbformat": 4,
 "nbformat_minor": 4
}
