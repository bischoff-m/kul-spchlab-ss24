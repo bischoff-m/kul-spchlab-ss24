{
 "cells": [
  {
   "cell_type": "markdown",
   "metadata": {},
   "source": [
    "# Spectrograms for Human Speech Analysis\n",
    "\n",
    "+ Author: Dirk Van Compernolle   \n",
    "+ History:   \n",
    "    - 5/10/2021: Created"
   ]
  },
  {
   "cell_type": "code",
   "execution_count": 1,
   "metadata": {},
   "outputs": [],
   "source": [
    "# uncomment the pip install command to install pyspch -- it is required!\n",
    "#\n",
    "#!pip install git+https://github.com/compi1234/pyspch.git\n",
    "#\n",
    "try:\n",
    "    import pyspch\n",
    "except ModuleNotFoundError:\n",
    "    try:\n",
    "        print(\n",
    "        \"\"\"\n",
    "        To enable this notebook on platforms as Google Colab, \n",
    "        install the pyspch package and dependencies by running following code:\n",
    "\n",
    "        !pip install git+https://github.com/compi1234/pyspch.git\n",
    "        \"\"\"\n",
    "        )\n",
    "    except ModuleNotFoundError:\n",
    "        raise"
   ]
  },
  {
   "cell_type": "code",
   "execution_count": 2,
   "metadata": {},
   "outputs": [
    {
     "data": {
      "text/html": [
       "\n",
       "<style>\n",
       "    div#notebook-container    { width: 95%; }\n",
       "    div#menubar-container     { width: 65%; }\n",
       "    div#maintoolbar-container { width: 99%; }\n",
       "</style>\n"
      ],
      "text/plain": [
       "<IPython.core.display.HTML object>"
      ]
     },
     "metadata": {},
     "output_type": "display_data"
    }
   ],
   "source": [
    "# Do the imports #\n",
    "##################\n",
    "#\n",
    "%matplotlib inline\n",
    "import os,sys \n",
    "import numpy as np\n",
    "import pandas as pd\n",
    "from IPython.display import display, Audio, HTML\n",
    "#   \n",
    "import pyspch.sp as Sps\n",
    "import pyspch.core as Spch\n",
    "import pyspch.display as Spd\n",
    "\n",
    "import matplotlib.pyplot as plt\n",
    "\n",
    "\n",
    "\n",
    "# make notebook cells stretch over the full screen\n",
    "display(HTML(data=\"\"\"\n",
    "<style>\n",
    "    div#notebook-container    { width: 95%; }\n",
    "    div#menubar-container     { width: 65%; }\n",
    "    div#maintoolbar-container { width: 99%; }\n",
    "</style>\n",
    "\"\"\"))"
   ]
  },
  {
   "cell_type": "markdown",
   "metadata": {},
   "source": [
    "### Purpose and Background\n",
    "\n",
    "Be sure to have run the exercises in Spectrograms_basics.ipynb first to familiarize yourself with the interactive spectrogram GUI.\n",
    "\n",
    "In this notebook we explore the spectrogram - and variants of it - very much in function of human speech recognition.   Some adaptations are suggested by our understanding of the humand hearing system.  And some of the features that we look at in the spectrogram are best understood from the source-filter model of speech production.\n",
    "\n",
    "A spectrogram can represent many views of which the Fourier spectrogram is just one.\n",
    "\n",
    "Possible spectral representations are:   \n",
    "**1. Fourier spectrogram**  \n",
    "  A Fourier Spectrogram is obtained by letting a sliding window make short time spectra and by viewing this in a 2D heatmap\n",
    "we may see which frequencies are present at which moment in time.  \n",
    "**2. mel spectrogram**  \n",
    "  The mel spectrogram applies warping on the frequency axis in line with the human auditory system.\n",
    "Roughly speaking the frequency axis is linear below 1kHz and logarithmically compressed above it.\n",
    "Today this is the most popular feature representation for speech recognition.  \n",
    "**3. MFCCs (mel frequency cepstral coefficients)**. \n",
    "  Mel frequency cepstral coefficients are obtained by applying a DFT to the mel spectrum, optionally followed by truncation\n",
    "to a handful of coefficients. \n",
    "MFCCs are popular because almost all information is concentrated in a a handful of low order coefficients, making them the most\n",
    "compact possible speech representation.  Moreover MFCCs are highly uncorrelated, making them well suited for mathematical modeling.\n",
    "While MFCCs have little to offer when abundant data / compute power is available (as is common these days),\n",
    "they are still interesting in compact systems. \n",
    " \n",
    "\n",
    "\n",
    "### Visualization Options\n",
    "- You have 2 slightly different versions of interactive spectrogram available.  \n",
    "> pyspch.interactive.iSpectrogram()  \n",
    "which just shows a traditional spectrogram with one or several spectral representations   \n",
    "or   \n",
    "> pyspch.interactive.iSpectrogram2()  \n",
    "which shows the spectrograms in the left hand side of your screen and adds a spectral slice view in the right hand side.\n",
    "\n",
    "- In most situations it is fine to call these without any parameters.  However, depending on your screen size and resolution some parts in the display may not align well.  If that is the case, first try to adjust you window size in which you are running Jupyter or otherwise try to adjust the figwidth parameter (default = 10)"
   ]
  },
  {
   "cell_type": "markdown",
   "metadata": {},
   "source": [
    "## Exercise 1: Mel Spectrogram\n",
    "\n",
    "#### Setup\n",
    "+ work with Spd.iSpectrogram2()\n",
    "+ load any speech waveform (suggestions: misc/expansionist.wav, misc/friendly.wav)\n",
    "+ for a readup on the mel-scale, check out [mel_scale.ipynb notebook](mel_scale.ipynb) in this folder use the plot in [mel_scale](mel_scale.png) as mapping reference\n",
    "+ add the mel spectrogram to your view (using default parameters, i.e. 80 bands)\n",
    "\n",
    "#### Questions\n",
    "+ How does the regular (Fourier) spectrogram compare with the mel spectrogram ?\n",
    "+ How does the mel spectrogram change visualy when you reduce the number of bands from 80 to 24 or lower ?"
   ]
  },
  {
   "cell_type": "markdown",
   "metadata": {},
   "source": [
    "## Exercise 2: Spectrogram: pitch and formants\n",
    "\n",
    "\n",
    "1. setting up:\n",
    "    + work with Spd.iSpectrogram2()\n",
    "    + load any speech waveform  (suggestions: misc/expansionist.wav, misc/friendly.wav)\n",
    "    + use default spectrogram parameters   \n",
    "    \n",
    "    \n",
    "2. Find pitch and formants in time and/or frequency domain\n",
    "    + put the range cursor in the middle of a vowel\n",
    "    + find pitch in three ways: time waveform, spectral slice, spectrogram: are your values consistent ?\n",
    "    + could you determine gender from the obtained pitch values\n",
    "    + find vowel identity by finding first and second formant and then looking up in formant tables   \n",
    "    \n",
    "    \n",
    "3. Pitch and formants in the mel spectrum\n",
    "    + for a readup on the mel-scale, check out [mel_scale.ipynb notebook](mel_scale.ipynb) in this folder use the plot in [mel_scale](mel_scale.png) as mapping reference\n",
    "    + add the mel spectrogram (and mel spectrum slice) to your view\n",
    "    + find the formants in the mel spectrum both for low resolution (nb=20-30) and high resolution (>80) mel filterbanks\n",
    "    + in which representation is finding formants easiest ?\n",
    "    + try to map formant frequencies to mel scale and filterbank channel (hint use a number of melbands equal to 30, 60 or 90 and "
   ]
  },
  {
   "cell_type": "code",
   "execution_count": 4,
   "metadata": {},
   "outputs": [
    {
     "data": {
      "application/vnd.jupyter.widget-view+json": {
       "model_id": "a453df2410b6401ba576274c4bdaf41b",
       "version_major": 2,
       "version_minor": 0
      },
      "text/plain": [
       "iSpectrogram2(children=(VBox(children=(HBox(children=(Output(layout=Layout(width='66.0%')), Output(layout=Layo…"
      ]
     },
     "execution_count": 4,
     "metadata": {},
     "output_type": "execute_result"
    }
   ],
   "source": [
    "Spd.iSpectrogram2(figwidth=12)     "
   ]
  }
 ],
 "metadata": {
  "kernelspec": {
   "display_name": "Python 3 (ipykernel)",
   "language": "python",
   "name": "python3"
  },
  "language_info": {
   "codemirror_mode": {
    "name": "ipython",
    "version": 3
   },
   "file_extension": ".py",
   "mimetype": "text/x-python",
   "name": "python",
   "nbconvert_exporter": "python",
   "pygments_lexer": "ipython3",
   "version": "3.8.3"
  },
  "widgets": {
   "application/vnd.jupyter.widget-state+json": {
    "state": {},
    "version_major": 2,
    "version_minor": 0
   }
  }
 },
 "nbformat": 4,
 "nbformat_minor": 4
}
