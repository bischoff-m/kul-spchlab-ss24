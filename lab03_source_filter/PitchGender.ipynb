{
 "cells": [
  {
   "cell_type": "markdown",
   "metadata": {},
   "source": [
    "## Pitch and Gender in the Hillenbrand database\n",
    "+ ###### Author: Dirk Van Compernolle   \n",
    "+ ###### Modification History:   17/02/2023\n",
    "+ ###### Requires:  pyspch>=0.7"
   ]
  },
  {
   "cell_type": "code",
   "execution_count": 1,
   "metadata": {
    "tags": []
   },
   "outputs": [],
   "source": [
    "# uncomment the pip install command to install pyspch -- it is required!\n",
    "#\n",
    "#!pip install git+https://github.com/compi1234/pyspch.git\n",
    "#\n",
    "try:\n",
    "    import pyspch\n",
    "except ModuleNotFoundError:\n",
    "    try:\n",
    "        print(\n",
    "        \"\"\"\n",
    "        To enable this notebook on platforms as Google Colab, \n",
    "        install the pyspch package and dependencies by running following code:\n",
    "\n",
    "        !pip install git+https://github.com/compi1234/pyspch.git\n",
    "        \"\"\"\n",
    "        )\n",
    "    except ModuleNotFoundError:\n",
    "        raise"
   ]
  },
  {
   "cell_type": "code",
   "execution_count": 2,
   "metadata": {
    "tags": []
   },
   "outputs": [],
   "source": [
    "# Importing some core Python libraries for data handling and plotting's baseline machine learning stack \n",
    "#\n",
    "%matplotlib inline\n",
    "import sys,os\n",
    "import numpy as np\n",
    "import matplotlib.pyplot as plt\n",
    "import matplotlib as mpl\n",
    "import pandas as pd\n",
    "import seaborn as sns\n",
    "import pyspch.core as Spch\n",
    "from pyspch.core.hillenbrand import fetch_hillenbrand, select_hillenbrand\n",
    "\n",
    "np.set_printoptions(precision=2)\n",
    "mpl.rcParams['figure.figsize'] = [8.0, 8.0]\n",
    "mpl.rcParams['font.size'] = 12\n",
    "mpl.rcParams['legend.fontsize'] = 'large'\n",
    "mpl.rcParams['figure.titlesize'] = 'large'"
   ]
  },
  {
   "cell_type": "markdown",
   "metadata": {
    "tags": []
   },
   "source": [
    "## 1. The Hillenbrand Database \n",
    "\n",
    "see the notebook on the VowelTriangle for more info on the database"
   ]
  },
  {
   "cell_type": "code",
   "execution_count": 5,
   "metadata": {
    "tags": []
   },
   "outputs": [
    {
     "name": "stdout",
     "output_type": "stream",
     "text": [
      "['ae' 'ah' 'aw' 'eh' 'ei' 'er' 'ih' 'iy' 'oa' 'oo' 'uh' 'uw']\n",
      "['b' 'g' 'm' 'w']\n",
      "['f0', 'F1', 'F2', 'F3']\n"
     ]
    },
    {
     "data": {
      "text/html": [
       "<div>\n",
       "<style scoped>\n",
       "    .dataframe tbody tr th:only-of-type {\n",
       "        vertical-align: middle;\n",
       "    }\n",
       "\n",
       "    .dataframe tbody tr th {\n",
       "        vertical-align: top;\n",
       "    }\n",
       "\n",
       "    .dataframe thead th {\n",
       "        text-align: right;\n",
       "    }\n",
       "</style>\n",
       "<table border=\"1\" class=\"dataframe\">\n",
       "  <thead>\n",
       "    <tr style=\"text-align: right;\">\n",
       "      <th></th>\n",
       "      <th>gender</th>\n",
       "      <th>vowel</th>\n",
       "      <th>f0</th>\n",
       "      <th>F1</th>\n",
       "      <th>F2</th>\n",
       "      <th>F3</th>\n",
       "    </tr>\n",
       "    <tr>\n",
       "      <th>fid</th>\n",
       "      <th></th>\n",
       "      <th></th>\n",
       "      <th></th>\n",
       "      <th></th>\n",
       "      <th></th>\n",
       "      <th></th>\n",
       "    </tr>\n",
       "  </thead>\n",
       "  <tbody>\n",
       "    <tr>\n",
       "      <th>m01ae</th>\n",
       "      <td>m</td>\n",
       "      <td>ae</td>\n",
       "      <td>174.0</td>\n",
       "      <td>663.0</td>\n",
       "      <td>2012.0</td>\n",
       "      <td>2659.0</td>\n",
       "    </tr>\n",
       "    <tr>\n",
       "      <th>m02ae</th>\n",
       "      <td>m</td>\n",
       "      <td>ae</td>\n",
       "      <td>102.0</td>\n",
       "      <td>628.0</td>\n",
       "      <td>1871.0</td>\n",
       "      <td>2477.0</td>\n",
       "    </tr>\n",
       "    <tr>\n",
       "      <th>m03ae</th>\n",
       "      <td>m</td>\n",
       "      <td>ae</td>\n",
       "      <td>99.0</td>\n",
       "      <td>605.0</td>\n",
       "      <td>1812.0</td>\n",
       "      <td>2570.0</td>\n",
       "    </tr>\n",
       "    <tr>\n",
       "      <th>m04ae</th>\n",
       "      <td>m</td>\n",
       "      <td>ae</td>\n",
       "      <td>124.0</td>\n",
       "      <td>627.0</td>\n",
       "      <td>1910.0</td>\n",
       "      <td>2488.0</td>\n",
       "    </tr>\n",
       "    <tr>\n",
       "      <th>m06ae</th>\n",
       "      <td>m</td>\n",
       "      <td>ae</td>\n",
       "      <td>115.0</td>\n",
       "      <td>647.0</td>\n",
       "      <td>1864.0</td>\n",
       "      <td>2561.0</td>\n",
       "    </tr>\n",
       "    <tr>\n",
       "      <th>...</th>\n",
       "      <td>...</td>\n",
       "      <td>...</td>\n",
       "      <td>...</td>\n",
       "      <td>...</td>\n",
       "      <td>...</td>\n",
       "      <td>...</td>\n",
       "    </tr>\n",
       "    <tr>\n",
       "      <th>g17uw</th>\n",
       "      <td>g</td>\n",
       "      <td>uw</td>\n",
       "      <td>236.0</td>\n",
       "      <td>490.0</td>\n",
       "      <td>2179.0</td>\n",
       "      <td>3131.0</td>\n",
       "    </tr>\n",
       "    <tr>\n",
       "      <th>g18uw</th>\n",
       "      <td>g</td>\n",
       "      <td>uw</td>\n",
       "      <td>214.0</td>\n",
       "      <td>435.0</td>\n",
       "      <td>1829.0</td>\n",
       "      <td>3316.0</td>\n",
       "    </tr>\n",
       "    <tr>\n",
       "      <th>g19uw</th>\n",
       "      <td>g</td>\n",
       "      <td>uw</td>\n",
       "      <td>243.0</td>\n",
       "      <td>497.0</td>\n",
       "      <td>1334.0</td>\n",
       "      <td>3067.0</td>\n",
       "    </tr>\n",
       "    <tr>\n",
       "      <th>g20uw</th>\n",
       "      <td>g</td>\n",
       "      <td>uw</td>\n",
       "      <td>248.0</td>\n",
       "      <td>498.0</td>\n",
       "      <td>1740.0</td>\n",
       "      <td>3291.0</td>\n",
       "    </tr>\n",
       "    <tr>\n",
       "      <th>g21uw</th>\n",
       "      <td>g</td>\n",
       "      <td>uw</td>\n",
       "      <td>225.0</td>\n",
       "      <td>446.0</td>\n",
       "      <td>1533.0</td>\n",
       "      <td>3269.0</td>\n",
       "    </tr>\n",
       "  </tbody>\n",
       "</table>\n",
       "<p>1617 rows × 6 columns</p>\n",
       "</div>"
      ],
      "text/plain": [
       "      gender vowel     f0     F1      F2      F3\n",
       "fid                                             \n",
       "m01ae      m    ae  174.0  663.0  2012.0  2659.0\n",
       "m02ae      m    ae  102.0  628.0  1871.0  2477.0\n",
       "m03ae      m    ae   99.0  605.0  1812.0  2570.0\n",
       "m04ae      m    ae  124.0  627.0  1910.0  2488.0\n",
       "m06ae      m    ae  115.0  647.0  1864.0  2561.0\n",
       "...      ...   ...    ...    ...     ...     ...\n",
       "g17uw      g    uw  236.0  490.0  2179.0  3131.0\n",
       "g18uw      g    uw  214.0  435.0  1829.0  3316.0\n",
       "g19uw      g    uw  243.0  497.0  1334.0  3067.0\n",
       "g20uw      g    uw  248.0  498.0  1740.0  3291.0\n",
       "g21uw      g    uw  225.0  446.0  1533.0  3269.0\n",
       "\n",
       "[1617 rows x 6 columns]"
      ]
     },
     "execution_count": 5,
     "metadata": {},
     "output_type": "execute_result"
    }
   ],
   "source": [
    "hildata = fetch_hillenbrand().dropna()\n",
    "all_vowels = np.unique(hildata['vowel'])\n",
    "all_genders = np.unique(hildata['gender'])\n",
    "all_features = [\"f0\",\"F1\",\"F2\",\"F3\"]\n",
    "print(all_vowels)\n",
    "print(all_genders)\n",
    "print(all_features)\n",
    "#\n",
    "hildata"
   ]
  },
  {
   "cell_type": "markdown",
   "metadata": {},
   "source": [
    "## 2. Histograms of Pitch data\n",
    "  \n",
    "#### Explore\n",
    "With the code cell below, you can analyze the distribution of pitch according to gender and the distinctions\n",
    "between young and adult speakers. \n",
    "Adjust your selection: e.g. ['m','w'] for men and women or ['b','g'] to visualize boys and girls.\n",
    "\n",
    "#### Questions\n",
    "- Which class pairs can you distinguish well (> 90%) on the basis of pitch alone ?\n",
    "- Which class pairs are virtually non distinguishable on the basis of pitch alone ?"
   ]
  },
  {
   "cell_type": "code",
   "execution_count": 15,
   "metadata": {
    "tags": []
   },
   "outputs": [
    {
     "data": {
      "image/png": "[encoded data removed]",
      "text/plain": [
       "<Figure size 800x800 with 1 Axes>"
      ]
     },
     "metadata": {},
     "output_type": "display_data"
    }
   ],
   "source": [
    "long_names = {'m':'men','w':'women','b':'boys','g':'girls'}\n",
    "# select 2 gender classes from m(en), w(omen), b(oys), g(irls)\n",
    "selection = ['m','w']\n",
    "#\n",
    "# gather data for the selected classes\n",
    "Xmale = hildata.loc[hildata['gender']==selection[0],'f0']\n",
    "Xfemale = hildata.loc[hildata['gender']==selection[1],'f0']\n",
    "#\n",
    "# plot histograms of the data\n",
    "plt.figure()\n",
    "plt.hist(Xmale,range=[50.,350.],bins=20,ec='b',fc=(.8,.8,1,.2))\n",
    "plt.hist(Xfemale,range=[50.,350.],bins=20,ec='r',fc=(1,.8,.8,.2))\n",
    "plt.xlabel('Frequency (Hz)')\n",
    "plt.legend([selection[0],selection[1]])\n",
    "plt.title('Pitch Histograms for speakers in %s and %s classes' % (long_names[selection[0]], long_names[selection[1]]) );"
   ]
  },
  {
   "cell_type": "code",
   "execution_count": null,
   "metadata": {},
   "outputs": [],
   "source": []
  }
 ],
 "metadata": {
  "kernelspec": {
   "display_name": "Python 3 (ipykernel)",
   "language": "python",
   "name": "python3"
  },
  "language_info": {
   "codemirror_mode": {
    "name": "ipython",
    "version": 3
   },
   "file_extension": ".py",
   "mimetype": "text/x-python",
   "name": "python",
   "nbconvert_exporter": "python",
   "pygments_lexer": "ipython3",
   "version": "3.7.12"
  },
  "widgets": {
   "application/vnd.jupyter.widget-state+json": {
    "state": {},
    "version_major": 2,
    "version_minor": 0
   }
  }
 },
 "nbformat": 4,
 "nbformat_minor": 4
}
