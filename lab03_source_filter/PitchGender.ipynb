{
 "cells": [
  {
   "cell_type": "markdown",
   "metadata": {},
   "source": [
    "## Data Exploration with the Hillenbrand database\n",
    "\n",
    "\n",
    "+ Author: Dirk Van Compernolle   \n",
    "+ History:   \n",
    "    - 2020: Created\n",
    "    - 25/04/2022: upgrade to pyspch>=0.6\n",
    "+ Requires:\n",
    "    - pyspch>=0.7"
   ]
  },
  {
   "cell_type": "code",
   "execution_count": null,
   "metadata": {},
   "outputs": [],
   "source": [
    "# uncomment the pip install command to install pyspch -- it is required!\n",
    "#\n",
    "#!pip install git+https://github.com/compi1234/pyspch.git\n",
    "#\n",
    "try:\n",
    "    import pyspch\n",
    "except ModuleNotFoundError:\n",
    "    try:\n",
    "        print(\n",
    "        \"\"\"\n",
    "        To enable this notebook on platforms as Google Colab, \n",
    "        install the pyspch package and dependencies by running following code:\n",
    "\n",
    "        !pip install git+https://github.com/compi1234/pyspch.git\n",
    "        \"\"\"\n",
    "        )\n",
    "    except ModuleNotFoundError:\n",
    "        raise"
   ]
  },
  {
   "cell_type": "code",
   "execution_count": 1,
   "metadata": {},
   "outputs": [],
   "source": [
    "# Importing some core Python libraries for data handling and plotting's baseline machine learning stack \n",
    "#\n",
    "%matplotlib inline\n",
    "import sys,os\n",
    "import numpy as np\n",
    "import matplotlib.pyplot as plt\n",
    "import matplotlib as mpl\n",
    "import pandas as pd\n",
    "import seaborn as sns\n",
    "import pyspch.core as Spch\n",
    "from pyspch.core.hillenbrand import fetch_hillenbrand, select_hillenbrand\n",
    "\n",
    "np.set_printoptions(precision=2)\n",
    "mpl.rcParams['figure.figsize'] = [8.0, 8.0]\n",
    "mpl.rcParams['font.size'] = 12\n",
    "mpl.rcParams['legend.fontsize'] = 'large'\n",
    "mpl.rcParams['figure.titlesize'] = 'large'"
   ]
  },
  {
   "cell_type": "code",
   "execution_count": 2,
   "metadata": {},
   "outputs": [],
   "source": []
  },
  {
   "cell_type": "markdown",
   "metadata": {},
   "source": [
    "## 1. The Hillenbrand Database \n",
    "\n",
    "see the notebook on the VowelTriangle for more info on the database"
   ]
  },
  {
   "cell_type": "code",
   "execution_count": 4,
   "metadata": {},
   "outputs": [
    {
     "name": "stdout",
     "output_type": "stream",
     "text": [
      "['ae' 'ah' 'aw' 'eh' 'ei' 'er' 'ih' 'iy' 'oa' 'oo' 'uh' 'uw']\n",
      "['m' 'w']\n",
      "['f0', 'F1', 'F2', 'F3']\n"
     ]
    },
    {
     "data": {
      "text/html": [
       "<div>\n",
       "<style scoped>\n",
       "    .dataframe tbody tr th:only-of-type {\n",
       "        vertical-align: middle;\n",
       "    }\n",
       "\n",
       "    .dataframe tbody tr th {\n",
       "        vertical-align: top;\n",
       "    }\n",
       "\n",
       "    .dataframe thead th {\n",
       "        text-align: right;\n",
       "    }\n",
       "</style>\n",
       "<table border=\"1\" class=\"dataframe\">\n",
       "  <thead>\n",
       "    <tr style=\"text-align: right;\">\n",
       "      <th></th>\n",
       "      <th>gender</th>\n",
       "      <th>vowel</th>\n",
       "      <th>f0</th>\n",
       "      <th>F1</th>\n",
       "      <th>F2</th>\n",
       "      <th>F3</th>\n",
       "    </tr>\n",
       "    <tr>\n",
       "      <th>fid</th>\n",
       "      <th></th>\n",
       "      <th></th>\n",
       "      <th></th>\n",
       "      <th></th>\n",
       "      <th></th>\n",
       "      <th></th>\n",
       "    </tr>\n",
       "  </thead>\n",
       "  <tbody>\n",
       "    <tr>\n",
       "      <th>m01ae</th>\n",
       "      <td>m</td>\n",
       "      <td>ae</td>\n",
       "      <td>174.0</td>\n",
       "      <td>663.0</td>\n",
       "      <td>2012.0</td>\n",
       "      <td>2659.0</td>\n",
       "    </tr>\n",
       "    <tr>\n",
       "      <th>m02ae</th>\n",
       "      <td>m</td>\n",
       "      <td>ae</td>\n",
       "      <td>102.0</td>\n",
       "      <td>628.0</td>\n",
       "      <td>1871.0</td>\n",
       "      <td>2477.0</td>\n",
       "    </tr>\n",
       "    <tr>\n",
       "      <th>m03ae</th>\n",
       "      <td>m</td>\n",
       "      <td>ae</td>\n",
       "      <td>99.0</td>\n",
       "      <td>605.0</td>\n",
       "      <td>1812.0</td>\n",
       "      <td>2570.0</td>\n",
       "    </tr>\n",
       "    <tr>\n",
       "      <th>m04ae</th>\n",
       "      <td>m</td>\n",
       "      <td>ae</td>\n",
       "      <td>124.0</td>\n",
       "      <td>627.0</td>\n",
       "      <td>1910.0</td>\n",
       "      <td>2488.0</td>\n",
       "    </tr>\n",
       "    <tr>\n",
       "      <th>m06ae</th>\n",
       "      <td>m</td>\n",
       "      <td>ae</td>\n",
       "      <td>115.0</td>\n",
       "      <td>647.0</td>\n",
       "      <td>1864.0</td>\n",
       "      <td>2561.0</td>\n",
       "    </tr>\n",
       "    <tr>\n",
       "      <th>...</th>\n",
       "      <td>...</td>\n",
       "      <td>...</td>\n",
       "      <td>...</td>\n",
       "      <td>...</td>\n",
       "      <td>...</td>\n",
       "      <td>...</td>\n",
       "    </tr>\n",
       "    <tr>\n",
       "      <th>w46uw</th>\n",
       "      <td>w</td>\n",
       "      <td>uw</td>\n",
       "      <td>166.0</td>\n",
       "      <td>362.0</td>\n",
       "      <td>1351.0</td>\n",
       "      <td>2879.0</td>\n",
       "    </tr>\n",
       "    <tr>\n",
       "      <th>w47uw</th>\n",
       "      <td>w</td>\n",
       "      <td>uw</td>\n",
       "      <td>238.0</td>\n",
       "      <td>482.0</td>\n",
       "      <td>987.0</td>\n",
       "      <td>2781.0</td>\n",
       "    </tr>\n",
       "    <tr>\n",
       "      <th>w48uw</th>\n",
       "      <td>w</td>\n",
       "      <td>uw</td>\n",
       "      <td>234.0</td>\n",
       "      <td>458.0</td>\n",
       "      <td>1163.0</td>\n",
       "      <td>2651.0</td>\n",
       "    </tr>\n",
       "    <tr>\n",
       "      <th>w49uw</th>\n",
       "      <td>w</td>\n",
       "      <td>uw</td>\n",
       "      <td>240.0</td>\n",
       "      <td>467.0</td>\n",
       "      <td>993.0</td>\n",
       "      <td>2802.0</td>\n",
       "    </tr>\n",
       "    <tr>\n",
       "      <th>w50uw</th>\n",
       "      <td>w</td>\n",
       "      <td>uw</td>\n",
       "      <td>265.0</td>\n",
       "      <td>491.0</td>\n",
       "      <td>1317.0</td>\n",
       "      <td>2680.0</td>\n",
       "    </tr>\n",
       "  </tbody>\n",
       "</table>\n",
       "<p>1090 rows × 6 columns</p>\n",
       "</div>"
      ],
      "text/plain": [
       "      gender vowel     f0     F1      F2      F3\n",
       "fid                                             \n",
       "m01ae      m    ae  174.0  663.0  2012.0  2659.0\n",
       "m02ae      m    ae  102.0  628.0  1871.0  2477.0\n",
       "m03ae      m    ae   99.0  605.0  1812.0  2570.0\n",
       "m04ae      m    ae  124.0  627.0  1910.0  2488.0\n",
       "m06ae      m    ae  115.0  647.0  1864.0  2561.0\n",
       "...      ...   ...    ...    ...     ...     ...\n",
       "w46uw      w    uw  166.0  362.0  1351.0  2879.0\n",
       "w47uw      w    uw  238.0  482.0   987.0  2781.0\n",
       "w48uw      w    uw  234.0  458.0  1163.0  2651.0\n",
       "w49uw      w    uw  240.0  467.0   993.0  2802.0\n",
       "w50uw      w    uw  265.0  491.0  1317.0  2680.0\n",
       "\n",
       "[1090 rows x 6 columns]"
      ]
     },
     "execution_count": 4,
     "metadata": {},
     "output_type": "execute_result"
    }
   ],
   "source": [
    "hildata = fetch_hillenbrand(genders='adults').dropna()\n",
    "all_vowels = np.unique(hildata['vowel'])\n",
    "all_genders = np.unique(hildata['gender'])\n",
    "all_features = [\"f0\",\"F1\",\"F2\",\"F3\"]\n",
    "print(all_vowels)\n",
    "print(all_genders)\n",
    "print(all_features)\n",
    "#\n",
    "hildata"
   ]
  },
  {
   "cell_type": "markdown",
   "metadata": {},
   "source": [
    "## 2. Histograms for 1D data  - Example: Pitch"
   ]
  },
  {
   "cell_type": "code",
   "execution_count": null,
   "metadata": {},
   "outputs": [
    {
     "data": {
      "image/png": "[encoded data removed]",
      "text/plain": [
       "<Figure size 800x800 with 1 Axes>"
      ]
     },
     "metadata": {},
     "output_type": "display_data"
    }
   ],
   "source": [
    "# plot histograms of the data\n",
    "Xmale = hildata.loc[hildata['gender']=='m','f0']\n",
    "Xfemale = hildata.loc[hildata['gender']=='w','f0']\n",
    "#fig,ax = plt.subplots(1,2,figsize=(10,10))\n",
    "plt.figure()\n",
    "plt.hist(Xmale,range=[50.,350.],bins=20,ec='b',fc=(.8,.8,1,.2))\n",
    "plt.hist(Xfemale,range=[50.,350.],bins=20,ec='r',fc=(1,.8,.8,.2))\n",
    "plt.xlabel('Frequency (Hz)')\n",
    "plt.legend(['m','w'])\n",
    "plt.title('Pitch Histograms for male and female speakers');"
   ]
  }
 ],
 "metadata": {
  "kernelspec": {
   "display_name": "Python 3 (ipykernel)",
   "language": "python",
   "name": "python3"
  },
  "language_info": {
   "codemirror_mode": {
    "name": "ipython",
    "version": 3
   },
   "file_extension": ".py",
   "mimetype": "text/x-python",
   "name": "python",
   "nbconvert_exporter": "python",
   "pygments_lexer": "ipython3",
   "version": "3.7.12"
  },
  "widgets": {
   "application/vnd.jupyter.widget-state+json": {
    "state": {},
    "version_major": 2,
    "version_minor": 0
   }
  }
 },
 "nbformat": 4,
 "nbformat_minor": 4
}
