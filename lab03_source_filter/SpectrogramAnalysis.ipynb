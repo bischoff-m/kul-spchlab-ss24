{
 "cells": [
  {
   "cell_type": "markdown",
   "metadata": {},
   "source": [
    "<a href=\"https://colab.research.google.com/github/compi1234/spchlab/blob/main/lab03_source_filter/SpectrogramReading.ipynb\" target=\"_blank\"><img src=\"https://colab.research.google.com/assets/colab-badge.svg\" alt=\"Open in Google Colab\" title=\"Open in Google Colab\"></a> \n",
    "# Spectrogram Analysis\n",
    "### Finding Pitch and Formants from waveform, spectrum and spectrogram"
   ]
  },
  {
   "cell_type": "code",
   "execution_count": 1,
   "metadata": {},
   "outputs": [],
   "source": [
    "# uncomment the pip install command to install pyspch -- it is required!\n",
    "#\n",
    "#!pip install git+https://github.com/compi1234/pyspch.git\n",
    "#\n",
    "try:\n",
    "    import pyspch\n",
    "except ModuleNotFoundError:\n",
    "    try:\n",
    "        print(\n",
    "        \"\"\"\n",
    "        To enable this notebook on platforms as Google Colab, \n",
    "        install the pyspch package and dependencies by running following code:\n",
    "\n",
    "        !pip install git+https://github.com/compi1234/pyspch.git\n",
    "        \"\"\"\n",
    "        )\n",
    "    except ModuleNotFoundError:\n",
    "        raise"
   ]
  },
  {
   "cell_type": "code",
   "execution_count": 5,
   "metadata": {},
   "outputs": [
    {
     "data": {
      "text/html": [
       "\n",
       "<style>\n",
       "    div#notebook-container    { width: 95%; }\n",
       "    div#menubar-container     { width: 65%; }\n",
       "    div#maintoolbar-container { width: 99%; }\n",
       "</style>\n"
      ],
      "text/plain": [
       "<IPython.core.display.HTML object>"
      ]
     },
     "metadata": {},
     "output_type": "display_data"
    }
   ],
   "source": [
    "# Do the imports #\n",
    "##################\n",
    "#\n",
    "%matplotlib inline\n",
    "import os,sys \n",
    "import numpy as np\n",
    "import pandas as pd\n",
    "from IPython.display import display, Audio, HTML\n",
    "#   \n",
    "import pyspch.sp as Sps\n",
    "import pyspch.core as Spch\n",
    "import pyspch.display as Spd\n",
    "\n",
    "import matplotlib.pyplot as plt\n",
    "\n",
    "\n",
    "\n",
    "# make notebook cells stretch over the full screen\n",
    "display(HTML(data=\"\"\"\n",
    "<style>\n",
    "    div#notebook-container    { width: 95%; }\n",
    "    div#menubar-container     { width: 65%; }\n",
    "    div#maintoolbar-container { width: 99%; }\n",
    "</style>\n",
    "\"\"\"))"
   ]
  },
  {
   "cell_type": "markdown",
   "metadata": {},
   "source": [
    "# Spectrogram analysis for pitch and formants\n",
    "\n",
    "\n",
    "#### Setup\n",
    "+ use Spd.iSpectrogram(type=2), espcially to see spectral slices where the cursor is\n",
    "+ use the Range Slider to select parts to pview\n",
    "+ suggested files to use:\n",
    "    - demo/female2.wav (female, wideband),   female2_8k  is a narrowband version of the same\n",
    "    - demo/male1.wav (male, narrowband)\n",
    "    - demo/timit_f1_sa2.wav                  the same \"SA2\" sentence by a female\n",
    "    - demo/timit_m1_sa2.wav                          and male person\n",
    "    \n",
    "#### Ex1. Extracting pitch and formants in time and/or frequency domain\n",
    "+ for 'demo/female2': analyze the speech (vowels) at time=1.80sec and time=3.45sec\n",
    "+ find pitch in three ways (for the first measurement)\n",
    "    - finding the period in the time waveform\n",
    "    - find harmonic distance in a spectral slice (e.g. count how many in a 1kHz range)\n",
    "    - find harmonic distance in a spectrogram\n",
    "+ do your different pitch estimation methods give consistent estimates ?\n",
    "+ now look at the different time instances: are these pitch estimates consistent ? are the deviations \"within range of expectations\" ?  explain the differences if any \n",
    "+ what is (roughly) the pitch range that you observe for this speaker in this single sentence ?\n",
    "+ is pitch a clear indication of gender ?\n",
    "+ find the vowel of the second measurement point (t=3.45sec) by measuring first and second formant and then looking up in formant tables / F1-F2 scatter plots\n",
    "    - think \"spectral envelope\" when trying to measure the formant values\n",
    "+ some of the above tasks are indeed (very) difficult, given the views that you have. What is lacking in your opinion, what is the problem (the information is there as you can recognize the sounds easily when you listen)\n",
    "+ save your measured values of pitch and formants for future exercises !\n",
    "\n",
    "#### Ex2. Pitch and formants in the mel spectrum\n",
    "+ make sure you are up to date on the mel-scale\n",
    "+ add the mel spectrogram (and mel spectrum slice) to your view  (start with high resolution: set  to 80 bands if sr=16kHz, 64 bands if sr=8kHz)\n",
    "+ Look for the 10th harmonic both in the linear spectrum and in the mel spectrum - what's the most striking difference\n",
    "+ is finding pitch easier / more difficult in the mel spectrum or in the fourier spectrum ?\n",
    "+ Does you answer to the question above change if you lower the number of mel bands to 24 ?\n",
    "+ in which representation is finding formants easiest ?\n",
    "\n",
    "\n",
    "#### Additional Exercises\n",
    "+ repeat for a male voice\n",
    "+ Look for a recording of a question instead of a statement; what difference do you see in the pitch evolution ? "
   ]
  },
  {
   "cell_type": "code",
   "execution_count": 3,
   "metadata": {},
   "outputs": [
    {
     "data": {
      "application/vnd.jupyter.widget-view+json": {
       "model_id": "6d2f3c4e07964586b8f30f2e436f16d1",
       "version_major": 2,
       "version_minor": 0
      },
      "text/plain": [
       "iSpectrogram(children=(HBox(children=(VBox(children=(Output(layout=Layout(height='95%', padding='0px 5px 0px 0…"
      ]
     },
     "execution_count": 3,
     "metadata": {},
     "output_type": "execute_result"
    }
   ],
   "source": [
    "Spd.iSpectrogram(figwidth=14,type=2)     "
   ]
  },
  {
   "cell_type": "code",
   "execution_count": null,
   "metadata": {},
   "outputs": [],
   "source": []
  }
 ],
 "metadata": {
  "kernelspec": {
   "display_name": "Python 3 (ipykernel)",
   "language": "python",
   "name": "python3"
  },
  "language_info": {
   "codemirror_mode": {
    "name": "ipython",
    "version": 3
   },
   "file_extension": ".py",
   "mimetype": "text/x-python",
   "name": "python",
   "nbconvert_exporter": "python",
   "pygments_lexer": "ipython3",
   "version": "3.10.13"
  },
  "widgets": {
   "application/vnd.jupyter.widget-state+json": {
    "state": {},
    "version_major": 2,
    "version_minor": 0
   }
  }
 },
 "nbformat": 4,
 "nbformat_minor": 4
}
