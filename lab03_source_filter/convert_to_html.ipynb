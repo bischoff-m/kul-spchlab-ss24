{
 "cells": [
  {
   "cell_type": "code",
   "execution_count": 2,
   "id": "2e9b006a-d7d5-468c-982f-095ec139774e",
   "metadata": {},
   "outputs": [
    {
     "name": "stderr",
     "output_type": "stream",
     "text": [
      "[NbConvertApp] Converting notebook FormantDistribution.ipynb to html\n",
      "[NbConvertApp] WARNING | Alternative text is missing on 13 image(s).\n",
      "[NbConvertApp] Writing 2312393 bytes to FormantDistribution.html\n"
     ]
    }
   ],
   "source": [
    "#! jupyter nbconvert PitchDistribution.ipynb --to html\n",
    "! jupyter nbconvert FormantDistribution.ipynb --to html\n",
    "#! jupyter nbconvert PetersonBarney.ipynb --to html"
   ]
  },
  {
   "cell_type": "code",
   "execution_count": null,
   "id": "f6445cc2-5e4f-4809-abfe-9e81b5709dcf",
   "metadata": {},
   "outputs": [],
   "source": []
  },
  {
   "cell_type": "code",
   "execution_count": null,
   "id": "676bf2dc-f0f5-473b-a634-c4053c517c15",
   "metadata": {},
   "outputs": [],
   "source": []
  }
 ],
 "metadata": {
  "kernelspec": {
   "display_name": "Python 3 (ipykernel)",
   "language": "python",
   "name": "python3"
  },
  "language_info": {
   "codemirror_mode": {
    "name": "ipython",
    "version": 3
   },
   "file_extension": ".py",
   "mimetype": "text/x-python",
   "name": "python",
   "nbconvert_exporter": "python",
   "pygments_lexer": "ipython3",
   "version": "3.10.13"
  },
  "widgets": {
   "application/vnd.jupyter.widget-state+json": {
    "state": {},
    "version_major": 2,
    "version_minor": 0
   }
  }
 },
 "nbformat": 4,
 "nbformat_minor": 5
}
