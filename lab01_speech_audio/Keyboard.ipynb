{
 "cells": [
  {
   "cell_type": "markdown",
   "metadata": {
    "slideshow": {
     "slide_type": "slide"
    }
   },
   "source": [
    "<a href=\"https://colab.research.google.com/github/compi1234/spchlab/blob/main/lab01_speech_audio/Keyboard.ipynb\" target=\"_blank\"><img src=\"https://colab.research.google.com/assets/colab-badge.svg\" alt=\"Open in Google Colab\" title=\"Open in Google Colab\"></a> \n",
    "# Tones, Frequency and Pitch on a Synthesizer Keyboard\n",
    "____   \n",
    "\n",
    "In this notebook the concepts of **pitch** and **frequency** of a **note** are illustrated on a synthesizer keyboard.  \n",
    "For simplicity reasons this notebook synthesizes **pure tones**(sinewaves).    \n",
    "We also show the mapping to common **midi** notation.\n",
    "\n",
    "Natural sounds from musical instruments or the human voice are much more complex and often (quasi)-periodic signals.  For these sounds the pitch percept corresponds typically to the main periodicity or equivalently to the fundamental frequency.\n",
    "For more detailed elaboration look for demos on the subject of *Pitch & Timbre*.\n",
    "  \n",
    "By default we use simple 5msec ramping up and down of tones, to avoid some click like artificats at onset or offsets.\n",
    "In the last demo we use triangular waves to make the sound a bit more keyboard like\n",
    "You can vary You can play with a few other characteristic onsets of various instruments\n",
    "\n",
    "##### CREDITS\n",
    "This is an extended and corrected version from [ch11_image/07_synth.ipynb](https://github.com/ipython-books/cookbook-2nd-code/blob/master/chapter11_image/07_synth.ipynb)\n",
    "in the *IPython Cookbook, 2nd Edition, Copyright (c) 2017 Cyrille Rossant*\n"
   ]
  },
  {
   "cell_type": "code",
   "execution_count": null,
   "metadata": {
    "jupyter": {
     "source_hidden": true
    },
    "slideshow": {
     "slide_type": "skip"
    }
   },
   "outputs": [],
   "source": [
    "import numpy as np\n",
    "import matplotlib.pyplot as plt\n",
    "from IPython.display import  Audio, display, clear_output\n",
    "from ipywidgets import widgets\n",
    "from functools import partial\n",
    "from scipy import signal\n",
    "import pandas as pd\n",
    "\n",
    "%matplotlib inline\n",
    "\n",
    "pd.options.display.precision = 1"
   ]
  },
  {
   "cell_type": "code",
   "execution_count": null,
   "metadata": {
    "jupyter": {
     "source_hidden": true
    },
    "slideshow": {
     "slide_type": "slide"
    }
   },
   "outputs": [],
   "source": [
    "# sampling rate and duration defaults for simple tones\n",
    "rate = 8000.\n",
    "duration = .25\n",
    "\n",
    "# utilities for generating a pure tone (and playing it) \n",
    "def synth(f, dur=.25,sample_rate = 8000,sigtype='sin',envelope='smooth'):\n",
    "    #x = np.sin(f * 2. * np.pi * t)\n",
    "    #return(x)\n",
    "    t = np.linspace(0.0, dur, int(dur*sample_rate), endpoint=False)\n",
    "    tt = 2.*np.pi*t*f\n",
    "    if sigtype == 'sin':\n",
    "        y = np.sin(tt)\n",
    "    elif sigtype == 'square':\n",
    "        y = signal.square(tt)\n",
    "    elif sigtype == 'triangle':\n",
    "        y = signal.sawtooth(tt,width=.5)\n",
    "    if envelope is None: return(y)\n",
    "    else: return( adsr_envelope(y,instr=envelope,sample_rate=sample_rate))\n",
    "\n",
    "# apply ADSR style envelope (attack, decay, systain, release)\n",
    "def adsr_envelope(y,instr=None,sample_rate=8000,s=1., A=0.005, D=0., R=0.005):\n",
    "    adsr={\n",
    "        'smooth':{'s':1.,'A':.005,'D':0.,'R':.005},\n",
    "        'keyboard':{'s':1.,'A':.005,'D':0.,'R':.025},\n",
    "        'guitar':{'s':1.,'A':.015,'D':0.,'R':.015},\n",
    "        'trumpet':{'s':.32,'A':.030,'D':0.110,'R':.100},\n",
    "        'cello':{'s':.47,'A':.040,'D':0.290,'R':.200}\n",
    "    }\n",
    "    if instr is not None:\n",
    "        s=adsr[instr]['s']\n",
    "        A=adsr[instr]['A']\n",
    "        D=adsr[instr]['D']\n",
    "        R=adsr[instr]['R']\n",
    "    \n",
    "    y1= np.zeros(y.shape)\n",
    "    n4 = len(y)\n",
    "    t4 = n4/sample_rate\n",
    "    t1 = A\n",
    "    t2 = A+D\n",
    "    t3 = t4 - R\n",
    "    n1 = int(t1*sample_rate)\n",
    "    n2 = int(t2*sample_rate)\n",
    "    n3 = int(t3*sample_rate)\n",
    "    y1[0:n1] = y[0:n1]*(.5+.5*signal.sawtooth(2*np.pi*np.linspace(0,1,n1,endpoint=False)))\n",
    "    y1[n1:n2] = y[n1:n2]*(.5+.5*s-.5*(1-s)*signal.sawtooth(2*np.pi*np.linspace(0,1,n2-n1,endpoint=False)))\n",
    "    y1[n2:n3] = y[n2:n3]*s\n",
    "    y1[n3:n4] = y[n3:n4]*s* np.exp(-np.log(100)*np.linspace(0,1,n4-n3,endpoint=False))\n",
    "    return(y1)\n",
    "\n",
    "def play(x,AutoPlay=True,rate=rate):\n",
    "    display(Audio(x, rate=rate, autoplay=AutoPlay))"
   ]
  },
  {
   "cell_type": "markdown",
   "metadata": {},
   "source": [
    "### Musical Scales\n",
    "\n",
    "We are all familiar to some extent with the concept of musical notes making up melodies.   But where do these notes come from ?"
   ]
  },
  {
   "cell_type": "markdown",
   "metadata": {
    "slideshow": {
     "slide_type": "slide"
    }
   },
   "source": [
    "#### Synthesize a short sinewave of 440Hz\n",
    "This corresponds to A4 in music notation and in MIDI it has a value of 69."
   ]
  },
  {
   "cell_type": "code",
   "execution_count": null,
   "metadata": {
    "jupyter": {
     "source_hidden": true
    },
    "podoc": {
     "output_text": "Sound widget"
    },
    "slideshow": {
     "slide_type": "subslide"
    }
   },
   "outputs": [],
   "source": [
    "#play(synth(440),AutoPlay=AutoPlay)\n",
    "display(Audio(synth(440),autoplay=False,rate=rate));"
   ]
  },
  {
   "cell_type": "markdown",
   "metadata": {
    "slideshow": {
     "slide_type": "slide"
    }
   },
   "source": [
    "#### Tones, pitch and musical scales\n",
    "Pitch is the more technical (and psychoacoustic) term for what you may know as how high a tone sounds like.   \n",
    "Expresssing the pitch may be done in a number of different ways.\n",
    "- Frequency (in Hz) ... the engineering way\n",
    "- Musical Notes  (C, A#, B*b*, ... ) ... the musicians way\n",
    "    + these letter notations denote the relative position within a single octave\n",
    "    + for 'absolute' tonal information we need to add a key, register or octave: A4 ~ 440Hz , A3 ~ 220Hz\n",
    "- MIDI numbers ... the synthesizer's way (a semitone scale)   \n",
    "\n",
    "Both the musical and MIDI notations used here are based on the Western music scale with 12 semitones in an octave\n",
    "\n",
    "A standard piano keyboard with 88 keys looks like this:\n",
    "\n",
    "<img src=\"../figures/88_key_piano.jpg\" alt=\"piano\"/>\n",
    "\n",
    "The note marked in red is \"C4\", i.e. the C key in the 4th octave.   \n",
    "\n",
    "A mapping is given between note (in musical notation), frequency (in Hz) and midi number is shown for octave starting at C4. \n",
    "\n",
    "##### Questions\n",
    "1. What is the frequency and the MIDI number for note F5 ?"
   ]
  },
  {
   "cell_type": "code",
   "execution_count": null,
   "metadata": {
    "jupyter": {
     "source_hidden": true
    },
    "slideshow": {
     "slide_type": "subslide"
    }
   },
   "outputs": [],
   "source": [
    "def m2f(m):\n",
    "    f = 2.**((m-69.)/12.0) * 440.\n",
    "    return(f)\n",
    "def f2m(f):\n",
    "    m=12.*log2(f/440.0)+69.\n",
    "    return(m)\n",
    "def note2f(note):\n",
    "    return(m2f(note2m(note)))\n",
    "def note2m(note):\n",
    "    semitones={'C':0,'D':2,'E':4,'F':5,'G':7,'A':9,'B':11}\n",
    "    register=note[-1]\n",
    "    m = 12 + int(register)*12 + semitones[note[0]]\n",
    "    if(len(note)>2): \n",
    "        if(note[1] =='#'): m+=1\n",
    "        elif(note[1] =='b'): m-=1\n",
    "    return(m)\n",
    "\n",
    "# Create a mapping table between different notations for notes in the middle segment\n",
    "notes = 'C4,C#4,D4,D#4,E4,F4,F#4,G4,G#4,A4,A#4,B4,C5'.split(',')\n",
    "midis = [note2m(key) for key in notes]\n",
    "freqs = [note2f(key) for key in notes]\n",
    "keyboard = list(zip(notes,freqs,midis))\n",
    "pd.DataFrame(keyboard,columns=['Note','Freq(Hz)','MIDI'])"
   ]
  },
  {
   "cell_type": "markdown",
   "metadata": {
    "slideshow": {
     "slide_type": "slide"
    }
   },
   "source": [
    "### Play a note on the synthesizer keyboard to hear its pitch\n",
    "\n",
    "The same set of notes is now layed out on a keyboard that you can play. \n",
    "When hitting a key, the corresponding note is played and the corresponding waveform is diplayed.\n",
    "\n",
    "##### Things to investigate\n",
    "\n",
    "1. Just hit one or a few keys on the synthesizer and listen to them, especially in terms of \"pitch\" ranking\n",
    "\n",
    "2. Compare the waveforms of the low and high C notes (C4 vs. C5).  What is similar, what is different ?"
   ]
  },
  {
   "cell_type": "code",
   "execution_count": null,
   "metadata": {
    "jupyter": {
     "source_hidden": true
    },
    "slideshow": {
     "slide_type": "fragment"
    }
   },
   "outputs": [],
   "source": [
    "%precision 0\n",
    "layout = widgets.Layout(\n",
    "    width='50px', height='100px',\n",
    "    border='2px solid black')\n",
    "layout1 = widgets.Layout(\n",
    "    width='50px', height='30px',\n",
    "    border='0px solid blue')\n",
    "buttons = []\n",
    "midi_buttons = []\n",
    "freq_buttons = []\n",
    "output = widgets.Output()\n",
    "#output.layout.width='500px'\n",
    "for note,f,m  in keyboard:\n",
    "    button = widgets.Button(description=note[0:], layout=layout)\n",
    "    if(note[1]=='#'): \n",
    "        button.style.button_color='#BBBBBB'\n",
    "    else: button.style.button_color='white'\n",
    "    #button.style.font_weight='bold'\n",
    "    button.style.font_size = '10pt'\n",
    "    \n",
    "    midi_button = widgets.Button(description=str(m),layout=layout1)\n",
    "    freq_button = widgets.Button(description=\"%.0f\"%(f),layout=layout1)\n",
    "    freq_button.style.font_weight = 'bold'\n",
    "    \n",
    "    def on_button_clicked(f, b):\n",
    "        # When a button is clicked, we play the sound\n",
    "        # in the Output widget.\n",
    "        with output:\n",
    "            #print(\"hallo\",f)\n",
    "            clear_output(wait=True)\n",
    "            y=synth(f,sample_rate=8000)\n",
    "            fig,ax = plt.subplots(figsize=(8,2))\n",
    "            ax.plot(np.arange(0.,.01,1/8000.),y[80:160])\n",
    "            ax.set_title(\"Waveform (10msec segment)\")\n",
    "            plt.close()\n",
    "\n",
    "            display(fig)\n",
    "            display(Audio(y,autoplay=True,rate=rate))\n",
    "            \n",
    "    button.on_click(partial(on_button_clicked,f))\n",
    "    buttons.append(button)\n",
    "    midi_buttons.append(midi_button)\n",
    "    freq_buttons.append(freq_button)\n",
    "\n",
    "    \n",
    "midi_buttons.append( widgets.Button( description='MIDI',\n",
    "                          layout=widgets.Layout(width='100px'),\n",
    "                          style=widgets.ButtonStyle(button_color='#EEFFDD')) )\n",
    "freq_buttons.append( widgets.Button( description='Frequency',\n",
    "                          layout=widgets.Layout(width='100px'),\n",
    "                          style=widgets.ButtonStyle(button_color='#EEFFDD',font_weight='bold')) )\n",
    "buttons.append( widgets.Button( description='Musical\\nNote',\n",
    "                          layout=widgets.Layout(width='100px',height='90px'),\n",
    "                          style=widgets.ButtonStyle(button_color='#EEFFDD')) )\n",
    "\n",
    "\n",
    "# We place all buttons horizontally.\n",
    "print(\"The top line shows the MIDI numbers\")\n",
    "print(\"The second line shows the frequencies of the tones in Hz\")\n",
    "print(\"The bottom section is a synthesizer keyboard with the notes on it\")\n",
    "print(\"Hit a note on the keyboard to hear it\")\n",
    "piano = widgets.VBox([widgets.HBox(midi_buttons),widgets.HBox(freq_buttons),widgets.HBox(buttons),output])\n",
    "piano"
   ]
  },
  {
   "cell_type": "markdown",
   "metadata": {
    "slideshow": {
     "slide_type": "slide"
    }
   },
   "source": [
    "### Finally play a simple melody\n",
    "Here we select triangular waves to make it sound a bit more pleasant.\n",
    "You can choose between 'sin', 'triangle' or 'square'\n",
    "\n",
    "##### Things to investigate:\n",
    "1. Does the melody change if you change the signal shape ?\n",
    "\n",
    "2. Describe intuitively the differences that you hear between the different signal shapes.  (For more detail, cfr. exercises on the influence of spectral envelope on timbre)\n",
    "\n"
   ]
  },
  {
   "cell_type": "code",
   "execution_count": null,
   "metadata": {
    "jupyter": {
     "source_hidden": true
    },
    "slideshow": {
     "slide_type": "fragment"
    }
   },
   "outputs": [],
   "source": [
    "sigtype='triangle'\n",
    "melody = ['C4','D4','E4','C4','E4','F4','G4','A0','C4','D4','E4','C4','E4','F4','G4']\n",
    "y=[]\n",
    "for note in melody:\n",
    "    x = synth(note2f(note),sigtype=sigtype)\n",
    "    y = np.append(y,x,axis=0)\n",
    "display(Audio(y,rate=rate,autoplay=False))\n",
    "plt.plot(y[0:800])\n",
    "plt.title(\"First 800 samples of the melody (only a part of the first note)\");"
   ]
  },
  {
   "cell_type": "code",
   "execution_count": null,
   "metadata": {},
   "outputs": [],
   "source": [
    "#! jupyter nbconvert Keyboard.ipynb --to html"
   ]
  }
 ],
 "metadata": {
  "kernelspec": {
   "display_name": "Python 3 (ipykernel)",
   "language": "python",
   "name": "python3"
  },
  "language_info": {
   "codemirror_mode": {
    "name": "ipython",
    "version": 3
   },
   "file_extension": ".py",
   "mimetype": "text/x-python",
   "name": "python",
   "nbconvert_exporter": "python",
   "pygments_lexer": "ipython3",
   "version": "3.10.13"
  },
  "widgets": {
   "application/vnd.jupyter.widget-state+json": {
    "state": {},
    "version_major": 2,
    "version_minor": 0
   }
  }
 },
 "nbformat": 4,
 "nbformat_minor": 4
}
