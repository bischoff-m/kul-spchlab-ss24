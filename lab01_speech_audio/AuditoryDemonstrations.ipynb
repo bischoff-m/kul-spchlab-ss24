{
 "cells": [
  {
   "cell_type": "markdown",
   "metadata": {},
   "source": [
    "<a href=\"https://colab.research.google.com/github/compi1234/spchlab/blob/main/lab01_speech_audio/AuditoryDemonstrations.ipynb\" target=\"_blank\"><img src=\"https://colab.research.google.com/assets/colab-badge.svg\" alt=\"Open in Google Colab\" title=\"Open in Google Colab\"></a> \n",
    "# Auditory Demonstrations \n",
    "____   \n",
    "These demos are Jupyter notebook wrappers around selected demos from the AUDITORY DEMONSTRATIONS CD\n",
    "made in 1987 at the Institute for Perception Research (IPO)\n",
    "Eindhoven, The Netherlands, with\n",
    "support by the Acoustical Society of America.\n",
    "\n",
    "**Reference**:  [**Auditory Demonstrations**](https://research.tue.nl/en/publications/auditory-demonstrations), *A.J.M. Houtsma, Th.D. Rossing, W.M. Wagemakers*, Technische Universiteit Eindhoven, Institute for Perception Research, 1987.    More detailed documentation may be found  [here].(https://pure.tue.nl/ws/portalfiles/portal/79033010/402660.pdf)\n",
    "\n",
    "The **Jupyter notebook** embedding allows for additional functionality such as zooming into details, viewing waveforms, spectrograms and feature functions in a simple framework.  You are encouraged to develop and test your personal feature function and test them in view of the presented demonstrations. \n",
    "\n",
    "\n",
    "\n",
    "*Dirk Van Compernolle*   \n",
    "*June 2021*\n"
   ]
  },
  {
   "cell_type": "markdown",
   "metadata": {},
   "source": [
    "## Getting Started\n",
    "**You first need to run the next four cells in order.**  They contain:\n",
    "- necessary imports  (install pyspch if needed)\n",
    "- definitions of the demos\n",
    "- special functionality for this demo\n",
    "- definition of the AuditoryDemo GUI\n",
    "\n",
    "Afterwards the demos can be ran in any order.\n",
    "For each demo there is an extensive introduction with background information, some more details on the demonstrations themselves and some questions that you should try to answer."
   ]
  },
  {
   "cell_type": "code",
   "execution_count": 1,
   "metadata": {},
   "outputs": [],
   "source": [
    "try:\n",
    "    import pyspch\n",
    "except ModuleNotFoundError:\n",
    "    try:\n",
    "        print(\n",
    "        \"\"\"\n",
    "        To enable this notebook on platforms as Google Colab, \n",
    "        install the pyspch package and dependencies by running following code:\n",
    "\n",
    "        %pip install git+https://github.com/compi1234/pyspch.git\n",
    "        \"\"\"\n",
    "        )\n",
    "    except ModuleNotFoundError:\n",
    "        raise"
   ]
  },
  {
   "cell_type": "code",
   "execution_count": 2,
   "metadata": {
    "executionInfo": {
     "elapsed": 1408,
     "status": "ok",
     "timestamp": 1605602917487,
     "user": {
      "displayName": "Dirk Van Compernolle",
      "photoUrl": "",
      "userId": "01011017094742215648"
     },
     "user_tz": -60
    },
    "id": "-g495yAlFAG1"
   },
   "outputs": [],
   "source": [
    "# %matplotlib inline\n",
    "\n",
    "from urllib.request import urlopen\n",
    "from IPython.display import display, Audio, HTML, clear_output\n",
    "from ipywidgets import interactive\n",
    "import ipywidgets as widgets\n",
    "import math\n",
    "import numpy as np\n",
    "### REQUIRED PACKAGES\n",
    "# \n",
    "# You need the pyspch package to be installed to run these demos\n",
    "# installing pyspch will automatically install additional packages such as soundfile, librosa\n",
    "# \n",
    "try:\n",
    "  import google.colab\n",
    "  IN_COLAB = True \n",
    "except:\n",
    "  IN_COLAB = False\n",
    "\n",
    "try:\n",
    "  import pyspch\n",
    "except:\n",
    "  %pip install git+https://github.com/compi1234/pyspch.git\n",
    "    \n",
    "import pyspch.sp as Sps\n",
    "import pyspch.core as Sp\n",
    "import pyspch.display as Spd"
   ]
  },
  {
   "cell_type": "code",
   "execution_count": 3,
   "metadata": {},
   "outputs": [],
   "source": [
    "root='https://homes.esat.kuleuven.be/~compi/demos/AuditoryDemonstrations/'\n",
    "demos={}\n",
    "demos['Demo2'] = {\n",
    "    'title':'Critical Bands by Masking',\n",
    "    'parts':[\n",
    "        {'section':'Demo2a','file':'TrackNo02.wav','instr':[0,14.],'times':[15.,29.],'txt': \"A 2000Hz in 10 decreasing steps of 5 decibels\"},\n",
    "        {'section':'Demo2b','file':'TrackNo03.wav','instr':[0,4.],'times':[4.,20.],'txt': \"The signal is masked with broadband noise\"},\n",
    "        {'section':'Demo2c','file':'TrackNo04.wav','instr':[0,4.],'times':[4.,20.],'txt': \"The noise bandwidth is reduced to 1000Hz\"},\n",
    "        {'section':'Demo2d','file':'TrackNo05.wav','instr':[0,5.],'times':[5.,20.],'txt': \"The noise bandwidth is reduced to 250Hz\"},\n",
    "        {'section':'Demo2e','file':'TrackNo06.wav','instr':[0,5.],'times':[5.,20.],'txt': \"The noise bandwidth is reduced to 10Hz\"}\n",
    "    ]\n",
    "}\n",
    "\n",
    "demos['Demo4'] = {\n",
    "    'title':'The Decibel Scale',\n",
    "    'parts':[\n",
    "        {'section':'Demo4a','file':'TrackNo08.wav','instr':[0.,12.],'times':[12.,26.], 'txt':'Broadband Noise is reduced in 10 Steps of 6dB'},\n",
    "        {'section':'Demo4b','file':'TrackNo09.wav','times':[6.,26.], 'txt':'Broadband Noise is reduced in 15 Steps of 3dB' },\n",
    "        {'section':'Demo4c','file':'TrackNo10.wav','times':[6.,31.], 'txt':'Broadband Noise is reduced in 20 Steps of 1dB' },\n",
    "        {'section':'Demo4d','file':'TrackNo11.wav','times':[6.,31.], 'txt':'Freefield Speech at various distances from the microphone' }\n",
    "    ]\n",
    "}\n",
    "\n",
    "demos['Demo6'] = {\n",
    "    'title':'Frequency Response of the Ear',\n",
    "    'parts':[\n",
    "        {'section':'125Hz','file':'TrackNo18_125.wav', 'txt':'125Hz'},\n",
    "        {'section':'250Hz','file':'TrackNo18_250.wav','txt':'250Hz'},\n",
    "        {'section':'500Hz','file':'TrackNo18_500.wav', 'txt':'500Hz'}, \n",
    "        {'section':'1000Hz - calibration','file':'TrackNo18_1000.wav', 'txt':'1000Hz - calibration tone'},        \n",
    "        {'section':'2000Hz','file':'TrackNo18_2000.wav','txt':'2000Hz'},\n",
    "        {'section':'4000Hz','file':'TrackNo18_4000.wav', 'txt':'4000Hz'},\n",
    "        {'section':'8000Hz','file':'TrackNo18_8000.wav', 'txt':'8000Hz'}\n",
    "    ]\n",
    "}\n",
    "\n",
    "\n",
    "\n",
    "demos['Demo28'] = {\n",
    "    'title':'The Effect of Spectrum on Timbre',\n",
    "    'parts':[\n",
    "        {'section':'Demo28a','file':'TrackNo53.wav','instr':[0,10.],'times':[10.,43.],'txt': \"Adding partials (Carillon)\"},\n",
    "        {'section':'Demo28b','file':'TrackNo53.wav','instr':[0,10.],'times':[44.,77.],'txt': \"Adding partials (Guitar)\"}\n",
    "    ]\n",
    "}\n",
    "\n",
    "demos['Demo29'] = {\n",
    "    'title':'Effect of Tone Envelope on Timbre',\n",
    "    'parts':[\n",
    "        {'section':'Demo29a','file':'TrackNo54.wav','instr':[0,10],'times':[10.,47], 'txt': \"You hear a recording of a Bach chorale played on a piano\"},\n",
    "        {'section':'Demo29b','file':'TrackNo55.wav','instr':[0,4],'times':[4.0,41], 'txt': \"The same chorale played backwards\"},\n",
    "        {'section':'Demo29c','file':'TrackNo56.wav','instr':[0,9],'times':[9.0,33], 'txt': \"The tape of the previous recording played backwards\"}\n",
    "    ] }\n",
    "\n",
    "demos['Demo35'] = {\n",
    "    'title':'The Effect of Echoes',\n",
    "    'parts':[\n",
    "        {'section':'Demo35a','file':'TrackNo70.wav','instr':[0,23.],'times':[23.,46.],'txt': \"Anechoic Room\"},\n",
    "        {'section':'Demo35b','file':'TrackNo70.wav','times':[50.,75.],'txt': \"Conference Room\"},\n",
    "        {'section':'Demo35c','file':'TrackNo70.wav','times':[80.,108.],'txt': \"Reverberant Space\"}    ]\n",
    "}"
   ]
  },
  {
   "cell_type": "code",
   "execution_count": 4,
   "metadata": {},
   "outputs": [],
   "source": [
    "# Energy function in dB\n",
    "# we measure intensity as  10. * log10(SUM(x^2)/N) + 14\n",
    "# - the +15 offset is arbitrary\n",
    "# - the EPS of 1.e-10 yields a range of around 60dB\n",
    "# \n",
    "EPS = 1.e-10\n",
    "OFFSET = 15.0\n",
    "def en_db(y,sample_rate=16000,f_shift=0.01):\n",
    "    n_shift = int(f_shift*sample_rate)\n",
    "    nfr = int(len(y)/n_shift)\n",
    "    energy = np.zeros((nfr,))\n",
    "    for ifr in range(0,nfr):\n",
    "        energy[ifr] = np.sum(np.square(y[ifr*n_shift:(ifr*n_shift+n_shift)]))/float(n_shift)\n",
    "    en = 10*np.log10(energy+EPS) + OFFSET\n",
    "    return(en)\n",
    "    \n",
    "def load_demo(demo,sample_rate=16000):\n",
    "    wavdata,sr = Sp.load(root + demo['file'],sample_rate=sample_rate,mono=True)\n",
    "    if 'times' in demo.keys():\n",
    "        indxx = (np.array(demo['times'])*sr).astype('int64')\n",
    "        if(indxx[1]<0): indxx[1]=-1\n",
    "        demo_data = wavdata[ indxx[0]:indxx[1] ]\n",
    "    else:\n",
    "        demo_data = wavdata\n",
    "    if 'instr' in demo.keys():\n",
    "        indxx = (np.array(demo['instr'])*sr).astype('int64')\n",
    "        instr_data = wavdata[ indxx[0]:indxx[1] ] \n",
    "    else: \n",
    "        instr_data = None\n",
    "    return(instr_data,demo_data,sr)\n",
    "\n",
    "# A figure with sampled data, energy and Fourier spectrogram\n",
    "def make_fig1(wavdata=[],en=[],spgdata=[],sr=None,**kwargs):\n",
    "    (nparam,nfr)= spgdata.shape\n",
    "    fig = Spd.SpchFig(row_heights=[1.,1.,4.])\n",
    "    fig.add_line_plot(wavdata,iax=0,dx=1/sr)\n",
    "    fig.add_line_plot(en,iax=1,dx=0.01,ylabel='Energy(dB)')\n",
    "    fig.axes[1].set_ylim([-60,0])\n",
    "    dy=(sr/2)/float(nparam-1)\n",
    "    fig.add_img_plot(spgdata,iax=2,dx=0.01,dy=dy,xlabel='Time (sec)',ylabel='Frequency (Hz)')   \n",
    "    return(fig)\n",
    "\n",
    "# A figure with sampled data, spectrogram and spectrogram waterfall\n",
    "def make_fig2(wavdata=[],spgdata=[],sr=None,n=100,scale=-.01,x0=None,**kwargs):\n",
    "    fig = Spd.SpchFig(row_heights=[1.,3.,3.])\n",
    "    fig.add_line_plot(wavdata,iax=0,dx=1/sr)\n",
    "    fig.add_img_plot(spgdata,iax=1,dx=0.01,dy=(sr/2)/257.,xlabel='Time (sec)',ylabel='Frequency (Hz)') \n",
    "    fig.add_waterfall2D(spgdata[:,0::n],scale=scale,iax=2,dx=.01*n,x0=x0)\n",
    "    fig.axes[2].set_ylim([0,256])\n",
    "    return(fig)\n",
    "\n",
    "# a default boxed layout\n",
    "def box_layout():\n",
    "     return widgets.Layout(\n",
    "        border='solid 1px black',\n",
    "        margin='0px 10px 10px 0px',\n",
    "        padding='5px 5px 5px 5px'\n",
    "     )"
   ]
  },
  {
   "cell_type": "code",
   "execution_count": 5,
   "metadata": {},
   "outputs": [],
   "source": [
    "class AuditoryDemo(widgets.VBox):\n",
    "    def __init__(self,plot_func=make_fig1,demo=None,init=0,sample_rate=16000,**kwargs):\n",
    "        super().__init__()\n",
    "            \n",
    "        if demo is None: self.name = 'Demo4'\n",
    "        else: self.name = demo\n",
    "        self.demo = demos[self.name]\n",
    "        self.options = [ p['section'] for p in self.demo['parts']] \n",
    "        self.section = self.demo['parts'][init]\n",
    "        self.wavdata = None\n",
    "        self.wavtimes = [0.,1.]\n",
    "        self.root = 'https://homes.esat.kuleuven.be/~compi/demos/AuditoryDemonstrations/'\n",
    "        self.fig = None\n",
    "        self.dpi = 72\n",
    "        self.plot_func = plot_func\n",
    "        self.kwargs = kwargs\n",
    "        self.sr = sample_rate\n",
    "        \n",
    "        # create the widgets\n",
    "        self.wg_title = widgets.Output(layout=widgets.Layout(height='60px',width='66%'))\n",
    "\n",
    "        self.wg_section = widgets.Dropdown(options=self.options,value=self.options[init],description=\"\",layout=widgets.Layout(height='60px',width='33%'))\n",
    "        self.wg_section.observe(self.update_section,'value')\n",
    "        self.wg_txt1 = widgets.Text(value='Zoom in to Selection')\n",
    "        self.wg_range = widgets.FloatRangeSlider(min=self.wavtimes[0],max=self.wavtimes[1],value=self.wavtimes,step=.02,\n",
    "                                                 readout_format='.2f',continuous_update=False,readout=True,description='')\n",
    "        self.wg_range.observe(self.update_range,'value')\n",
    "        \n",
    "        self.output = widgets.Output()\n",
    "        self.text_commentary = widgets.Output() \n",
    "        self.audio_instructions = widgets.Output()\n",
    "        self.audio_demo = widgets.Output()\n",
    "        \n",
    "        self.top = widgets.HBox([self.wg_title, self.wg_section],layout=box_layout())\n",
    "        self.left = widgets.VBox([self.output],layout=box_layout())\n",
    "        self.left.layout.width = '66%'\n",
    "        self.right = widgets.VBox([self.audio_instructions, self.audio_demo, self.wg_txt1,self.wg_range], layout=box_layout())\n",
    "        self.right.layout.width = '33%'\n",
    "        self.children = [ self.top , widgets.HBox([self.left, self.right])]\n",
    "        self.init_section()\n",
    "    \n",
    "    def update_section(self,change):\n",
    "        self.section = self.demo['parts'][self.options.index(change.new)]\n",
    "        self.init_section()\n",
    "        \n",
    "    def init_section(self):\n",
    "        with self.wg_title:\n",
    "            clear_output()\n",
    "            print(\"\\nloading new demo , hang on   ...\")\n",
    "        \n",
    "        self.instr_data, self.wavdata, self.sr = load_demo(self.section,self.sr)\n",
    "        self.spgdata = Sps.spectrogram(self.wavdata,sample_rate=self.sr)\n",
    "        self.en = en_db(self.wavdata,self.sr)\n",
    "        self.wav_times = np.array([0.,len(self.wavdata)/self.sr])\n",
    "        self.sel_times = self.wav_times\n",
    "        self.wg_range.min = self.wav_times[0]\n",
    "        self.wg_range.max = self.wav_times[1]\n",
    "        self.wg_range.value = tuple(self.wav_times)\n",
    "        self.update_fig()       \n",
    "        \n",
    "    def update_range(self,change):\n",
    "        self.sel_times = np.array(change.new)\n",
    "\n",
    "        self.update_fig()\n",
    "        \n",
    "    def update_fig(self):\n",
    "        indxf = (self.sel_times/0.01).astype(int)\n",
    "        indxt = (self.sel_times*self.sr).astype(int)\n",
    "        demo_data = self.wavdata[indxt[0]:indxt[1]]\n",
    "        demo_spg = self.spgdata[:,indxf[0]:indxf[1]]\n",
    "        demo_en = self.en[indxf[0]:indxf[1]]\n",
    "        self.fig = self.plot_func(wavdata=demo_data,spgdata=demo_spg,en=demo_en,sr=self.sr,**self.kwargs)\n",
    "        \n",
    "        with self.wg_title:\n",
    "            clear_output()\n",
    "            print(self.name + \": \" + self.demo['title'] + \"\\n\")\n",
    "            print(self.section['txt']) \n",
    "            \n",
    "        with self.audio_instructions:\n",
    "            clear_output()\n",
    "            if self.instr_data is not None:\n",
    "                print(\"Listen to the instructions\")\n",
    "                display(Audio(data=self.instr_data,rate=self.sr,autoplay=False))\n",
    "                \n",
    "        with self.audio_demo:\n",
    "            clear_output(wait=True)\n",
    "            print(\"\\nListen to the demo\")\n",
    "            display(Audio(data=demo_data,rate=self.sr,autoplay=False))        \n",
    "            print(\"\\n\")\n",
    "            \n",
    "        with self.output:\n",
    "            clear_output(wait=True)\n",
    "            display(self.fig)\n"
   ]
  },
  {
   "cell_type": "markdown",
   "metadata": {},
   "source": [
    "## The Decibel Scale (Demo 4, Tracks 08-11) \n",
    "\n",
    "#### Background: Sound Pressure, Power and Loundness\n",
    "\n",
    "In a sound wave there are extremely small periodic variations in atmospheric pressure to which our ears respond in a rather complex manner. The minimum pressure\n",
    "fluctuation to which the ear can respond is less than one billionth ($10^{-9}$ ) of atmospheric\n",
    "pressure. (This is even more remarkable when we consider that storm fronts can cause\n",
    "the atmospheric pressure to change by as much as 5 to 10% in a few minutes.) The\n",
    "threshold of audibility, which varies from person to person, typically corresponds to\n",
    "a sound pressure amplitude of about $2x10^{-5} N/m2$ at a frequency of 1000 Hz. The\n",
    "threshold of pain corresponds to a pressure amplitude approximately one million ($10^6$)\n",
    "times greater, but still less than 1/1000 of atmospheric pressure (which is about ${10}^{6} \\mu bars$).\n",
    "Because of the wide range of pressure stimuli, it is convenient to measure sound\n",
    "pressures on a logarithmic scale, called the decibel (dB) scale. Thus we define sound pressure level as:   \n",
    "$$\n",
    "L_p = 20 log p/p_0\n",
    "\\hspace{1cm} \\text{ with }  p_0  = 2 x 10^{-5}N/m^2 =20 \\mu Pa \n",
    "$$\n",
    "\n",
    "Another quantity described by a decibel level is sound intensity, which is the rate\n",
    "of energy flow across a unit area. \n",
    "Sound intensity level is defined as: \n",
    "\n",
    "$$\n",
    "L_i = 10 logI/I_0   \\hspace{1cm} \\text{ with  } I_0 = {10}^{-12} W/{m^2}\n",
    "$$\n",
    "\n",
    "The relationship between sound pressure level and sound power level depends on\n",
    "several factors, including the geometry of the source and the room. If the sound power\n",
    "level of a source is increased by 10 dB, the sound pressure level also increases by 10\n",
    "dB, provided everything else remains the same. If a source radiates sound equally in all\n",
    "directions and there are no reflecting surfaces nearby (a free field), the sound pressure\n",
    "level decreases by 6 dB each time the distance from the source doubles.\n",
    "\n",
    "Loudness is a subjective quality. While loudness depends very much on the sound\n",
    "pressure level, it also depends upon such things as the frequency, the spectrum, the\n",
    "duration, and the amplitude envelope of the sound, plus the environmental conditions\n",
    "under which it is heard and the auditory condition of the listener.\n",
    "\n",
    "#### The Demo\n",
    "\n",
    "In the first part of this demonstration, we hear broadband noise reduced in steps of\n",
    "6, 3, and 1 dB in order to obtain a feeling for the decibel scale.\n",
    "In the latter part, a voice is heard at distances of 25, 50, 100, and 200 em from an\n",
    "omni-directional microphone in an anechoic room. Under these conditions, the sound\n",
    "pressure level decreases about 6 dB each time the distance is doubled. (In a normal\n",
    "room this will not be the case, since considerable sound energy reaches the microphone\n",
    "via reflections from walls, ceiling, floor, and objects within the room.)  \n",
    "\n",
    "The figure contains following representations:\n",
    "- the time waveform\n",
    "- energy on a dB scale\n",
    "- spectrogram\n",
    "\n",
    "\n",
    "#### Things to investigate\n",
    "1. The full dynamic range of the auditory system is about 120dB. However we need much less for our day to day usage. From the above examples, what level difference can you have between a soft and loud speech signal such that they are both comfortable and understandable without excessive effort from the listener?\n",
    "\n",
    "2. Explain the difference in acoustic behaviour between an anechoic room and the computer lab that you are in. Would you dare estimating the SPL differences when someone is talking to you from 25, 50, 100 and 200 cm in this room?\n",
    "\n",
    "3. What is the theoretical dynamic range that can be captured using 16bit quantization as on a standard CD recording ?"
   ]
  },
  {
   "cell_type": "markdown",
   "metadata": {},
   "source": [
    "### Answers\n",
    "\n",
    "1. About 50 dB in energy.\n",
    "\n",
    "2. For the anechoic room, the signal that reaches the receiver is only the direct signal. In a normal room, the signal that reaches the receiver is the direct signal plus the reflected signals. The SPL decreases by 6 dB each time the distance is doubled. Does this suffice as an answer?\n",
    "\n",
    "3. CD sampling rate is 44.1 kHz. The theoretical dynamic range is $20 \\log{2^{16}} = 96 dB$."
   ]
  },
  {
   "cell_type": "code",
   "execution_count": 6,
   "metadata": {},
   "outputs": [
    {
     "data": {
      "application/vnd.jupyter.widget-view+json": {
       "model_id": "351074d47c5b4c96918cbd5ca3c5bf64",
       "version_major": 2,
       "version_minor": 0
      },
      "text/plain": [
       "AuditoryDemo(children=(HBox(children=(Output(layout=Layout(height='60px', width='66%')), Dropdown(layout=Layou…"
      ]
     },
     "execution_count": 6,
     "metadata": {},
     "output_type": "execute_result"
    }
   ],
   "source": [
    "AuditoryDemo(demo=\"Demo4\")"
   ]
  },
  {
   "cell_type": "markdown",
   "metadata": {},
   "source": [
    "##  Frequency Response of the ear (Demo 6, Tracks 18) \n",
    "\n",
    "#### Introduction\n",
    "\n",
    "Although sounds with a greater sound pressure level usually sound louder, this\n",
    "is not always the case. The sensitivity of the ear varies with the frequency and the\n",
    "quality of the sound. Many years ago Fletcher and Munson (1933) determined curves of equal loudness for pure tones (that is, tones of a single frequency). \n",
    "\n",
    "The contours of equal loudness are labeled in units called phons, the level in phons\n",
    "being numerically equal to the sound pressure level in decibels at f = 1000 Hz.\n",
    "\n",
    "Equal Loudness curves illustrate the frequency dependent relationship between intensity and loudness of a sound.   Sound Presure Level (expressed in dB) measures the intensity of a sound, it is a *physical* unit.  Loudness on the other hand measures how loud a human perceives a sound; it is a *psychophysical* unit.\n",
    "\n",
    "<img src=\"../figures/Fletcher_Munson.jpg\">\n",
    "\n",
    "#### This Demo - The Audiometer\n",
    "\n",
    "In this demonstration, we compare the thresholds of audibility (in a room) of tones\n",
    "having frequencies of 125, 250, 500, 1000, 2000, 4000, and 8000 Hz. The tones are 100\n",
    "ms in length and decrease in 10 steps of -5 dB each. \n",
    "In this demo \"you\" are the subject of a psychoaoustic experiment, hence the result is your personal audiogram.\n",
    " \n",
    "To properly execute this demo, use the following steps with precision:\n",
    "\n",
    "1. Calibration\n",
    "- use the 1kHz tone staircase as calibration sequence (1kHz sits nicely within the most sensitive frequency range for human hearing)\n",
    "- play this tone staircase and adjust the level of your loudspeaker such that the softest tone is just audible, i.e. barely audible, i.e. not audible anymore if you turn down the amplifier by about 3dB !\n",
    "\n",
    "2. Estimating the audiogram\n",
    "- play staircases at other frequencies and count the number of tones that you can hear; when you hear fewer than 10, you can easily calculate your threshold level (up to 5dB resolution)\n",
    "- sketch your results on a graph showing your threshold of hearing at each of the frequencies\n",
    "\n",
    "#### Questions\n",
    "\n",
    "- What if the demo crashed ?\n",
    "    + By default we use a sampling rate of 24kHz, so that we easily can play the highest frequencies (8kHz is max in the demo).  This sampling rate is supported on most systems these days.   If there is a crashing behavior, try 22050Hz as sampling rate (this is an optional parameter in starting 'AuditoryDemo'.  If you go lower (if needed for your hardware), you must realize that the 8kHz tones can not be rendered with a sample rate of 16000 Hz  (sample rate should always be higher than 2x any frequency that you want to play -- plus add a bit of margin onto that for the analog equipment)\n",
    "- When should you consult an audiologist and when should you be worried about the quality of your speakers or audio on your computer ?\n",
    "    + If you didn't hear the full staircase at 2000 Hz \n",
    "    + If you only heard 2 out of 10 at 125Hz\n",
    "    + If you only heard 6 out of 10 at 4kHz"
   ]
  },
  {
   "cell_type": "code",
   "execution_count": 7,
   "metadata": {},
   "outputs": [
    {
     "data": {
      "application/vnd.jupyter.widget-view+json": {
       "model_id": "5156930e6f2644339cde7a66df31532f",
       "version_major": 2,
       "version_minor": 0
      },
      "text/plain": [
       "AuditoryDemo(children=(HBox(children=(Output(layout=Layout(height='60px', width='66%')), Dropdown(index=3, lay…"
      ]
     },
     "execution_count": 7,
     "metadata": {},
     "output_type": "execute_result"
    }
   ],
   "source": [
    "AuditoryDemo(demo=\"Demo6\",sample_rate=22050,init=3)"
   ]
  },
  {
   "cell_type": "code",
   "execution_count": 8,
   "metadata": {},
   "outputs": [
    {
     "data": {
      "image/png": "[encoded data removed]",
      "text/plain": [
       "<Figure size 1000x500 with 1 Axes>"
      ]
     },
     "metadata": {},
     "output_type": "display_data"
    }
   ],
   "source": [
    "import matplotlib.pyplot as plt\n",
    "\n",
    "my_hearing = {\n",
    "    125: 5,\n",
    "    250: 6,\n",
    "    500: 8,\n",
    "    1000: 8,\n",
    "    2000: 10,\n",
    "    4000: 10,\n",
    "    8000: 9\n",
    "}\n",
    "\n",
    "plt.figure(figsize=(10,5))\n",
    "plt.plot(list(my_hearing.keys()), list(my_hearing.values()))\n",
    "plt.title('My hearing')\n",
    "plt.xlabel('Frequency (Hz)')\n",
    "plt.ylabel('Hearing level (dB)')\n",
    "plt.show()"
   ]
  },
  {
   "cell_type": "markdown",
   "metadata": {},
   "source": [
    "## The Effect of Spectrum on Timbre (Demo 28 , Tracks 53)\n",
    "\n",
    "#### Background\n",
    "Timbre can be defined as \"that attribute of auditory sensation in terms of which a listener can judge that two sounds similarly presented and having the same loudness and pitch are dissimilar...\". According to this definition, timbre is the subjective correlate of all those sound properties that do not directly influence pitch or loudness. These properties include the sound's spectral power distribution, its temporal envelope, rate and depth of amplitude or frequency modulation, and the degree of non-harmonicity of its partials. The timbre of a sound therefore depends on many physical variables.\n",
    "\n",
    "The concept of timbre plays a very important role in the orchestration of traditional music and in the composition of computer music. There is, however, no satisfying comprehensive theory of timbre perception. Neither is there a uniform nomenclature to designate or classify timbre. This poses considerable problems in communicating or teaching the skills of orchestration and computer score writing to student-composers.\n",
    "\n",
    "#### The demonstration\n",
    "In the following demonstrations, one can hear the influence of spectral make-up on the perceived timbre of sounds of musical instruments.   \n",
    "In this demo we show spectral slices (one per second) is a so-called waterfall spectrogram to draw attention to the added harmonics with each repetition.\n",
    "\n",
    "##### Demonstration 28(a): Carillon bell\n",
    " \n",
    "The sound of a Hermony carillon bell, having a strike-note pitch around 500 Hz (B4), is synthesized in eight steps by adding successive partials with their original frequency, phase and temporal envelope. The partials added in successive steps are:\n",
    " \n",
    "- Hume note (251 Hz)\n",
    "- Prime or Fundamental (501 Hz)\n",
    "- Minor Third and Fifth (603, 750 Hz)\n",
    "- Octave or Nominal (1005 Hz)\n",
    "- Duodecime or Twelfth (1506 Hz)\n",
    "- Upper Octave (2083 Hz)\n",
    "- Next two partials (2421, 2721 Hz)\n",
    "- Remainder of partials\n",
    "\n",
    "##### Demonstration 28(b): Guitar\n",
    " \n",
    "The sound of a guitar tone with a fundamental frequency of 251 Hz is analyzed and re-synthesized in a similar manner, the partials added in successive steps are:\n",
    " \n",
    "- Fundamental\n",
    "- 2nd harmonic\n",
    "- 3rd harmonic\n",
    "- 4th harmonic\n",
    "- 5th and 6th harmonics\n",
    "- 7th and 8th harmonics\n",
    "- 9th, 10th and 11th harmonics\n",
    "- Remainder of partials\n",
    "\n",
    "#### Things to investigate, Questions\n",
    "1. How do instruments sound when you play them over the telephone ?\n",
    "    + does the pitch(note) change ?\n",
    "    + can you still recognize which instrument it is ?\n"
   ]
  },
  {
   "cell_type": "markdown",
   "metadata": {},
   "source": [
    "## Answers\n",
    "\n",
    "1. This depends on the microphone and speaker quality and the bandwidth of the telephone line. A band pass filter is used to cut off the lower and higher parts of the spectrum. This does not change the pitch, but it does change the timbre. The timbre of the instrument is still recognizable, but it is less clear."
   ]
  },
  {
   "cell_type": "code",
   "execution_count": 9,
   "metadata": {},
   "outputs": [
    {
     "data": {
      "application/vnd.jupyter.widget-view+json": {
       "model_id": "380d8fa697744f929c20eea98a3ad6f4",
       "version_major": 2,
       "version_minor": 0
      },
      "text/plain": [
       "AuditoryDemo(children=(HBox(children=(Output(layout=Layout(height='60px', width='66%')), Dropdown(layout=Layou…"
      ]
     },
     "execution_count": 9,
     "metadata": {},
     "output_type": "execute_result"
    }
   ],
   "source": [
    "AuditoryDemo(demo=\"Demo28\",plot_func=make_fig2,n=100)"
   ]
  },
  {
   "cell_type": "markdown",
   "metadata": {},
   "source": [
    "## The Effect of Tone Envelope on Timbre (Demo 29, Tracks 54-56)\n",
    "\n",
    "#### In this demo you will hear\n",
    "- \"A recording of a J.S. Bach chorale played on a piano\"  (\"Als der gütige Gott\") \n",
    "- \"Next the same chorale will be played backwards\" \n",
    "- \"Finally the tape of the last recording is played backwards so that the chorale is heard forward again, but with an interesting difference\". \n",
    "\n",
    "#### Some Background\n",
    "The purpose of this demonstration is to show that the temporal envelope of a sound, i.e. the time course of the sound's smoothed amplitude, has a significant influence on the perceived timbre of the sound.\n",
    "\n",
    "A typical tone envelope may include an attack, a steady-state, and a decay portion (e.g. wind instrument tones), or may merely have an attack immediately followed by a decay portion (e.g. plucked or struck string tones).\n",
    "\n",
    "By removing the attack segment of an instrument's sound, or by substituting the attack segment of another musical instrument, the perceived timbre of the sound may change so drastically that the instrument can no longer be recognised.\n",
    "\n",
    "#### Things to investigate\n",
    "- How does an instrument sound when the tape is played in reverse? \n"
   ]
  },
  {
   "cell_type": "code",
   "execution_count": 10,
   "metadata": {},
   "outputs": [
    {
     "data": {
      "application/vnd.jupyter.widget-view+json": {
       "model_id": "757854ccbdbe493bb4a2346e22d140e7",
       "version_major": 2,
       "version_minor": 0
      },
      "text/plain": [
       "AuditoryDemo(children=(HBox(children=(Output(layout=Layout(height='60px', width='66%')), Dropdown(layout=Layou…"
      ]
     },
     "execution_count": 10,
     "metadata": {},
     "output_type": "execute_result"
    }
   ],
   "source": [
    "AuditoryDemo(demo='Demo29')"
   ]
  },
  {
   "cell_type": "markdown",
   "metadata": {},
   "source": [
    "## The Effect of Echoes (Demo35, Track 70)\n",
    "\n",
    "#### In this demo you will hear\n",
    "\"First in an anechoic room, then in a conference room, and finally in a very reverberant space, you will hear a hammer striking a brick followed by an old Scottish\n",
    "prayer. Playing these sounds backwards focuses our attention on the echoes that\n",
    "occur.\" \n",
    "\n",
    "#### Some Background\n",
    "This so-called \"ghoulies and ghosties\" demonstration (No.2 on the \"Harvard tapes\")\n",
    "has become somewhat of a classic, and so it is reproduced here exactly as it was presented\n",
    "there. The reader is Dr. Sanford Fidell.\n",
    "An important property of sound in practically all enclosed space is that reflections\n",
    "occur from the walls, ceiling, and floor. For a typical living space, 50 to 90 percent of\n",
    "the energy is reflected at the borders. These reflections are heard as echoes if sufficient\n",
    "time elapses between the initial sound and the reflected sound. Since sound travels\n",
    "about a foot per millisecond, delays between the initial and secondary sound will be of\n",
    "the order of 10 to 20 ms for a modest room. Practically no one reports hearing echoes\n",
    "in typical small classrooms when a transient sound is initiated by a snap of the fingers.\n",
    "The echoes are not heard, although the reflected sound may arrive as much as 30 to 50\n",
    "ms later. This demonstration is designed to make the point that these echoes do exist\n",
    "and are appreciable in size. Our hearing mechanism somehow manages to suppress the\n",
    "later-arriving reflections, and they are simply not noticed.\n",
    "The demonstration makes these reflections evident, however, by playing the recorded\n",
    "sound backward in time. \n",
    "\n",
    "The transient sound is the blow of a hammer on a brick, the\n",
    "more sustained sound is the narration of an old Scottish prayer. Three different acoustic\n",
    "environments are used, an anechoic (echoless) room, a typical conference room, similar\n",
    "acoustically to many living rooms, and finally a highly reverberant room with cement\n",
    "floor, hard plaster walls and ceiling. Little reverberation is apparent in any of the\n",
    "rooms when the recording is played forward, but the reversed playback makes the echoes\n",
    "evident in the environment where they do occur.\n",
    "Note that changes in the quality of the voice are evident as one changes rooms even\n",
    "when the recording is played forward. These changes in quality are caused by differences\n",
    "in amount and duration of the reflections occurring in these different environments. The\n",
    "reflections are not heard as echoes, however, but as subtle, and difficult to describe,\n",
    "changes in voice quality. All recordings were made with the speaker's mouth about 0.3\n",
    "meters from the microphone.\n",
    "\n",
    "#### Things to investigate\n",
    "- There is reverberation in every room.  Why are we not truly aware of this (in most situations) ?\n",
    "- Give an example of a situation in which we are critically aware that long reverberations hinder speech understanding.  Can you explain this ?\n",
    "- Where is reverberation (long and short) most visible ? In the time domain waveform or the spectrogram ?\n"
   ]
  },
  {
   "cell_type": "code",
   "execution_count": 11,
   "metadata": {},
   "outputs": [
    {
     "data": {
      "application/vnd.jupyter.widget-view+json": {
       "model_id": "6d6e4ce9cc954259975de6e5cc0ded35",
       "version_major": 2,
       "version_minor": 0
      },
      "text/plain": [
       "AuditoryDemo(children=(HBox(children=(Output(layout=Layout(height='60px', width='66%')), Dropdown(layout=Layou…"
      ]
     },
     "execution_count": 11,
     "metadata": {},
     "output_type": "execute_result"
    }
   ],
   "source": [
    "AuditoryDemo(demo='Demo35')"
   ]
  },
  {
   "cell_type": "markdown",
   "metadata": {},
   "source": [
    "## Critical Bands by Masking\n",
    "\n",
    "#### What you will hear\n",
    "This demonstration of the masking of a single 2000-Hz tone by spectrally flat (white)\n",
    "noise of different bandwidths is based on the experiments of Fletcher (1940). First, we\n",
    "use broadband noise and then noise with bandwidths of 1000, 250, and 10 Hz.\n",
    "In order to determine the level of the tone that can just be heard in the presence of\n",
    "the noise, in each case, we present the 2000-Hz tone in 10 decreasing steps of 5 decibels\n",
    "each.\n",
    "Since the critical bandwidth at 2000 Hz is about 280 Hz, you would expect to hear\n",
    "more steps in the 2000-Hz tone staircase when the noise bandwidth is reduced below\n",
    "this value.\n",
    "Since the spectrum level of the noise is kept constant, its intensity (and its subjective\n",
    "loudness) will decrease markedly as the bandwidth is decreased.\n",
    "\n",
    "- \"You will hear a 2000-Hz tone in 10 decreasing steps of 5 decibels. Count bow many steps you can hear. Series are presented twice.\"\n",
    "- \"Now the signal is masked with broadband noise.\"\n",
    "- \"Next the noise has a bandwidth of 1000 Hz.\"\n",
    "- \"Next noise with a bandwidth of 250Hz is used.\"\n",
    "- \"Finally, the bandwidth is reduced to only 10 Hz.\"\n",
    "\n",
    "#### Some Background\n",
    "For many years, it has been known that the cochlea of the inner ear acts as a\n",
    "mechanical spectrum analyzer. Fletcher's pioneering work in the 1940's pointed to t:he\n",
    "existence of critical bands in the cochlear response. Studying the masking of a tone\n",
    "by broadband (white) noise, Fletcher (1940) found that only a narrow band of noiise\n",
    "surrounding the tone causes masking of the tone, and that when the noise just masks\n",
    "the tone, the power of the noise in this band (the critical band) is equal to the powrer\n",
    "in the tone.    \n",
    "\n",
    "Critical bands are of great importance in understanding many auditory phenomema:\n",
    "perception of loudness, pitch, and timbre.  Their importance is apttly\n",
    "pointed out by Tobias (1970) in his Foreword to an article on Critical Bands:\n",
    "\"Nowhere in auditory theory or in acoustic psychophysiological practice is anything\n",
    "more ubiquitous than the critical band. It turns up in the measurement of pitch,\n",
    "in the study of loudness, in the analysis of masking and fatiguing signals, in the\n",
    "perception of phase, and even in the determination of the pleasantness of music.   \n",
    "\n",
    "The auditory system performs a Fourier analysis of complex sounds into their component frequencies. \n",
    "The cochlea acts as if it were made up of overlapping filters having\n",
    "bandwidths equal to the critical bandwidth. The critical bandwidth varies from slightly\n",
    "less than 100Hz at low frequency to about 1/3 of an octave at high frequency. \n",
    "The audible range of frequencies comprises about 24 critical bands. It should\n",
    "be emphasized that there are not 24 independent filters, however. The ear's critical\n",
    "bands are continuous, in that a tone of any audible frequency will find a critical band\n",
    "centered on it. "
   ]
  },
  {
   "cell_type": "code",
   "execution_count": 12,
   "metadata": {},
   "outputs": [
    {
     "data": {
      "application/vnd.jupyter.widget-view+json": {
       "model_id": "15a46cdd245f46cc82255ecd35ed22a8",
       "version_major": 2,
       "version_minor": 0
      },
      "text/plain": [
       "AuditoryDemo(children=(HBox(children=(Output(layout=Layout(height='60px', width='66%')), Dropdown(layout=Layou…"
      ]
     },
     "execution_count": 12,
     "metadata": {},
     "output_type": "execute_result"
    }
   ],
   "source": [
    "AuditoryDemo(demo='Demo2')"
   ]
  },
  {
   "cell_type": "code",
   "execution_count": 13,
   "metadata": {},
   "outputs": [],
   "source": [
    "#! jupyter nbconvert Keyboard.ipynb --to html"
   ]
  }
 ],
 "metadata": {
  "colab": {
   "collapsed_sections": [],
   "name": "AuditoryDemonstrations.ipynb",
   "provenance": []
  },
  "kernelspec": {
   "display_name": "Python 3 (ipykernel)",
   "language": "python",
   "name": "python3"
  },
  "language_info": {
   "codemirror_mode": {
    "name": "ipython",
    "version": 3
   },
   "file_extension": ".py",
   "mimetype": "text/x-python",
   "name": "python",
   "nbconvert_exporter": "python",
   "pygments_lexer": "ipython3",
   "version": "3.12.0b4"
  },
  "widgets": {
   "application/vnd.jupyter.widget-state+json": {
    "state": {},
    "version_major": 2,
    "version_minor": 0
   }
  }
 },
 "nbformat": 4,
 "nbformat_minor": 4
}
