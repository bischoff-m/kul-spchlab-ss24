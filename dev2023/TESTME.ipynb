{
 "cells": [
  {
   "cell_type": "markdown",
   "id": "145a42d4-2fab-41b2-a108-86dcf6895f25",
   "metadata": {},
   "source": [
    "#  TEST including figures\n",
    "\n",
    "\n",
    "\n",
    "##### Purpose\n",
    "\n",
    "How to consistently embed figures in Markdown ?????????\n",
    "\n",
    "##### Test1 - markdown and figure in same or sub directories\n",
    "\n",
    "simple markdown of .jpg\n",
    "![](PetersonBarney_1952_fig8.jpg)\n",
    "\n",
    "or  with .png  -- works locally but not working on GITHUB\n",
    "\n",
    "![](PetersonBarney_1952_fig8.png)\n",
    "\n",
    "##### Test2 - HTML and figure in same or sub directories using HTML code\n",
    "simple   HTML\n",
    "\n",
    "<img src=\"PetersonBarney_1952_fig8.jpg\">\n",
    "\n",
    "\n",
    "HTML without backslash before end />   \n",
    "\n",
    "<img src=\"./PetersonBarney_1952_fig8.jpg\">\n",
    "\n",
    "\n",
    "HTML with backslash\n",
    "<img src=\"./PetersonBarney_1952_fig8.jpg\" alt=\"PB fig8\"/>\n",
    "\n",
    "##### Test3 - relative paths including ..\n",
    "\n",
    "referencing to relative directory higher in the tree   \n",
    "<img src=\"../figures/Fletcher_Munson.jpg\">\n",
    "\n",
    "and another\n",
    "<img src=\"../figures/PetersonBarney_1952_fig8.jpg\">\n",
    "\n",
    "\n",
    "##### Test4 -  .jpg issues\n",
    "some .jpg figures seem to work locally but not in github/colab\n",
    "<img src=\"../figures/PetersonBarney_1952_fig8_not_on_github.jpg\">"
   ]
  },
  {
   "cell_type": "code",
   "execution_count": 1,
   "id": "71adf30d-fbac-4b9a-8695-6954ddd05dce",
   "metadata": {},
   "outputs": [
    {
     "name": "stderr",
     "output_type": "stream",
     "text": [
      "[NbConvertApp] Converting notebook TESTME.ipynb to html\n",
      "[NbConvertApp] WARNING | Alternative text is missing on 5 image(s).\n",
      "[NbConvertApp] Writing 270863 bytes to TESTME.html\n"
     ]
    }
   ],
   "source": [
    "! jupyter nbconvert TESTME.ipynb --to html"
   ]
  },
  {
   "cell_type": "code",
   "execution_count": null,
   "id": "d320c070-e943-403b-91e0-473736c6e856",
   "metadata": {},
   "outputs": [],
   "source": []
  }
 ],
 "metadata": {
  "kernelspec": {
   "display_name": "Python 3 (ipykernel)",
   "language": "python",
   "name": "python3"
  },
  "language_info": {
   "codemirror_mode": {
    "name": "ipython",
    "version": 3
   },
   "file_extension": ".py",
   "mimetype": "text/x-python",
   "name": "python",
   "nbconvert_exporter": "python",
   "pygments_lexer": "ipython3",
   "version": "3.10.13"
  }
 },
 "nbformat": 4,
 "nbformat_minor": 5
}
