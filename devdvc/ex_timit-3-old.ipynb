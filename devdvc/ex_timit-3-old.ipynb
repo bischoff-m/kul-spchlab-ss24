{
 "cells": [
  {
   "cell_type": "markdown",
   "metadata": {
    "id": "1-Sg0pH041mX"
   },
   "source": [
    "## Classification of Speech Frames\n",
    "\n",
    "### PART IV:  RECOGNIZE A PHONEME FROM FILTERBANK FEATURES WITH A DNN"
   ]
  },
  {
   "cell_type": "markdown",
   "metadata": {
    "id": "nEBOGxM441mY"
   },
   "source": [
    "### 1. Setting up your Python Environment\n",
    "\n",
    "1. Import Python's Machine Learning Stack and other utilities\n",
    "\n",
    "2. Quite a few helper routines are defined for learning our Neural Network in Pytorch. There is no need to go through this in detail, but interested people can of course do this. There are 3 blocks of code:\n",
    "\n",
    "  a. Auxiliary functions: data loading/saving + feature extraction + phone label mapping\n",
    "\n",
    "  b. Pytorch functions: NN architecture + training + evaluation \n",
    "\n",
    "  c. Define setups: predefined setups (feature extraction, labels, training data)\n",
    "\n",
    "\n",
    "\n",
    "## ISSUES: \n",
    "- 30/03/2022:  problem opening/importing current version on PC/windows   'code editor out of sync'"
   ]
  },
  {
   "cell_type": "code",
   "execution_count": 1,
   "metadata": {
    "cellView": "form",
    "colab": {
     "base_uri": "https://localhost:8080/"
    },
    "id": "r-5Fz07p41mZ",
    "outputId": "8ed1d9f6-d62e-4900-d466-b48ec6dcc881"
   },
   "outputs": [],
   "source": [
    "\r\n",
    "%matplotlib inline\r\n",
    "import sys,os,io\r\n",
    "import math\r\n",
    "import numpy as np\r\n",
    "import matplotlib.pyplot as plt\r\n",
    "import pandas as pd\r\n",
    "import seaborn as sns\r\n",
    "import scipy.io as sio\r\n",
    "import urllib.request\r\n",
    "\r\n",
    "# imports from pytorch\r\n",
    "import torch\r\n",
    "import torch.nn as nn\r\n",
    "from torch.utils.data import Dataset, DataLoader\r\n",
    "\r\n",
    "# reproducibility \r\n",
    "torch.manual_seed(0) \r\n",
    "np.random.seed(0)\r\n",
    "\r\n",
    "# imports from the scikit-learn \r\n",
    "from sklearn.model_selection import train_test_split, cross_val_score\r\n",
    "from sklearn.linear_model import Perceptron\r\n",
    "from sklearn import metrics as skmetrics\r\n",
    "from sklearn.mixture import GaussianMixture\r\n",
    "from scipy.fftpack import dct\r\n",
    "\r\n",
    "try:\r\n",
    "  import google.colab\r\n",
    "  IN_COLAB = True\r\n",
    "  ! pip install git+https://github.com/compi1234/pyspch.git\r\n",
    "except:\r\n",
    "  IN_COLAB = False\r\n",
    "\r\n",
    "from pyspch.GaussianMixtureClf import GaussianMixtureClf\r\n",
    "import pyspch.display as spchd"
   ]
  },
  {
   "cell_type": "code",
   "execution_count": 2,
   "metadata": {
    "cellView": "form",
    "id": "0lVsE9SC5led"
   },
   "outputs": [],
   "source": [
    "#@title Auxiliary functions \n",
    "\n",
    "## Pickle functions \n",
    "import pickle\n",
    "import gzip\n",
    "\n",
    "# save pickled file\n",
    "def pickle_data(df, filename):   \n",
    "    file_object = gzip.open(filename, \"wb\")\n",
    "    print(\"Generating \" + filename, end=\" ...\")\n",
    "    pickle.dump(df, file_object)\n",
    "    print(\"done\")\n",
    "    file_object.close()\n",
    "\n",
    "# open pickled file\n",
    "def unpickle_data(filename):\n",
    "    file_object = open(filename, \"rb\")\n",
    "    df = pickle.load(file_object)\n",
    "    file_object.close()\n",
    "    return df\n",
    "\n",
    "\n",
    "## Download functions\n",
    "\n",
    "import requests\n",
    "\n",
    "# download from url and write to file\n",
    "def write_from_url(url, filename):\n",
    "    r = requests.get(url)\n",
    "    with open(filename, 'wb') as f:\n",
    "        f.write(r.content)\n",
    "\n",
    "## Phoneme segmentation  \n",
    "\n",
    "# phone segmentation to phone per frame in utterance\n",
    "def phnseg_to_phns(phnseg, nframes):\n",
    "    phn_list = []\n",
    "    for seg_idx, seg in phnseg.iterrows():\n",
    "        seg_nframes = seg['t1'] - seg['t0']\n",
    "        phn_list += [seg['seg']] * seg_nframes\n",
    "        \n",
    "    return phn_list    \n",
    " \n",
    "# phone segmentation to center frame of phone per frame\n",
    "def phnseg_to_center_frames(phnseg, nframes):\n",
    "    center_frame_ids = []\n",
    "    for seg_idx, seg in phnseg.iterrows():\n",
    "        seg_nframes = seg['t1'] - seg['t0']\n",
    "        center_frame_ids += [int(seg['t0'] + seg_nframes / 2)] * seg_nframes\n",
    "        \n",
    "    return center_frame_ids\n",
    "\n",
    "##  Window\n",
    "\n",
    "# The window is determined by utterance boundaries (frame_idx, utt_nframes) \n",
    "# and the window parameters (window_nframes, stride). The window is represented \n",
    "# by indices relative to the frame index.\n",
    "\n",
    "# window indices relative to frame index\n",
    "def get_window(frame_idx, utt_nframes, window_nframes, stride, shift=0):\n",
    "    \n",
    "    def window_bounds(window_nframes):\n",
    "        if window_nframes % 2 == 0:    \n",
    "            # even case: start-i-center-i-i-end (example window_nframes=6)       \n",
    "            start = -window_nframes / 2 + 1\n",
    "            end = window_nframes / 2\n",
    "        else:                       \n",
    "            # uneven case: start-i-ref-i-stop (example window_nframes=5)       \n",
    "            start = -(window_nframes - 1) / 2\n",
    "            end = (window_nframes - 1) / 2  \n",
    "            \n",
    "        return start, end\n",
    "    \n",
    "    def adjust_window_to_utt_bounds(window):\n",
    "        new_window = []\n",
    "        for rel_idx in window:\n",
    "            rel_idx = max(rel_idx, 0 - frame_idx)\n",
    "            rel_idx = min(rel_idx, utt_nframes - 1 - frame_idx)\n",
    "            new_window.append(rel_idx)\n",
    "            \n",
    "        return np.array(new_window)\n",
    "    \n",
    "    # window boundaries w.r.t. center frame\n",
    "    start, end = window_bounds(window_nframes)\n",
    "    # window of evenly spaced frames around center frame\n",
    "    window = np.arange(start, end + 1).astype(int) \n",
    "    # apply stride and shift\n",
    "    window = window * stride + shift \n",
    "    # adjust window indices out of the utterance bounds\n",
    "    window = adjust_window_to_utt_bounds(window)\n",
    "    \n",
    "    return window\n",
    "\n",
    "# window indices for each frame in utterance\n",
    "def get_windows_for_utt(utt_nframes, window_nframes, stride, shift):\n",
    "    utt_windows = []\n",
    "    # iterate over frames in utterance\n",
    "    for frame_idx in range(utt_nframes):\n",
    "        window = get_window(frame_idx, utt_nframes,\n",
    "                            window_nframes, stride, shift)\n",
    "        utt_windows.append(window)\n",
    "    \n",
    "    return utt_windows\n",
    "\n",
    "# apply window to frames  \n",
    "def apply_window(frames, frame_ids, frame_windows):\n",
    "    inputs = []\n",
    "    # ensure type is numpy for easy indexing\n",
    "    frames = np.array(frames)\n",
    "    # iterate over frames \n",
    "    for frame_idx, frame_window in zip(frame_ids, frame_windows):\n",
    "        # apply window\n",
    "        feature = np.stack(frames[frame_window + int(frame_idx)], axis=0)\n",
    "        # save feature\n",
    "        inputs.append(feature)\n",
    "        \n",
    "    return np.stack(inputs, axis=0)\n",
    "\n",
    "## Reshape\n",
    "\n",
    "# reshape features assuming first dimension is 'examples'\n",
    "def reshape_features(frames, shape=(-1,)):\n",
    "    # n_examples = len(frames)\n",
    "    # new_shape = (n_examples, *shape)\n",
    "    \n",
    "    return [np.reshape(frame, shape) for frame in frames]\n",
    "\n",
    "## Normalization and derrivatives\n",
    "\n",
    "# normalization\n",
    "def normalize_data(data, axis=0, normMean=False, normVar=True):\n",
    "    if normMean:\n",
    "        mean = data.std(axis=axis) \n",
    "        data = np.subtract(data, mean)\n",
    "    if normVar:\n",
    "        stdev = data.std(axis=axis) \n",
    "        data = np.divide(data, stdev)\n",
    "    \n",
    "    return data\n",
    "\n",
    "# temporal derrivatives\n",
    "def add_derrivatives_data(data, delta=True, ddelta=True):   \n",
    "    if delta:\n",
    "        data_delta = np.gradient(data, axis=0)\n",
    "        data = np.concatenate((data, data_delta), axis=-1)\n",
    "    if ddelta:\n",
    "        data_delta = np.gradient(data, axis=0)\n",
    "        data_ddelta = np.gradient(data_delta, axis=0)\n",
    "        data = np.concatenate((data, data_delta, data_ddelta), axis=-1)\n",
    " \n",
    "    return data\n",
    "\n",
    "\n",
    "## Wrapper for assembling dataframe containing frames \n",
    "\n",
    "# assemble dataframe\n",
    "#   = row per frame\n",
    "# - path                    = utterance identifier\n",
    "# - center frame index      = index of center frame for current phoneme\n",
    "# - frame index             = index of frame for current phoneme\n",
    "# - window indices          = window indices \n",
    "def assemble_frame_dataframe(df, window_nframes=5, stride=2, shift=0,\n",
    "                             delta=True, ddelta=False,\n",
    "                             normMean=False, normVar=True):\n",
    "    frame_dfs = []\n",
    "    # iterate over utterances\n",
    "    for _, utt in df.iterrows():\n",
    "        \n",
    "        ## modify feature vector\n",
    "        # utterance data\n",
    "        data = utt['data']\n",
    "        # add temporal derrivatives\n",
    "        data = add_derrivatives_data(data, delta=delta, ddelta=ddelta)\n",
    "        # normalize standard deviation per channel (feature dimension)\n",
    "        data = normalize_data(data, axis=0, normMean=normMean, normVar=normVar)\n",
    "        \n",
    "        ## labels and names\n",
    "        # number of frames in utterance\n",
    "        utt_nframes = data.shape[0]\n",
    "        # utterance name for each frame\n",
    "        utt_names = [utt['utt_name']] * utt_nframes\n",
    "        # phone segmentation to phone per frame in utterance\n",
    "        phnseg = utt['phn_seg']\n",
    "        utt_phns = phnseg_to_phns(phnseg, utt_nframes)\n",
    "        centre_frame_ids = phnseg_to_center_frames(phnseg, utt_nframes)\n",
    "        # - indices of (feature) window per frame in utterance \n",
    "        utt_windows = get_windows_for_utt(utt_nframes, window_nframes=window_nframes, \n",
    "                                          stride=stride, shift=shift)\n",
    "        \n",
    "        # index of last frame\n",
    "        # - correct for occasional mismatch in number of frames and phone labels\n",
    "        eidx = min(utt_nframes, len(utt_phns))\n",
    "        \n",
    "        ## frame dataframe per utterance  \n",
    "        # - row per frame in utterance\n",
    "        # - columns: \"utt_name\", \"frame_idx\", window\", \"data\", \"phn_label\"\n",
    "        frame_df = pd.DataFrame({'utt_name' : utt_names[:eidx],\n",
    "                               'center_frame_idx' : centre_frame_ids[:eidx],\n",
    "                               'frame_idx' : np.arange(utt_nframes)[:eidx],\n",
    "                               'window' :  utt_windows[:eidx],\n",
    "                               'data' : list(data[:eidx]),\n",
    "                               'org_phn_label' : utt_phns[:eidx]})\n",
    "         \n",
    "        frame_dfs.append(frame_df)\n",
    "    \n",
    "    # concatenate frame dataframes per utterance to final frame dataframe \n",
    "    frame_df = pd.concat(frame_dfs, ignore_index=True)\n",
    "    \n",
    "    return frame_df\n",
    "\n",
    "\n",
    "## Phone and label mapping \n",
    "\n",
    "# TIMIT phone label to phone label (using phone_map_file)\n",
    "def get_phn2phn_map(phone_map_file, ocol, icol=0):\n",
    "    phn2phn = {}\n",
    "    with open(phone_map_file) as file:\n",
    "        for line in file:\n",
    "            w = line.strip().split(\"\\t\")\n",
    "            phn2phn[w[icol]] = w[ocol]\n",
    "            \n",
    "    return phn2phn \n",
    "\n",
    "# phone label to numeric label\n",
    "def get_phn2lab_map(phn_labels):\n",
    "    phn_labels = unique_list(phn_labels)\n",
    "    phn2lab_map = {phn : i for i, phn in enumerate(phn_labels) }\n",
    "    lab2phn_map = {i : phn for i, phn in enumerate(phn_labels) }\n",
    "    \n",
    "    return phn2lab_map, lab2phn_map \n",
    "\n",
    "# numeric label (based on 'icol') to other numeric label (based on '0col')\n",
    "def get_lab2lab_dict(phone_map_file, icol, ocol, phn_set=None):\n",
    "    # phn2phn\n",
    "    iphn2ophn = get_phn2phn_map(phone_map_file, ocol, icol)\n",
    "\n",
    "    # phn2lab x2\n",
    "    iphn2lab, _ = get_phn2lab_map(list(iphn2ophn.keys()))\n",
    "    ophn2lab, _ = get_phn2lab_map(list(iphn2ophn.values())) \n",
    "\n",
    "    # lab2lab\n",
    "    ilab2olab = {iphn2lab[k]:ophn2lab[v] for k,v in iphn2ophn.items()}\n",
    "    \n",
    "    return ilab2olab\n",
    "\n",
    "# get unique items in list\n",
    "def unique_list(lst): \n",
    "    # dict perserves order (vs. set)\n",
    "    return list(dict.fromkeys(lst))\n",
    "\n",
    "\n",
    "## Operations on dataframe  {display-mode: \"form\"}\n",
    "\n",
    "# split 'utt_name' column for easy data selection\n",
    "def split_string_column(df, col_dict, sep=\"/\"):  \n",
    "    for key, value in col_dict['target'].items():\n",
    "        df[key] = df.apply(lambda row: row[col_dict['source']].split(sep)[value], axis=1)\n",
    "    \n",
    "    return df \n",
    "\n",
    "# data selection based on regex in columns\n",
    "def filter_regex_dataframe(df, include, exclude=None):\n",
    "    if include is not None:\n",
    "        for key, value in include.items():\n",
    "            if value is not None:\n",
    "                df = df[df[key].str.contains(value)]\n",
    "                \n",
    "    if exclude is not None:\n",
    "        for key, value in exclude.items():\n",
    "            if value is not None:\n",
    "                df = df[~df[key].str.contains(value)]\n",
    "    \n",
    "    return df\n",
    "\n",
    "### Wrapper functions\n",
    "\n",
    "def phone_and_label_mapping(phone_map_file, ocol=1, phn_set=None):\n",
    "\n",
    "    # phone mapping parameters\n",
    "    # ocol -> {0 : TIMIT 61 phone label, 1 : 48 phone label, 2: 39 phone label}\n",
    "\n",
    "    # phone mapping - phn2phn dictionairy = {TIMIT phone label : phone label}\n",
    "    phn2phn = get_phn2phn_map(phone_map_file, ocol=ocol)\n",
    "\n",
    "    # label mapping - phn2lab dictionairy = {phone label : integer label}\n",
    "    if phn_set == None:\n",
    "        phn_set = unique_list([phn for phn in phn2phn.values()]) # all values\n",
    "    \n",
    "    phn2lab, lab2phn = get_phn2lab_map(phn_set)\n",
    "\n",
    "    return phn2phn, phn2lab, lab2phn, phn_set\n",
    "\n",
    "# split in train / validation / test set \n",
    "def utterance_based_data_split(frames_df): \n",
    "\n",
    "    # add columns for easy splitting\n",
    "    col_dict = {'source' : 'utt_name',\n",
    "                'target' : {'dataset' : 0, 'dialect' : 1, \n",
    "                            'speaker' : 2, 'utterance' : 3}}\n",
    "    frames_df = split_string_column(frames_df, col_dict=col_dict, sep='/')\n",
    "\n",
    "    # define split\n",
    "    train_re_incl = {'dataset' : 'train'}\n",
    "    train_re_excl = {'dialect' : 'dr8', 'utterance' : 'sa'}\n",
    "    valid_re_incl = {'dataset' : 'train', 'dialect' : 'dr8'}\n",
    "    valid_re_excl = {'utterance' : 'sa'}\n",
    "    test_re_incl = {'dataset' : 'test'}\n",
    "    test_re_excl = {'utterance' : 'sa'}\n",
    "\n",
    "    # split\n",
    "    train_df = filter_regex_dataframe(frames_df, train_re_incl, train_re_excl)\n",
    "    valid_df = filter_regex_dataframe(frames_df, valid_re_incl, valid_re_excl)\n",
    "    test_df = filter_regex_dataframe(frames_df, test_re_incl, test_re_excl)\n",
    "\n",
    "    return train_df, valid_df, test_df\n",
    "\n"
   ]
  },
  {
   "cell_type": "code",
   "execution_count": 3,
   "metadata": {
    "cellView": "form",
    "id": "q1Tqystd4sCz"
   },
   "outputs": [],
   "source": [
    "#@title Pytorch functions\n",
    "\n",
    "### Neural network architecture ###\n",
    "\n",
    "# simple fully-connected feedforward neural network \n",
    "class Dnn(nn.Module):\n",
    "    \n",
    "    def __init__(self, in_dim, out_dim, hidden_layer_sizes):\n",
    "        super(Dnn, self).__init__()\n",
    "\n",
    "        # attributes\n",
    "        self.in_dim = in_dim\n",
    "        self.out_dim = out_dim\n",
    "        self.hidden_layer_sizes = hidden_layer_sizes\n",
    "\n",
    "        # parameters\n",
    "        layer_sizes = (in_dim, *hidden_layer_sizes, out_dim)\n",
    "        layer_sizes_pairwise = [(layer_sizes[i], layer_sizes[i+1]) for \n",
    "                                 i in range(len(layer_sizes)-1)]\n",
    "\n",
    "        # define architecture\n",
    "        modulelist = nn.ModuleList([])  \n",
    "        for i, (layer_in_size, layer_out_size) in enumerate(layer_sizes_pairwise):\n",
    "            modulelist.append(nn.Linear(layer_in_size, layer_out_size))\n",
    "            if i < len(self.hidden_layer_sizes):\n",
    "                modulelist.append(nn.Sigmoid())\n",
    "\n",
    "        # define network as nn.Sequential\n",
    "        self.net = nn.Sequential(*modulelist)\n",
    "\n",
    "    def forward(self, x):\n",
    "        x = self.net(x)\n",
    "        return x\n",
    "\n",
    "class View(nn.Module):\n",
    "    def __init__(self, shape):\n",
    "        super().__init__()\n",
    "        self.shape = shape\n",
    "\n",
    "    def forward(self, input):\n",
    "        batch_size = input.size(0)\n",
    "        shape = (batch_size, *self.shape)\n",
    "        out = input.view(shape)\n",
    "        return out\n",
    "\n",
    "\n",
    "# fully-connected neural network with 1D convolutional layer\n",
    "class Cnn1d(nn.Module):\n",
    "    \n",
    "    def __init__(self, in_dim, out_dim, hidden_layer_sizes,\n",
    "                 kernel_size=(5, ), padding=(2, ), n_filters=100,\n",
    "                 cnn_position=0):\n",
    "        super(Cnn1d, self).__init__()\n",
    "\n",
    "        # attributes\n",
    "        self.in_dim = in_dim\n",
    "        self.out_dim = out_dim\n",
    "        self.hidden_layer_sizes = hidden_layer_sizes\n",
    "\n",
    "        # parameters\n",
    "        layer_sizes = (in_dim, *hidden_layer_sizes, out_dim)\n",
    "        layer_sizes_pairwise = [(layer_sizes[i], layer_sizes[i+1]) for \n",
    "                                 i in range(len(layer_sizes)-1)]\n",
    "\n",
    "        # define architecture\n",
    "        modulelist = nn.ModuleList([])\n",
    "        for i, (layer_in_size, layer_out_size) in enumerate(layer_sizes_pairwise):\n",
    "\n",
    "            if i == cnn_position:\n",
    "                modulelist.append(nn.Conv1d(layer_in_size, n_filters, \n",
    "                                            kernel_size, padding=padding))\n",
    "                modulelist.append(View(shape=(-1, )))\n",
    "                    \n",
    "            else:\n",
    "                modulelist.append(nn.Linear(layer_in_size, layer_out_size))\n",
    "\n",
    "            if i < len(self.hidden_layer_sizes):\n",
    "                modulelist.append(nn.Sigmoid())\n",
    "\n",
    "        # define network as nn.Sequential\n",
    "        self.net = nn.Sequential(*modulelist)\n",
    "\n",
    "    def forward(self, x):\n",
    "        x = self.net(x)\n",
    "        return x\n",
    "\n",
    "def init_weights(m, bias=0.00):\n",
    "    if type(m) == nn.Linear:\n",
    "        torch.nn.init.xavier_uniform_(m.weight)\n",
    "        m.bias.data.fill_(bias)\n",
    "\n",
    "\n",
    "# fully-connected neural network with 1D convolutional layer\n",
    "class Cnn2d(nn.Module):\n",
    "    \n",
    "    def __init__(self, in_dim, out_dim, hidden_layer_sizes,\n",
    "                 kernel_size=(5, 5), padding=(2, 2), n_filters=25,\n",
    "                 cnn_position=0):\n",
    "        super(Cnn2d, self).__init__()\n",
    "\n",
    "        # attributes\n",
    "        self.in_dim = in_dim\n",
    "        self.out_dim = out_dim\n",
    "        self.hidden_layer_sizes = hidden_layer_sizes\n",
    "\n",
    "        # parameters\n",
    "        layer_sizes = (in_dim, *hidden_layer_sizes, out_dim)\n",
    "        layer_sizes_pairwise = [(layer_sizes[i], layer_sizes[i+1]) for \n",
    "                                 i in range(len(layer_sizes)-1)]\n",
    "\n",
    "        # define architecture\n",
    "        modulelist = nn.ModuleList([])\n",
    "        for i, (layer_in_size, layer_out_size) in enumerate(layer_sizes_pairwise):\n",
    "\n",
    "            if i == cnn_position:\n",
    "                modulelist.append(nn.Conv2d(layer_in_size, n_filters, \n",
    "                                            kernel_size, padding=padding))\n",
    "                modulelist.append(View(shape=(-1, )))\n",
    "                    \n",
    "            else:\n",
    "                modulelist.append(nn.Linear(layer_in_size, layer_out_size))\n",
    "\n",
    "            if i < len(self.hidden_layer_sizes):\n",
    "                modulelist.append(nn.Sigmoid())\n",
    "\n",
    "        # define network as nn.Sequential\n",
    "        self.net = nn.Sequential(*modulelist)\n",
    "\n",
    "    def forward(self, x):\n",
    "        x = self.net(x)\n",
    "        return x\n",
    "\n",
    "### Neural network training ###\n",
    "\n",
    "# simple batch gradient descent \n",
    "def train_batch(network, train_X, train_y, criterion, optimizer, device, \n",
    "                n_epochs=500, every=10):\n",
    "\n",
    "    # data-format is torch tensor + send to device (ex. GPU)\n",
    "    if not torch.is_tensor(train_X):\n",
    "        train_X = torch.tensor(train_X, dtype=torch.float32).to(device)\n",
    "    if not torch.is_tensor(train_y):\n",
    "        train_y = torch.tensor(train_y, dtype=torch.long).to(device)\n",
    "\n",
    "    # send network to device (ex. GPU)\n",
    "    network.to(device)\n",
    "\n",
    "    # set network to training mode (vs. evaluation mode)\n",
    "    network.train() \n",
    "\n",
    "    # save training loss\n",
    "    train_loss = []\n",
    "\n",
    "    # train for some epochs - full batch\n",
    "    for epoch in range(n_epochs):\n",
    "        optimizer.zero_grad()\n",
    "        output = network(train_X)\n",
    "        loss = criterion(output, train_y)\n",
    "        loss.backward()\n",
    "        optimizer.step()\n",
    "        if epoch%every == 0:\n",
    "          print('Epoch {}, loss {}'.format(epoch, loss.item()))\n",
    "        \n",
    "        train_loss.append(loss.item())\n",
    "      \n",
    "    return train_loss\n",
    "            \n",
    "# mini-batch gradient descent with early stopping\n",
    "def train(network, train_dl, criterion, optimizer, device, n_epochs=500, \n",
    "          valid_X=None, valid_y=None, patience=5, every=10, \n",
    "          current_epoch=0):\n",
    "\n",
    "    # set early stopping counter\n",
    "    cnt_valid_loss_increase = 0\n",
    "\n",
    "    # current_epoch\n",
    "    last_epoch = current_epoch\n",
    "\n",
    "    # data-format is torch tensor + send to device (ex. GPU)\n",
    "    if not torch.is_tensor(valid_X):\n",
    "        valid_X = torch.tensor(valid_X, dtype=torch.float32).to(device)\n",
    "    if not torch.is_tensor(valid_y):\n",
    "        valid_y = torch.tensor(valid_y, dtype=torch.long).to(device)\n",
    "\n",
    "    # save training and validation loss\n",
    "    train_loss_list = []\n",
    "    valid_loss_list = []\n",
    "\n",
    "    #  per epoch: update network parameters \n",
    "    for epoch in range(n_epochs):\n",
    "\n",
    "        # network to training mode\n",
    "        network.train()\n",
    "        \n",
    "        # early stopping \n",
    "        earlystoppping = cnt_valid_loss_increase > patience\n",
    "        if earlystoppping:\n",
    "            print(\"stopped early after %d epochs\" % (epoch))\n",
    "            return train_loss_list, valid_loss_list, last_epoch\n",
    "\n",
    "        # per mini-batch: compute gradient (backpropagation) + take step \n",
    "        running_loss = 0\n",
    "        steps = 0 \n",
    "        for i, data in enumerate(train_dl, 0):\n",
    "\n",
    "            # mini-batch inputs and labels\n",
    "            frames, labels = data  \n",
    "            \n",
    "            # zero the parameter gradients\n",
    "            optimizer.zero_grad()\n",
    "            \n",
    "            # forward + backward + optimize \n",
    "            outputs = network.net(frames)\n",
    "            loss = criterion(outputs, labels)\n",
    "            loss.backward()\n",
    "            optimizer.step()  \n",
    "\n",
    "            # running loss\n",
    "            running_loss += loss.item()\n",
    "\n",
    "        # training loss\n",
    "        mean_minibatch_loss = running_loss/len(train_dl)\n",
    "        train_loss_list.append(mean_minibatch_loss)\n",
    "        if epoch%every == 0:   \n",
    "            print(\"Epoch %d -- av. loss per mini-batch %.2f\" % (epoch, mean_minibatch_loss))\n",
    "\n",
    "        # validation loss\n",
    "        if valid_X is not None and valid_y is not None: \n",
    "            # network to evaluation mode\n",
    "            network.eval()\n",
    "\n",
    "            with torch.no_grad():\n",
    "                valid_outputs = network.net(valid_X)\n",
    "                valid_loss = criterion(valid_outputs, valid_y)\n",
    "                valid_loss_list.append(valid_loss.item())\n",
    "                \n",
    "                # early stoppping\n",
    "                loss_increase = valid_loss_list[-1] > min(valid_loss_list[-patience:])\n",
    "                if loss_increase:\n",
    "                    # no improvement compared to last 'patience' steps\n",
    "                    cnt_valid_loss_increase += 1\n",
    "                else:\n",
    "                    cnt_valid_loss_increase = 0\n",
    "\n",
    "        last_epoch = current_epoch + epoch + 1\n",
    "\n",
    "    return train_loss_list, valid_loss_list, last_epoch\n",
    "\n",
    "\n",
    "### Neural network saving and loading ###\n",
    "\n",
    "# save model\n",
    "def save_model(epoch, model, criterion, optimizer, model_file):\n",
    "    torch.save({\n",
    "            'epoch': epoch,\n",
    "            'model_state_dict': model.state_dict(),\n",
    "            'criterion': criterion,\n",
    "            'optimizer_state_dict': optimizer.state_dict(),\n",
    "            }, model_file)\n",
    "    \n",
    "    doPrint = False\n",
    "    if doPrint:\n",
    "        print('Saved model to: ' + model_file)\n",
    "\n",
    "# load model\n",
    "def load_model(model, optimizer, model_file, device, strict=False):\n",
    "    doPrint = False\n",
    "    if doPrint:\n",
    "        print('Loading: ' + model_file)\n",
    "        \n",
    "    checkpoint = torch.load(model_file, map_location=device)\n",
    "    epoch = checkpoint['epoch']    \n",
    "    model.load_state_dict(checkpoint['model_state_dict'], strict=strict)\n",
    "    criterion = checkpoint['criterion']\n",
    "    if doPrint:\n",
    "        print(checkpoint['optimizer_state_dict'])\n",
    "    optimizer.load_state_dict(checkpoint['optimizer_state_dict'])\n",
    "    \n",
    "    return epoch, model, criterion, optimizer\n",
    "\n",
    "### Neural network evaluation ###\n",
    "\n",
    "# evaluate criterion\n",
    "def evaluate_criterion(network, test_X, test_y, criterion, device):\n",
    "    \n",
    "    # data-format is torch tensor + send to device (ex. GPU)\n",
    "    if not torch.is_tensor(test_X):\n",
    "        test_X = torch.tensor(test_X, dtype=torch.float32).to(device)\n",
    "    if not torch.is_tensor(test_y):\n",
    "        test_y = torch.tensor(test_y, dtype=torch.long).to(device)\n",
    "\n",
    "    # send network to device (ex. GPU)\n",
    "    network.to(device)\n",
    "\n",
    "    # set network to evaluation mode (vs. training mode)\n",
    "    network.eval() \n",
    "\n",
    "    # compute loss based on criterion\n",
    "    pred_y = network.net(test_X)\n",
    "    loss = criterion(pred_y, test_y)\n",
    "\n",
    "    return loss.item()\n",
    "\n",
    "# evaluate confusion matrix\n",
    "def confusionmatrix(network, test_X, test_y, device, \n",
    "                    n_per_pass=2**10, unsqueeze=False, unsqueeze2d=False):\n",
    "    \n",
    "    # data-format is torch tensor + send to device (ex. GPU)\n",
    "    if not torch.is_tensor(test_X):\n",
    "        test_X = torch.tensor(test_X, dtype=torch.float32).to(device)\n",
    "    if not torch.is_tensor(test_y):\n",
    "        test_y = torch.tensor(test_y, dtype=torch.long).to(device)\n",
    "\n",
    "    # send network to device (ex. GPU)\n",
    "    network.to(device)\n",
    "\n",
    "    # set network to evaluation mode (vs. training mode)\n",
    "    network.eval() \n",
    "\n",
    "    # compute confusion matrix\n",
    "    cm = np.zeros((network.out_dim, network.out_dim))\n",
    "        \n",
    "    # splitting up dataframe in managable chunks\n",
    "    n_samples = len(test_X)\n",
    "    loop_n_times = math.ceil(n_samples/n_per_pass)\n",
    "    for i in range(loop_n_times):\n",
    "      test_X_part = test_X[i*n_per_pass:(i+1)*n_per_pass]\n",
    "      test_y_part = test_y[i*n_per_pass:(i+1)*n_per_pass]\n",
    "      for input, label in zip(test_X_part, test_y_part):\n",
    "        if unsqueeze: prob = network.net(torch.unsqueeze(input, 0))\n",
    "        elif unsqueeze2d: prob = network.net(torch.reshape(input, (1, *input.shape)))\n",
    "        else: prob = network.net(input) # output = posterior class probabilities\n",
    "        pred = torch.argmax(prob) # prediction = label (or neuron) with highest probability (One-Hot Encoding)\n",
    "        cm[label][pred] += 1\n",
    "    \n",
    "    return cm.astype(int)\n",
    "\n",
    "\n",
    "# remap confusion matrix\n",
    "def remap_confusionmatrix(confusionmatrix, lab2lab_dict):\n",
    "    \n",
    "    n_classes = confusionmatrix.shape[0]\n",
    "    n_classes_new = len(np.unique((np.fromiter(lab2lab_dict.values(), dtype=int))))\n",
    "    confusionmatrix_new = np.zeros((n_classes_new, n_classes_new))\n",
    "    \n",
    "    # remap classes\n",
    "    for row in range(n_classes):\n",
    "        for col in range(n_classes):\n",
    "            confusionmatrix_new[lab2lab_dict[row], lab2lab_dict[col]] += confusionmatrix[row,col]\n",
    "            \n",
    "    return confusionmatrix_new\n",
    "\n",
    "# evaluate phone error rate\n",
    "def evaluate_PER(confusionmatrix):\n",
    "\n",
    "    n_classes = confusionmatrix.shape[0]    \n",
    "    \n",
    "    # compute ER \n",
    "    trace = np.trace(confusionmatrix)\n",
    "    ER = 1- trace.sum() / confusionmatrix.sum()\n",
    "        \n",
    "    # compute ER per class (disregarding non label or not)\n",
    "    no_examples_pc = confusionmatrix.sum(axis=1)\n",
    "    ER_pc = [None] * n_classes\n",
    "    for i in range(n_classes):\n",
    "        if no_examples_pc[i] != 0:\n",
    "            ER_pc[i] = 1-confusionmatrix[i,i] / (no_examples_pc[i])\n",
    "        \n",
    "    return ER, ER_pc\n",
    "\n",
    "\n",
    "### Confusion matrix plot ###\n",
    "\n",
    "import matplotlib.pyplot as plt\n",
    "import seaborn as sns\n",
    "\n",
    "# pretty printing\n",
    "def plot_confusion_matrix(cm, labels=[], cmap=[], figsize=(6,6), fontsize=14):\n",
    "\n",
    "    if len(labels) == 0:\n",
    "        df_cm = pd.DataFrame(cm)\n",
    "    else:\n",
    "        df_cm = pd.DataFrame(cm, labels, labels)\n",
    "        \n",
    "    f, ax = plt.subplots(figsize=figsize)\n",
    "    sns.set(font_scale=1.4)#for label size\n",
    "    sns.heatmap(df_cm, annot=True, fmt=\"d\", annot_kws={\"fontsize\": fontsize,\"color\":'k'},\n",
    "                square=True, linecolor='k', linewidth=1.5, cmap=cmap, cbar=False)\n",
    "    ax.tick_params(axis='y', labelrotation=0.0, left=True)\n",
    "    # font size\n",
    "    plt.title('Confusion matrix')\n",
    "    plt.xlabel('Predicted')\n",
    "    plt.ylabel('True')\n",
    "    plt.show()\n",
    "\n",
    "### Dataset ###\n",
    "\n",
    "class SimpleDataset(Dataset):\n",
    "    \"\"\"Simple dataset for easy sampling.\"\"\"\n",
    "\n",
    "    def __init__(self, data_X, data_y, labels, labeldict, device):\n",
    "\n",
    "        # dimensionality\n",
    "        self.n_samples, self.n_features = data_X.shape[0:2]\n",
    "        self.n_classes = len(labels)\n",
    "\n",
    "        # input data\n",
    "        self.frames = data_X # (n_samples, n_features)\n",
    "        self.frames = torch.as_tensor(self.frames, dtype=torch.float32).to(device)\n",
    "\n",
    "        # labels\n",
    "        if data_y.dtype != \"int64\":\n",
    "            data_y = np.vectorize(labeldict.get)(data_y)\n",
    "        self.labels = torch.as_tensor(data_y, dtype=torch.long).to(device)\n",
    "\n",
    "    def __len__(self):\n",
    "        \n",
    "        return self.n_samples\n",
    "\n",
    "    def __getitem__(self, idx):\n",
    "        frame = self.frames[idx] \n",
    "        label = self.labels[idx]\n",
    "        \n",
    "        return frame, label\n"
   ]
  },
  {
   "cell_type": "code",
   "execution_count": 4,
   "metadata": {
    "cellView": "form",
    "id": "wqHgOBsz8qxq"
   },
   "outputs": [],
   "source": [
    "#@title Define setups\n",
    "\n",
    "def prepare_baseline(utt_df, utt_names=None, phone_map_file='phones-61-48-39.txt'):\n",
    "    \n",
    "    ## DATA SELECTION -- utterance based (speed up)\n",
    "    if utt_names is not None:\n",
    "        utt_df = utt_df[utt_df['utt_name'].isin(utt_names)]\n",
    "\n",
    "    ## FEATURE EXTRACTION\n",
    "\n",
    "    # input feature parameters\n",
    "    window_nframes = 11\n",
    "    stride = 2\n",
    "    shift = 0\n",
    "    delta, ddelta = False, False\n",
    "    normMean, normVar = False, True\n",
    "\n",
    "    # generate dataframe containing frames\n",
    "    frames_df = assemble_frame_dataframe(utt_df, window_nframes, stride, shift, \\\n",
    "                                        delta, ddelta, normMean, normVar)\n",
    "\n",
    "    # assemble input feature from window\n",
    "    features = apply_window(frames_df['data'], frames_df.index, frames_df['window'])\n",
    "    #frames_df['feature'] = features\n",
    "    frames_df['feature'] = reshape_features(features, (-1,)) \n",
    "\n",
    "    ## LABELS\n",
    "\n",
    "    # phone and label mapping\n",
    "    ocol = 1 # {'61' : 0, '48' : 1, '39' : 2}\n",
    "    phn_set = None\n",
    "    phn2phn, phn2lab, lab2phn, phn_set = phone_and_label_mapping(phone_map_file, ocol, phn_set)\n",
    "\n",
    "    # map phones and labels\n",
    "    frames_df['phn_label'] = frames_df['org_phn_label'].map(phn2phn) # TIMIT phone label -> phone label\n",
    "    frames_df['int_label'] = frames_df['phn_label'].map(phn2lab)  # phone label ->  integer label\n",
    "\n",
    "    ## DATA SELECTION -- frame based\n",
    "\n",
    "    # drop phones not in phn_set\n",
    "    frames_df = frames_df[~frames_df['int_label'].isna()] \n",
    "\n",
    "    # drop phones with large shift in phn_set\n",
    "    doShift = False\n",
    "    max_shift = 5 # shift = distance to center frame\n",
    "    if doShift:  \n",
    "      frames_df['shift'] = frames_df['frame_idx'] - frames_df['center_frame_idx']\n",
    "      frames_df = frames_df[frames_df['shift'].abs() < max_shift ]\n",
    "\n",
    "    return frames_df\n",
    "\n",
    "def prepare_shortvowels(utt_df, utt_names=None, phone_map_file='phones-61-48-39.txt',\n",
    "                        phn_set=['aa', 'ae', 'ah', 'ao', 'eh', 'ih', 'ix', 'uh']):\n",
    "    \n",
    "    ## DATA SELECTION -- utterance based (speed up)\n",
    "    if utt_names is not None:\n",
    "        utt_df = utt_df[utt_df['utt_name'].isin(utt_names)]\n",
    "\n",
    "    ## FEATURE EXTRACTION\n",
    "\n",
    "    # input feature parameters\n",
    "    window_nframes = 11\n",
    "    stride = 2\n",
    "    shift = 0\n",
    "    delta, ddelta = False, False\n",
    "    normMean, normVar = False, True\n",
    "\n",
    "    # generate dataframe containing frames\n",
    "    frames_df = assemble_frame_dataframe(utt_df, window_nframes, stride, shift, \\\n",
    "                                        delta, ddelta, normMean, normVar)\n",
    "\n",
    "    # assemble input feature from window\n",
    "    features = apply_window(frames_df['data'], frames_df.index, frames_df['window'])\n",
    "    frames_df['feature'] = reshape_features(features, (-1,)) \n",
    "\n",
    "    ## LABELS\n",
    "\n",
    "    # phone and label mapping\n",
    "    ocol = 1 # {'61' : 0, '48' : 1, '39' : 2}\n",
    "    #phn_set =  ['aa', 'ih']#['aa', 'ae', 'ah', 'ao', 'eh', 'ih', 'ix', 'uh'] \n",
    "    phn2phn, phn2lab, lab2phn, phn_set = phone_and_label_mapping(phone_map_file, ocol, phn_set)\n",
    "\n",
    "    # map phones and labels\n",
    "    frames_df['phn_label'] = frames_df['org_phn_label'].map(phn2phn) # TIMIT phone label -> phone label\n",
    "    frames_df['int_label'] = frames_df['phn_label'].map(phn2lab)  # phone label ->  integer label\n",
    "\n",
    "    ## DATA SELECTION -- frame based\n",
    "\n",
    "    # drop phones not in phn_set\n",
    "    frames_df = frames_df[~frames_df['int_label'].isna()] \n",
    "\n",
    "    # drop phones with large shift in phn_set\n",
    "    doShift = False\n",
    "    max_shift = 5 # shift = distance to center frame\n",
    "    if doShift:  \n",
    "      frames_df['shift'] = frames_df['frame_idx'] - frames_df['center_frame_idx']\n",
    "      frames_df = frames_df[frames_df['shift'].abs() < max_shift ]\n",
    "\n",
    "    return frames_df\n",
    "\n",
    "def prepare_cnn(utt_df, utt_names=None, phone_map_file='phones-61-48-39.txt'):\n",
    "    \n",
    "    ## DATA SELECTION -- utterance based (speed up)\n",
    "    if utt_names is not None:\n",
    "        utt_df = utt_df[utt_df['utt_name'].isin(utt_names)]\n",
    "\n",
    "    ## FEATURE EXTRACTION\n",
    "\n",
    "    # input feature parameters\n",
    "    window_nframes = 11\n",
    "    stride = 2\n",
    "    shift = 0\n",
    "    delta, ddelta = False, False\n",
    "    normMean, normVar = False, True\n",
    "\n",
    "    # generate dataframe containing frames\n",
    "    frames_df = assemble_frame_dataframe(utt_df, window_nframes, stride, shift, \\\n",
    "                                        delta, ddelta, normMean, normVar)\n",
    "\n",
    "    # assemble input feature from window\n",
    "    features = apply_window(frames_df['data'], frames_df.index, frames_df['window'])\n",
    "    frames_df['feature'] = reshape_features(features, (-1,)) \n",
    "\n",
    "    ## LABELS\n",
    "\n",
    "    # phone and label mapping\n",
    "    ocol = 1 # {'61' : 0, '48' : 1, '39' : 2}\n",
    "    phn_set = None\n",
    "    phn2phn, phn2lab, lab2phn, phn_set = phone_and_label_mapping(phone_map_file, ocol, phn_set)\n",
    "\n",
    "    # map phones and labels\n",
    "    frames_df['phn_label'] = frames_df['org_phn_label'].map(phn2phn) # TIMIT phone label -> phone label\n",
    "    frames_df['int_label'] = frames_df['phn_label'].map(phn2lab)  # phone label ->  integer label\n",
    "\n",
    "    ## DATA SELECTION -- frame based\n",
    "\n",
    "    # drop phones not in phn_set\n",
    "    frames_df = frames_df[~frames_df['int_label'].isna()] \n",
    "\n",
    "    # drop phones with large shift in phn_set\n",
    "    doShift = False\n",
    "    max_shift = 5 # shift = distance to center frame\n",
    "    if doShift:  \n",
    "      frames_df['shift'] = frames_df['frame_idx'] - frames_df['center_frame_idx']\n",
    "      frames_df = frames_df[frames_df['shift'].abs() < max_shift ]\n",
    "\n",
    "\n",
    "## Custom setups\n",
    "\n",
    "f11s2_setup = {'window_nframes' : 11, 'stride' : 2, 'shift' : 0,\n",
    "               'delta' : False, 'ddelta' : False,\n",
    "               'normMean' : False, 'normVar' : True}\n",
    "\n",
    "f7s2_setup = {'window_nframes' : 7, 'stride' : 2, 'shift' : 0,\n",
    "               'delta' : False, 'ddelta' : False,\n",
    "               'normMean' : False, 'normVar' : True}\n",
    "\n",
    "f7s2d_setup = {'window_nframes' : 7, 'stride' : 1, 'shift' : 0,\n",
    "               'delta' : True, 'ddelta' : False,\n",
    "               'normMean' : False, 'normVar' : True}\n",
    "\n",
    "f13s1_setup = {'window_nframes' : 13, 'stride' : 1, 'shift' : 0,\n",
    "               'delta' : False, 'ddelta' : False,\n",
    "               'normMean' : False, 'normVar' : True}\n",
    "\n",
    "f13s2_setup = {'window_nframes' : 13, 'stride' : 2, 'shift' : 0,\n",
    "               'delta' : False, 'ddelta' : False,\n",
    "               'normMean' : False, 'normVar' : True}\n",
    "\n",
    "\n",
    "def prepare_setup(utt_df, setup, utt_names=None, ocol=1, phn_set=None,  \n",
    "                  phone_map_file='phones-61-48-39.txt'):\n",
    "    \n",
    "    ## DATA SELECTION -- utterance based (speed up)\n",
    "    if utt_names is not None:\n",
    "        utt_df = utt_df[utt_df['utt_name'].isin(utt_names)]\n",
    "\n",
    "    ## FEATURE EXTRACTION\n",
    "\n",
    "    # input feature parameters\n",
    "    window_nframes = setup['window_nframes']\n",
    "    stride = setup['stride']\n",
    "    shift = setup['shift']\n",
    "    delta, ddelta = setup['delta'], setup['ddelta']\n",
    "    normMean, normVar = setup['normMean'], setup['normVar']\n",
    "\n",
    "    # generate dataframe containing frames\n",
    "    frames_df = assemble_frame_dataframe(utt_df, window_nframes, stride, shift, \\\n",
    "                                        delta, ddelta, normMean, normVar)\n",
    "\n",
    "    # assemble input feature from window\n",
    "    features = apply_window(frames_df['data'], frames_df.index, frames_df['window'])\n",
    "    frames_df['feature'] = reshape_features(features, (-1,)) \n",
    "\n",
    "    ## LABELS\n",
    "\n",
    "    # phone and label mapping\n",
    "    phn2phn, phn2lab, lab2phn, phn_set = phone_and_label_mapping(phone_map_file, ocol, phn_set)\n",
    "\n",
    "    # map phones and labels\n",
    "    frames_df['phn_label'] = frames_df['org_phn_label'].map(phn2phn) # TIMIT phone label -> phone label\n",
    "    frames_df['int_label'] = frames_df['phn_label'].map(phn2lab)  # phone label ->  integer label\n",
    "\n",
    "    ## DATA SELECTION -- frame based\n",
    "\n",
    "    # drop phones not in phn_set\n",
    "    frames_df = frames_df[~frames_df['int_label'].isna()] \n",
    "\n",
    "    # drop phones with large shift in phn_set\n",
    "    doShift = False\n",
    "    max_shift = 5 # shift = distance to center frame\n",
    "    if doShift:  \n",
    "      frames_df['shift'] = frames_df['frame_idx'] - frames_df['center_frame_idx']\n",
    "      frames_df = frames_df[frames_df['shift'].abs() < max_shift ]\n",
    "\n",
    "    return frames_df"
   ]
  },
  {
   "cell_type": "markdown",
   "metadata": {
    "id": "LIjZCTLg41mf"
   },
   "source": [
    "### 2. The TIMIT database \n",
    "The experiments in this notebook use the TIMIT database.\n",
    "Instead of starting from raw speech, we already extracted features (24 filterbank energies) from the speech signal. The feature is obtained by applying the FFT transform (**window step** = 10ms, window size = 30ms, window = Hamming, ...) and mel scaling to the speech waveform (16kHz). Note the window step determines the frame duration (10ms).\n",
    "\n",
    "The dataframe contains for each utterance:\n",
    "- utt_name : utterance name\n",
    "- data : matrix of # frames in utterance x 24 mel-scaled filterbank energies \n",
    "- phn_seg : segmentation of utterance into phones\n",
    "- text: transcription \n",
    "\n",
    "The phone mapping translates the 61 phone labels used by TIMIT to a smaller phone set with 48 (or 39) phone labels.\n",
    "For example, the 61 phone set discriminates between different types of silences (bcl, dcl, epi, h#, ...), whereas the 39 phone set maps all these to a single silence-label (sil).\n"
   ]
  },
  {
   "cell_type": "code",
   "execution_count": null,
   "metadata": {
    "id": "DFGXk5A9cS1a"
   },
   "outputs": [],
   "source": [
    "# download dataframe \n",
    "root_url = 'http://homes.esat.kuleuven.be/~spchlab/data/timit/'\n",
    "utt_df_url = root_url + 'examples/timit-fb24-100Hz-text.pkl' \n",
    "utt_df = pd.read_pickle(utt_df_url) \n",
    "\n",
    "# download phone mapping\n",
    "phone_map_file = 'phones-61-48-39.txt'\n",
    "phone_map_file_url = root_url + 'examples/phones-61-48-39.txt'\n",
    "write_from_url(phone_map_file_url, phone_map_file)"
   ]
  },
  {
   "cell_type": "code",
   "execution_count": null,
   "metadata": {
    "colab": {
     "base_uri": "https://localhost:8080/",
     "height": 649
    },
    "id": "0xQtSoiNvL32",
    "outputId": "9ea21ba6-0165-419c-a233-3d7206be4f68"
   },
   "outputs": [
    {
     "name": "stdout",
     "output_type": "stream",
     "text": [
      "utt_name: test/dr1/faks0/si2203\n",
      "text: The reasons for this dive seemed foolish now.\n",
      "\n"
     ]
    },
    {
     "data": {
      "image/png": "[encoded data removed]",
      "text/plain": [
       "<SpchFig size 864x432 with 1 Axes>"
      ]
     },
     "metadata": {},
     "output_type": "display_data"
    },
    {
     "name": "stdout",
     "output_type": "stream",
     "text": [
      "    t0   t1 seg\n",
      "1   60   62  dh\n",
      "2   62   67  ix\n",
      "3   67   75   r\n",
      "4   75   92  iy\n",
      "5   92  102   z\n",
      "6  102  105  ax\n",
      "7  105  120   n\n",
      "8  120  132   z\n"
     ]
    }
   ],
   "source": [
    "# visualize 24 filterbank energies for an utterance\n",
    "loc = 1\n",
    "print('utt_name: ' + utt_df['utt_name'].iloc[loc])\n",
    "print('text: ' + utt_df['text'].iloc[loc][8:])\n",
    "f = spchd.PlotSpg(spgdata=utt_df['data'].iloc[loc].T, segspg=utt_df['phn_seg'].iloc[loc])\n",
    "display(f) # OPM: phone boundaries missing\n",
    "\n",
    "# phone segmentation\n",
    "print(utt_df['phn_seg'].iloc[loc][1:9])"
   ]
  },
  {
   "cell_type": "markdown",
   "metadata": {
    "id": "r3ezItDBC8y9"
   },
   "source": [
    "### DNN baseline model on 48 phones\n",
    "We use a simple Neural Network (NN) to classify the frames, namely a fully connected feed-forward network, with a sigmoid activation function following each hidden layer. The architecture is defined by the input, output and hidden layer sizes. \n",
    "\n",
    "The input feature is a window of 11 frames (black) around the target frame (red) with a stride of 2, giving window that spans 210 ms. \n",
    "The stride is distance (in time steps) between the selected frames. \n",
    "For each target frames, the selected frames are concatenated into a vector.\n",
    "Alternatively, one could preserve the 2D structure of the input (time x frequency) provided the neural architecture allows it (e.g. using 2D convolutional layers). \n",
    "\n",
    "The phone labels are one-hot encoded, we thus have a neuron for each phone label in the output layer of the network. By applying the softmax function at the end of the network, we obtain phone probabilities as outputs. The predicted label is the one with the highest probabilty. \n",
    "\n",
    "Note that training a model from scratch on TIMIT is (relatively) computationally expensive. That is why we load a pretrained model, matching the architecture described above.\n",
    "\n",
    "<img src=\"http://homes.esat.kuleuven.be/~spchlab/data/timit/dnn_setup_3.PNG\" width=\"750\">\n",
    "\n"
   ]
  },
  {
   "cell_type": "markdown",
   "metadata": {
    "id": "R2z9d8nTTahS"
   },
   "source": [
    "#### Phone label mapping\n",
    "\n",
    "The TIMIT phone labels are mapped onto the 48 phone set for model training. \n"
   ]
  },
  {
   "cell_type": "code",
   "execution_count": null,
   "metadata": {
    "colab": {
     "base_uri": "https://localhost:8080/"
    },
    "id": "sJMClB4518wJ",
    "outputId": "e1c10f4c-ac8d-4c4c-df79-7535a24199c1"
   },
   "outputs": [
    {
     "name": "stdout",
     "output_type": "stream",
     "text": [
      "['aa', 'ae', 'ah', 'ao', 'aw', 'ax', 'er', 'ay', 'b', 'vcl', 'ch', 'd', 'dh', 'dx', 'eh', 'el', 'm', 'en', 'ng', 'epi', 'ey', 'f', 'g', 'sil', 'hh', 'ih', 'ix', 'iy', 'jh', 'k', 'cl', 'l', 'n', 'ow', 'oy', 'p', 'r', 's', 'sh', 't', 'th', 'uh', 'uw', 'v', 'w', 'y', 'z', 'zh']\n"
     ]
    }
   ],
   "source": [
    "# phone label mapping from 61 to 48 phones\n",
    "ocol = 1 # {0 :'61 phones' : 0, 1 : '48 phones', 2 : '39 phones'}\n",
    "phn2phn, phn2lab, lab2phn, phn_set = phone_and_label_mapping(phone_map_file, ocol)\n",
    "print(phn_set)\n",
    "phn_set_48 = phn_set # save for exercise on short vowels"
   ]
  },
  {
   "cell_type": "markdown",
   "metadata": {
    "id": "ndcw8aPpVGaU"
   },
   "source": [
    "#### Feature extraction\n",
    "\n",
    "Apart from using a window of frames as input feature for each target frame, we can also normalize and add temporal derrivatives to input feature. \n",
    "Here we normalize the variance per channel (and per utterance) and add a first order temporal derrivative (called delta).  \n",
    "\n",
    "Next we prepare our test data set according to our feature extraction setup.\n",
    "Note we don't need the training or validation data since we're using a pretrained model."
   ]
  },
  {
   "cell_type": "code",
   "execution_count": null,
   "metadata": {
    "id": "J7nYmdkg0SQy"
   },
   "outputs": [],
   "source": [
    "f11s2_setup = {'window_nframes' : 11, 'stride' : 2, 'shift' : 0,\n",
    "               'delta' : False, 'ddelta' : False,\n",
    "               'normMean' : False, 'normVar' : True} "
   ]
  },
  {
   "cell_type": "code",
   "execution_count": null,
   "metadata": {
    "colab": {
     "base_uri": "https://localhost:8080/",
     "height": 376
    },
    "id": "xsdNJqvC030n",
    "outputId": "88c7d87d-1b15-40c7-8bd4-64a99c01847d"
   },
   "outputs": [
    {
     "ename": "KeyboardInterrupt",
     "evalue": "ignored",
     "output_type": "error",
     "traceback": [
      "\u001b[0;31m---------------------------------------------------------------------------\u001b[0m",
      "\u001b[0;31mKeyboardInterrupt\u001b[0m                         Traceback (most recent call last)",
      "\u001b[0;32m<ipython-input-33-562c05faf101>\u001b[0m in \u001b[0;36m<module>\u001b[0;34m()\u001b[0m\n\u001b[1;32m      6\u001b[0m \u001b[0;34m\u001b[0m\u001b[0m\n\u001b[1;32m      7\u001b[0m \u001b[0;31m# feature extraction for test set\u001b[0m\u001b[0;34m\u001b[0m\u001b[0;34m\u001b[0m\u001b[0;34m\u001b[0m\u001b[0m\n\u001b[0;32m----> 8\u001b[0;31m \u001b[0mtest_df\u001b[0m \u001b[0;34m=\u001b[0m \u001b[0mprepare_setup\u001b[0m\u001b[0;34m(\u001b[0m\u001b[0mutt_test_df\u001b[0m\u001b[0;34m,\u001b[0m \u001b[0mf11s2_setup\u001b[0m\u001b[0;34m)\u001b[0m\u001b[0;34m\u001b[0m\u001b[0;34m\u001b[0m\u001b[0m\n\u001b[0m\u001b[1;32m      9\u001b[0m \u001b[0;34m\u001b[0m\u001b[0m\n\u001b[1;32m     10\u001b[0m \u001b[0;31m# test set (input features X, labels y)\u001b[0m\u001b[0;34m\u001b[0m\u001b[0;34m\u001b[0m\u001b[0;34m\u001b[0m\u001b[0m\n",
      "\u001b[0;32m<ipython-input-28-6365a2de8c80>\u001b[0m in \u001b[0;36mprepare_setup\u001b[0;34m(utt_df, setup, utt_names, ocol, phn_set, phone_map_file)\u001b[0m\n\u001b[1;32m    186\u001b[0m \u001b[0;34m\u001b[0m\u001b[0m\n\u001b[1;32m    187\u001b[0m     \u001b[0;31m# assemble input feature from window\u001b[0m\u001b[0;34m\u001b[0m\u001b[0;34m\u001b[0m\u001b[0;34m\u001b[0m\u001b[0m\n\u001b[0;32m--> 188\u001b[0;31m     \u001b[0mfeatures\u001b[0m \u001b[0;34m=\u001b[0m \u001b[0mapply_window\u001b[0m\u001b[0;34m(\u001b[0m\u001b[0mframes_df\u001b[0m\u001b[0;34m[\u001b[0m\u001b[0;34m'data'\u001b[0m\u001b[0;34m]\u001b[0m\u001b[0;34m,\u001b[0m \u001b[0mframes_df\u001b[0m\u001b[0;34m.\u001b[0m\u001b[0mindex\u001b[0m\u001b[0;34m,\u001b[0m \u001b[0mframes_df\u001b[0m\u001b[0;34m[\u001b[0m\u001b[0;34m'window'\u001b[0m\u001b[0;34m]\u001b[0m\u001b[0;34m)\u001b[0m\u001b[0;34m\u001b[0m\u001b[0;34m\u001b[0m\u001b[0m\n\u001b[0m\u001b[1;32m    189\u001b[0m     \u001b[0mframes_df\u001b[0m\u001b[0;34m[\u001b[0m\u001b[0;34m'feature'\u001b[0m\u001b[0;34m]\u001b[0m \u001b[0;34m=\u001b[0m \u001b[0mreshape_features\u001b[0m\u001b[0;34m(\u001b[0m\u001b[0mfeatures\u001b[0m\u001b[0;34m,\u001b[0m \u001b[0;34m(\u001b[0m\u001b[0;34m-\u001b[0m\u001b[0;36m1\u001b[0m\u001b[0;34m,\u001b[0m\u001b[0;34m)\u001b[0m\u001b[0;34m)\u001b[0m\u001b[0;34m\u001b[0m\u001b[0;34m\u001b[0m\u001b[0m\n\u001b[1;32m    190\u001b[0m \u001b[0;34m\u001b[0m\u001b[0m\n",
      "\u001b[0;32m<ipython-input-26-f054e447f95d>\u001b[0m in \u001b[0;36mapply_window\u001b[0;34m(frames, frame_ids, frame_windows)\u001b[0m\n\u001b[1;32m    111\u001b[0m     \u001b[0;32mfor\u001b[0m \u001b[0mframe_idx\u001b[0m\u001b[0;34m,\u001b[0m \u001b[0mframe_window\u001b[0m \u001b[0;32min\u001b[0m \u001b[0mzip\u001b[0m\u001b[0;34m(\u001b[0m\u001b[0mframe_ids\u001b[0m\u001b[0;34m,\u001b[0m \u001b[0mframe_windows\u001b[0m\u001b[0;34m)\u001b[0m\u001b[0;34m:\u001b[0m\u001b[0;34m\u001b[0m\u001b[0;34m\u001b[0m\u001b[0m\n\u001b[1;32m    112\u001b[0m         \u001b[0;31m# apply window\u001b[0m\u001b[0;34m\u001b[0m\u001b[0;34m\u001b[0m\u001b[0;34m\u001b[0m\u001b[0m\n\u001b[0;32m--> 113\u001b[0;31m         \u001b[0mfeature\u001b[0m \u001b[0;34m=\u001b[0m \u001b[0mnp\u001b[0m\u001b[0;34m.\u001b[0m\u001b[0mstack\u001b[0m\u001b[0;34m(\u001b[0m\u001b[0mframes\u001b[0m\u001b[0;34m[\u001b[0m\u001b[0mframe_window\u001b[0m \u001b[0;34m+\u001b[0m \u001b[0mint\u001b[0m\u001b[0;34m(\u001b[0m\u001b[0mframe_idx\u001b[0m\u001b[0;34m)\u001b[0m\u001b[0;34m]\u001b[0m\u001b[0;34m,\u001b[0m \u001b[0maxis\u001b[0m\u001b[0;34m=\u001b[0m\u001b[0;36m0\u001b[0m\u001b[0;34m)\u001b[0m\u001b[0;34m\u001b[0m\u001b[0;34m\u001b[0m\u001b[0m\n\u001b[0m\u001b[1;32m    114\u001b[0m         \u001b[0;31m# save feature\u001b[0m\u001b[0;34m\u001b[0m\u001b[0;34m\u001b[0m\u001b[0;34m\u001b[0m\u001b[0m\n\u001b[1;32m    115\u001b[0m         \u001b[0minputs\u001b[0m\u001b[0;34m.\u001b[0m\u001b[0mappend\u001b[0m\u001b[0;34m(\u001b[0m\u001b[0mfeature\u001b[0m\u001b[0;34m)\u001b[0m\u001b[0;34m\u001b[0m\u001b[0;34m\u001b[0m\u001b[0m\n",
      "\u001b[0;31mKeyboardInterrupt\u001b[0m: "
     ]
    }
   ],
   "source": [
    "# Prepare test set\n",
    "# ! takes around 1 minute (~ combining frames in context window)\n",
    "\n",
    "# data split\n",
    "utt_train_df, utt_val_df, utt_test_df = utterance_based_data_split(utt_df)\n",
    "\n",
    "# feature extraction for test set\n",
    "test_df = prepare_setup(utt_test_df, f11s2_setup)\n",
    "\n",
    "# test set (input features X, labels y)\n",
    "test_X = np.vstack(test_df['feature']).astype('float32') \n",
    "test_y = test_df['int_label'].to_numpy().astype('int64')"
   ]
  },
  {
   "cell_type": "markdown",
   "metadata": {
    "id": "HICBkJemwkRX"
   },
   "source": [
    "#### Setup\n",
    "\n",
    "First we setup the neural network as defined above:\n",
    "- neural network architecture: 3 hidden layers of respectively 1024, 768 and 512 neurons\n",
    "- training parameters: unused but needed for correct loading\n",
    "\n",
    "FYI, the optimizer performs back-propagation and weight updates during training."
   ]
  },
  {
   "cell_type": "code",
   "execution_count": null,
   "metadata": {
    "id": "wIvv_IEfAGNz"
   },
   "outputs": [],
   "source": [
    "# set device\n",
    "device = torch.device(\"cuda:0\" if torch.cuda.is_available() else \"cpu\") "
   ]
  },
  {
   "cell_type": "code",
   "execution_count": null,
   "metadata": {
    "colab": {
     "base_uri": "https://localhost:8080/"
    },
    "id": "j-_YIr26AECG",
    "outputId": "99c252b2-863b-427b-9643-fe6390cceb5d"
   },
   "outputs": [
    {
     "name": "stdout",
     "output_type": "stream",
     "text": [
      "Dnn(\n",
      "  (net): Sequential(\n",
      "    (0): Linear(in_features=264, out_features=1024, bias=True)\n",
      "    (1): Sigmoid()\n",
      "    (2): Linear(in_features=1024, out_features=768, bias=True)\n",
      "    (3): Sigmoid()\n",
      "    (4): Linear(in_features=768, out_features=512, bias=True)\n",
      "    (5): Sigmoid()\n",
      "    (6): Linear(in_features=512, out_features=48, bias=True)\n",
      "  )\n",
      ")\n"
     ]
    }
   ],
   "source": [
    "# input feature dimension\r\n",
    "feature_dim = 24\r\n",
    "window_nframes = 11\r\n",
    "\r\n",
    "# define neural network\r\n",
    "in_dim = window_nframes * feature_dim \r\n",
    "out_dim = len(phn_set_48)\r\n",
    "hidden_layer_sizes = [1024, 768, 512]\r\n",
    "dnn_model = Dnn(in_dim, out_dim, hidden_layer_sizes)\r\n",
    "dnn_model.to(device)\r\n",
    "print(dnn_model)\r\n",
    "\r\n",
    "# training parameters\r\n",
    "lrn_rate = 0.001\r\n",
    "weight_decay = 0\r\n",
    "\r\n",
    "# initialize optimizer\r\n",
    "optimizer = torch.optim.Adam(dnn_model.parameters(), lr=lrn_rate, weight_decay=weight_decay) "
   ]
  },
  {
   "cell_type": "code",
   "execution_count": null,
   "metadata": {
    "id": "IBks7KpoCgAN"
   },
   "outputs": [],
   "source": [
    "# download model\r\n",
    "model_file = 'dnn_baseline_model.pt'\r\n",
    "model_url = root_url + 'models/dnn_baseline_model.pt'\r\n",
    "write_from_url(model_url, model_file)\r\n",
    "\r\n",
    "# load pretrained model\r\n",
    "epoch, dnn_model, criterion, optimizer = load_model(dnn_model, optimizer, model_file, device)"
   ]
  },
  {
   "cell_type": "markdown",
   "metadata": {
    "id": "X0ydyYp_0GEo"
   },
   "source": [
    "#### Evaluation"
   ]
  },
  {
   "cell_type": "markdown",
   "metadata": {
    "id": "Q60GbldSGFJn"
   },
   "source": [
    "##### Prediction for single utterance\r\n",
    "\r\n",
    "The posterior probabilties are now visualized for one entire utterance below. Because the dataset (after feature extraction) is quite big, we avoid loading unnecessary data. Here we only do the feature extraction for a single utterance."
   ]
  },
  {
   "cell_type": "code",
   "execution_count": null,
   "metadata": {
    "id": "xtFlTtUUNKSH"
   },
   "outputs": [],
   "source": [
    "# baseline feature extraction for single example utterance \r\n",
    "example_name = 'test/dr1/faks0/si2203'\r\n",
    "example_df = prepare_setup(utt_df, f11s2_setup, [example_name])\r\n",
    "example_X = np.vstack(example_df['feature']).astype('float32') # example_df['feature']\r\n",
    "example_X = torch.Tensor(example_X).to(device)\r\n",
    "example_y = test_df['int_label'].to_numpy().astype('int64')\r\n",
    "\r\n",
    "# output for single example utterance \r\n",
    "example_yp = dnn_model(example_X) # log probs\r\n",
    "example_yp = torch.nn.Softmax(dim=1)(example_yp) # probs"
   ]
  },
  {
   "cell_type": "code",
   "execution_count": null,
   "metadata": {
    "id": "l_gUZsrR3x3b"
   },
   "outputs": [],
   "source": [
    "# plot only subset of phones (for readability)\r\n",
    "long_vowels = ['aw', 'ay', 'er', 'ey', 'iy', 'ow', 'oy', 'uw']\r\n",
    "short_vowels = ['aa', 'ao', 'ae', 'ah', 'ax', 'eh', 'ih', 'ix', 'uh']\r\n",
    "\r\n",
    "# plot input\r\n",
    "if False:\r\n",
    "  utt_fig, utt_ax = plt.subplots(figsize=(15, 10))\r\n",
    "  utt_ax.matshow(example_X.cpu().detach().numpy().T)\r\n",
    "print(utt_df[utt_df['utt_name']==example_name]['text'].iloc[0])\r\n",
    "\r\n",
    "# plot output - posterior probabilities\r\n",
    "plot_df = pd.DataFrame(example_yp.cpu().detach().numpy(), columns=phn_set_48)\r\n",
    "cols = phn_set_48\r\n",
    "cols = ['sil', 'vcl'] + short_vowels # choose phones to plot (subset) \r\n",
    "# Note: sil = silence and vcl = 'voiced closure' ~ silence\r\n",
    "plot_df[cols].plot(title=\"Predicted phone probabilties\", figsize=(15, 3), xlim=[0, len(example_df)])\r\n",
    "\r\n",
    "# plot output - posterior probabilities\r\n",
    "cols = ['sil', 'vcl'] + long_vowels # choose phones to plot (subset) \r\n",
    "plot_df[cols].plot(title=\"Predicted phone probabilties\", figsize=(15, 3), xlim=[0, len(example_df)])"
   ]
  },
  {
   "cell_type": "markdown",
   "metadata": {
    "id": "XNcVHNG22mlJ"
   },
   "source": [
    "##### Phone Error Rate on test set\n",
    "\n",
    "Now we evaluate the pretrained model on the whole TIMIT test set. First we compute the confusion matrix and then, using the confusion matrix, the phone error rate (PER = 1 - accuracy) and the PER per phone label. Notice that working with the whole dataset is a lot slower."
   ]
  },
  {
   "cell_type": "code",
   "execution_count": null,
   "metadata": {
    "id": "eceODJAweby7"
   },
   "outputs": [],
   "source": [
    "# Evaluation\n",
    "# ! takes around 3 minutes (~ predicting phone probabilities for each example)\n",
    "\n",
    "# confusionmatrix and phone error rate (another minute or two)\n",
    "cm = confusionmatrix(dnn_model, test_X, test_y, device)\n",
    "print(evaluate_PER(cm))"
   ]
  },
  {
   "cell_type": "code",
   "execution_count": null,
   "metadata": {
    "id": "50zt5owrsNH6"
   },
   "outputs": [],
   "source": [
    "# plot normalized confusion matrix\r\n",
    "plotCm = True\r\n",
    "if plotCm:\r\n",
    "    from sklearn.preprocessing import normalize\r\n",
    "    fig, ax = plt.subplots(figsize=(5, 5))\r\n",
    "    cm_image = ax.matshow(normalize(cm, axis=0, norm='l1'), interpolation='nearest')\r\n",
    "    fig.colorbar(cm_image, ax=ax)\r\n",
    "\r\n",
    "plotCmDetail = False\r\n",
    "if plotCmDetail:\r\n",
    "    # detail plot confusion matrix\r\n",
    "    plot_confusion_matrix(cm, phn_set, figsize=(20,20), fontsize=10)"
   ]
  },
  {
   "cell_type": "markdown",
   "metadata": {
    "id": "bfUsFue2XIrd"
   },
   "source": [
    "For TIMIT it's common practice to reduce the phone set even further, to a 39 phone set, for evaluation."
   ]
  },
  {
   "cell_type": "code",
   "execution_count": null,
   "metadata": {
    "colab": {
     "base_uri": "https://localhost:8080/"
    },
    "id": "A-SnWNmsXE7i",
    "outputId": "356c6c6f-37aa-4434-f891-56675c5bdad6"
   },
   "outputs": [
    {
     "name": "stdout",
     "output_type": "stream",
     "text": [
      "(0.2862266614250424, [0.3326150145334269, 0.3652340019102197, 0.57998907998908, 0.5990402559317516, 0.2792776247321702, 0.2883826879271071, 0.47567221510883484, 0.08248815463151493, 0.3850267379679144, 0.6107843137254902, 0.5280865124662061, 0.37957400327689783, 0.4775854416333777, 0.3344237715531929, 0.3707247333113384, 0.2886037104198633, 0.5546525802519301, 0.2916784468947319, 0.24139030612244894, 0.5570672713529856, 0.35934237995824636, 0.3865622423742786, 0.21827198852772467, 0.43580181140117213, 0.28455024764339354, 0.4837765619035501, 0.6238286479250335, 0.346336822074215, 0.40549796371714175, 0.14569429926831234, 0.22640295867502813, 0.3079796772265392, 0.7183348095659876, 0.859214501510574, 0.43013846430498115, 0.4826200047292504, 0.33510729613733903, 0.5760151085930123, 0.3865238229489709])\n"
     ]
    }
   ],
   "source": [
    "# 48 phone set to 39 phone set mapping (rescore)\r\n",
    "lab2lab = get_lab2lab_dict(phone_map_file, 1, 2)\r\n",
    "cm39 = remap_confusionmatrix(cm, lab2lab)\r\n",
    "print(evaluate_PER(cm39))"
   ]
  },
  {
   "cell_type": "markdown",
   "metadata": {
    "id": "5ayLeimW7KYk"
   },
   "source": [
    "#### Questions\r\n",
    "\r\n",
    "**Phone mapping**\r\n",
    "\r\n",
    "Q1. What is the effect of reducing the number of phone labels (e.g. from 61 to 48) for training the model? \r\n",
    "\r\n",
    "**Feature extraction**\r\n",
    "\r\n",
    "Q2. Can we use our pretrained model with a different feature extraction setup?\r\n",
    "\r\n",
    "Q3. What happens to the input feature on the phone boundaries?\r\n",
    "\r\n",
    "Q4. What happens to the input feature on the utterance boundaries?\r\n",
    "\r\n",
    "**Evaluation**\r\n",
    "\r\n",
    "Q5. What is the effect of reducing the number of phone labels from 48 to 39 for evaluating the model? \r\n",
    "\r\n",
    "<!-- Q6. Given the posterior probabilities for the utterance \"The reasons for this dive seemed foolish now\", is there a corespondence between the short vowels that are hard to recognize for the model and your own perception? -->\r\n"
   ]
  },
  {
   "cell_type": "markdown",
   "metadata": {
    "id": "OWAzcb7HXsGb"
   },
   "source": [
    "### DNN models for different input features \n",
    "\n",
    "Using the same model setup as above, we will now vary the feature extraction setup. Four new setups are considered. Note that we are still loading pretrained models."
   ]
  },
  {
   "cell_type": "code",
   "execution_count": null,
   "metadata": {
    "id": "xb5q1_inkkHv"
   },
   "outputs": [],
   "source": [
    "f7s2_setup = {'window_nframes' : 7, 'stride' : 2, 'shift' : 0,\r\n",
    "               'delta' : False, 'ddelta' : False,\r\n",
    "               'normMean' : False, 'normVar' : True}\r\n",
    "\r\n",
    "f7s2d_setup = {'window_nframes' : 7, 'stride' : 1, 'shift' : 0,\r\n",
    "               'delta' : True, 'ddelta' : False,\r\n",
    "               'normMean' : False, 'normVar' : True}\r\n",
    "\r\n",
    "f13s1_setup = {'window_nframes' : 13, 'stride' : 1, 'shift' : 0,\r\n",
    "               'delta' : False, 'ddelta' : False,\r\n",
    "               'normMean' : False, 'normVar' : True}\r\n",
    "\r\n",
    "f13s2_setup = {'window_nframes' : 13, 'stride' : 2, 'shift' : 0,\r\n",
    "               'delta' : False, 'ddelta' : False,\r\n",
    "               'normMean' : False, 'normVar' : True}"
   ]
  },
  {
   "cell_type": "code",
   "execution_count": null,
   "metadata": {
    "id": "uSlTGLzpYTae"
   },
   "outputs": [],
   "source": [
    "# download pretrained models\n",
    "!mkdir -p 'models/'\n",
    "model_files = ['models/dnn_f7s2_model.pt',     # 7 frames, stride 2 (130 ms)\n",
    "               'models/dnn_f7s2d_model.pt',    # 7 frames, stride 2, delta (130 ms)\n",
    "               'models/dnn_f13s1_model.pt',    # 13 frames, stride 1 (130 ms)\n",
    "               'models/dnn_f13s2_model.pt']    # 13 frames, stride 2 (250 ms)\n",
    "\n",
    "for model_file in model_files:\n",
    "  model_url = root_url + model_file\n",
    "  write_from_url(model_url, model_file)"
   ]
  },
  {
   "cell_type": "code",
   "execution_count": null,
   "metadata": {
    "colab": {
     "base_uri": "https://localhost:8080/",
     "height": 924
    },
    "id": "tNHqOxbldQC3",
    "outputId": "b8f0af33-008c-44f5-98d2-07b448e4cf6d"
   },
   "outputs": [
    {
     "name": "stdout",
     "output_type": "stream",
     "text": [
      "{'window_nframes': 7, 'stride': 2, 'shift': 0, 'delta': False, 'ddelta': False, 'normMean': False, 'normVar': True}\n",
      "{'window_nframes': 7, 'stride': 1, 'shift': 0, 'delta': True, 'ddelta': False, 'normMean': False, 'normVar': True}\n",
      "{'window_nframes': 13, 'stride': 1, 'shift': 0, 'delta': False, 'ddelta': False, 'normMean': False, 'normVar': True}\n",
      "{'window_nframes': 13, 'stride': 2, 'shift': 0, 'delta': False, 'ddelta': False, 'normMean': False, 'normVar': True}\n"
     ]
    },
    {
     "data": {
      "image/png": "[encoded data removed]",
      "text/plain": [
       "<Figure size 1080x216 with 1 Axes>"
      ]
     },
     "metadata": {
      "needs_background": "light"
     },
     "output_type": "display_data"
    },
    {
     "data": {
      "image/png": "[encoded data removed]",
      "text/plain": [
       "<Figure size 1080x216 with 1 Axes>"
      ]
     },
     "metadata": {
      "needs_background": "light"
     },
     "output_type": "display_data"
    },
    {
     "data": {
      "image/png": "[encoded data removed]",
      "text/plain": [
       "<Figure size 1080x216 with 1 Axes>"
      ]
     },
     "metadata": {
      "needs_background": "light"
     },
     "output_type": "display_data"
    },
    {
     "data": {
      "image/png": "[encoded data removed]",
      "text/plain": [
       "<Figure size 1080x216 with 1 Axes>"
      ]
     },
     "metadata": {
      "needs_background": "light"
     },
     "output_type": "display_data"
    }
   ],
   "source": [
    "### Feature extraction, setup and evaluation per setup\r\n",
    "\r\n",
    "setups = [f7s2_setup, f7s2d_setup, f13s1_setup, f13s2_setup]\r\n",
    "\r\n",
    "for model_file, setup in zip(model_files, setups): \r\n",
    "  \r\n",
    "  print(str(setup))\r\n",
    "\r\n",
    "  ### setup\r\n",
    "\r\n",
    "  # define neural network\r\n",
    "  in_dim = 24 * setup['window_nframes'] * (1 + setup['delta'] + setup['ddelta'])\r\n",
    "  out_dim = len(phn_set_48)\r\n",
    "  hidden_layer_sizes = [1024, 768, 512]\r\n",
    "\r\n",
    "  dnn_model = Dnn(in_dim, out_dim, hidden_layer_sizes)\r\n",
    "  dnn_model.to(device)\r\n",
    "\r\n",
    "  # optimizer parameters\r\n",
    "  lrn_rate = 0.00001\r\n",
    "  weight_decay = 0\r\n",
    "  optimizer = torch.optim.Adam(dnn_model.parameters(), lr=lrn_rate, weight_decay=weight_decay)\r\n",
    "  \r\n",
    "  # load model\r\n",
    "  epoch, dnn_model, criterion, optimizer = load_model(dnn_model, optimizer, model_file, device)\r\n",
    "\r\n",
    "  ### Feature extraction - utterance\r\n",
    "\r\n",
    "  # baseline feature extraction for single example utterance \r\n",
    "  example_name = 'test/dr1/faks0/si2203'\r\n",
    "  example_df = prepare_setup(utt_df, setup, [example_name])\r\n",
    "  example_X = np.vstack(example_df['feature']).astype('float32') # example_df['feature']\r\n",
    "  example_X = torch.Tensor(example_X).to(device)\r\n",
    "\r\n",
    "  # output for single example utterance \r\n",
    "  example_yp = dnn_model(example_X) # log probs\r\n",
    "  example_yp = torch.nn.Softmax(dim=1)(example_yp) # probs\r\n",
    "\r\n",
    "  ### Evaluation - utterance\r\n",
    "\r\n",
    "  # plot input\r\n",
    "  if False:\r\n",
    "    utt_fig, utt_ax = plt.subplots(figsize=(15, 10))\r\n",
    "    utt_ax.matshow(example_X.cpu().detach().numpy().T)\r\n",
    "    print(utt_df[utt_df['utt_name']==example_name]['text'].iloc[0])\r\n",
    "\r\n",
    "  # plot output - posterior probabilities\r\n",
    "  plot_df = pd.DataFrame(example_yp.cpu().detach().numpy())\r\n",
    "  plot_df.columns = phn_set_48\r\n",
    "  cols = plot_df.columns # choose phones to plot\r\n",
    "  cols = ['sil', 'vcl'] + short_vowels # + long_vowels # \r\n",
    "  plot_df[cols].plot(title=\"Predicted phone probabilties\", figsize=(15, 3), xlim=[0, len(example_df)])\r\n",
    "\r\n",
    "  if False:\r\n",
    "\r\n",
    "    ### Feature extraction - test set\r\n",
    "    utt_train_df, utt_val_df, utt_test_df = utterance_based_data_split(utt_df)\r\n",
    "    test_df = prepare_setup(utt_test_df, setup)\r\n",
    "    test_X = np.vstack(test_df['feature']).astype('float32') \r\n",
    "    test_y = test_df['int_label'].to_numpy().astype('int64')\r\n",
    "\r\n",
    "    ### Evaluation - test set\r\n",
    "    # confusionmatrix and phone error rate (another minute or two)\r\n",
    "    cm = confusionmatrix(dnn_model, test_X, test_y, device)\r\n",
    "    print(evaluate_PER(cm))\r\n",
    "\r\n",
    "    # plot normalized confusion matrix\r\n",
    "    plotCm = True\r\n",
    "    if plotCm:\r\n",
    "      from sklearn.preprocessing import normalize\r\n",
    "      fig, ax = plt.subplots(figsize=(5, 5))\r\n",
    "      cm_image = ax.matshow(normalize(cm, axis=0, norm='l1'), interpolation='nearest')\r\n",
    "      fig.colorbar(cm_image, ax=ax)"
   ]
  },
  {
   "cell_type": "markdown",
   "metadata": {
    "id": "26x3pC1WaaMk"
   },
   "source": [
    "#### Questions\r\n",
    "\r\n",
    "**Example utterance**\r\n",
    "\r\n",
    "Q1. Do you notice a difference in the posterior probabilities for different input features?\r\n",
    "\r\n",
    "Q2. Evaluate the models on the test set (run this only if you have spare time). Do you notice a difference in the PER for different input features? Which feature gives the best performance, and why?\r\n"
   ]
  },
  {
   "cell_type": "markdown",
   "metadata": {
    "id": "3AbGPiN70Kt0"
   },
   "source": [
    "### DNN vs. GMM on short vowels\n",
    "\n",
    "Last exercise session on phoneme classification, we compared the performance of DNNs and GMMs. Near the end we remarked the toy problem was too small for meaningful conclusions. Here we compare the two models on a subset of TIMIT, namely the short vowels. "
   ]
  },
  {
   "cell_type": "code",
   "execution_count": null,
   "metadata": {
    "id": "oICmsIbytyz3"
   },
   "outputs": [],
   "source": [
    "# free up disk space\r\n",
    "#del baseline_df \r\n",
    "#del utt_test_df\r\n",
    "#del test_df "
   ]
  },
  {
   "cell_type": "markdown",
   "metadata": {
    "id": "ewJt6jM0Wl29"
   },
   "source": [
    "If you want to run small experiments yourself, you can select a subset with only a couple of phonemes (reducing the size of the dataset and the diversity in labels). Here we use the short vowels."
   ]
  },
  {
   "cell_type": "code",
   "execution_count": null,
   "metadata": {
    "id": "nhOYltapZNje"
   },
   "outputs": [],
   "source": [
    "# subset of phone labels\r\n",
    "long_vowels = ['aw', 'ay', 'er', 'ey', 'iy', 'ow', 'oy', 'uw']\r\n",
    "short_vowels = ['aa', 'ao', 'ae', 'ah', 'ax', 'eh', 'ih', 'ix', 'uh']\r\n",
    "\r\n",
    "# use a subset of phones\r\n",
    "phn_set = short_vowels # short_vowels # long_vowels # None # \r\n",
    "\r\n",
    "# compute phone and label mapping\r\n",
    "ocol = 1 # {0 :'61 phones' : 0, 1 : '48 phones', 2 : '39 phones'}\r\n",
    "phn2phn, phn2lab, lab2phn, phn_set = phone_and_label_mapping(phone_map_file, ocol, phn_set)"
   ]
  },
  {
   "cell_type": "markdown",
   "metadata": {
    "id": "8uUzllKNVPqE"
   },
   "source": [
    "#### Feature extraction\n",
    "\n",
    "We use the same feature extraction setup ('f11s2_setup') as te baseline model.\n",
    "Since we are only using the short vowels of TIMIT, examples with other labels are discarted during the feature extraction."
   ]
  },
  {
   "cell_type": "code",
   "execution_count": null,
   "metadata": {
    "id": "OznF20WIPoFv"
   },
   "outputs": [],
   "source": [
    "# Prepare train/validation/test set\r\n",
    "# ! takes around 2 minutes (~ combining frames in context window)\r\n",
    "shortvowels_df = prepare_setup(utt_df, f11s2_setup, phn_set=phn_set)\r\n",
    "\r\n",
    "# phone and label mapping\r\n",
    "phn2phn, phn2lab, lab2phn, phn_set = phone_and_label_mapping(phone_map_file, ocol, phn_set)\r\n",
    "\r\n",
    "# split data\r\n",
    "train_df, valid_df, test_df = utterance_based_data_split(shortvowels_df)\r\n",
    "\r\n",
    "# input features\r\n",
    "dnn_train_X = np.vstack(train_df['feature']).astype('float32') \r\n",
    "dnn_valid_X = np.vstack(valid_df['feature']).astype('float32') \r\n",
    "dnn_test_X = np.vstack(test_df['feature']).astype('float32') \r\n",
    "\r\n",
    "# labels\r\n",
    "train_y = train_df['int_label'].to_numpy().astype('int64') \r\n",
    "valid_y = valid_df['int_label'].to_numpy().astype('int64')\r\n",
    "test_y = test_df['int_label'].to_numpy().astype('int64')"
   ]
  },
  {
   "cell_type": "markdown",
   "metadata": {
    "id": "JCHjN0ADVW_Q"
   },
   "source": [
    "#### DNN model\n"
   ]
  },
  {
   "cell_type": "markdown",
   "metadata": {
    "id": "94DurT2N9qy8"
   },
   "source": [
    "##### Setup\n",
    "\n",
    "We use the same model setup as above, except the output layer size which matches the new number of labels (number of short vowels). Since we are no longer loading a pretrained model, you can experiment with different the hidden layers. \n",
    "\n",
    "For training the neural network we use mini-batch gradient decent with early stopping. This means training is halted when the the loss on the validation set has not improved for 'patience' epochs.\n"
   ]
  },
  {
   "cell_type": "code",
   "execution_count": null,
   "metadata": {
    "id": "QK90ZP4dU7hD"
   },
   "outputs": [],
   "source": [
    "# input feature dimension\r\n",
    "feature_dim = 24\r\n",
    "window_nframes = 11\r\n",
    "\r\n",
    "# define neural network\r\n",
    "in_dim = window_nframes * feature_dim \r\n",
    "out_dim = len(phn_set)\r\n",
    "hidden_layer_sizes = [1024, 768, 512]\r\n",
    "\r\n",
    "dnn_model = Dnn(in_dim, out_dim, hidden_layer_sizes)\r\n",
    "dnn_model.to(device)\r\n",
    "\r\n",
    "# training parameters\r\n",
    "n_epochs = 10 # change to 500\r\n",
    "patience = 15\r\n",
    "lrn_rate = 0.00001\r\n",
    "weight_decay = 0\r\n",
    "\r\n",
    "criterion = nn.CrossEntropyLoss() # applies softmax() internally\r\n",
    "dnn_optimizer = torch.optim.Adam(dnn_model.parameters(), lr=lrn_rate, weight_decay=weight_decay)\r\n",
    "\r\n",
    "# dataset \r\n",
    "dnn_train_ds = SimpleDataset(dnn_train_X, train_y, phn_set, phn2lab, device)\r\n",
    "\r\n",
    "# dataloader\r\n",
    "batch_size = 128\r\n",
    "shuffle = True\r\n",
    "dnn_train_dl = DataLoader(dnn_train_ds, batch_size=batch_size, shuffle=shuffle, num_workers=0)"
   ]
  },
  {
   "cell_type": "markdown",
   "metadata": {
    "id": "s_Co2wZ-7qtq"
   },
   "source": [
    "##### Training"
   ]
  },
  {
   "cell_type": "code",
   "execution_count": null,
   "metadata": {
    "colab": {
     "base_uri": "https://localhost:8080/",
     "height": 376
    },
    "id": "nw3lR8xw7siE",
    "outputId": "4e41a27d-2706-45e6-d0b6-cb36879d311a"
   },
   "outputs": [
    {
     "name": "stdout",
     "output_type": "stream",
     "text": [
      "Epoch 0 -- av. loss per mini-batch 2.69\n"
     ]
    },
    {
     "ename": "KeyboardInterrupt",
     "evalue": "ignored",
     "output_type": "error",
     "traceback": [
      "\u001b[0;31m---------------------------------------------------------------------------\u001b[0m",
      "\u001b[0;31mKeyboardInterrupt\u001b[0m                         Traceback (most recent call last)",
      "\u001b[0;32m<ipython-input-51-f67df3667289>\u001b[0m in \u001b[0;36m<module>\u001b[0;34m()\u001b[0m\n\u001b[1;32m      4\u001b[0m \u001b[0;34m\u001b[0m\u001b[0m\n\u001b[1;32m      5\u001b[0m dnn_results = train(dnn_model, dnn_train_dl, criterion, dnn_optimizer, device, \n\u001b[0;32m----> 6\u001b[0;31m                     n_epochs, dnn_valid_X, valid_y, patience, every=10)\n\u001b[0m\u001b[1;32m      7\u001b[0m \u001b[0mdnn_train_loss\u001b[0m\u001b[0;34m,\u001b[0m \u001b[0mdnn_valid_loss\u001b[0m\u001b[0;34m,\u001b[0m \u001b[0mdnn_epoch\u001b[0m \u001b[0;34m=\u001b[0m \u001b[0mdnn_results\u001b[0m\u001b[0;34m\u001b[0m\u001b[0;34m\u001b[0m\u001b[0m\n",
      "\u001b[0;32m<ipython-input-27-0f375daa4398>\u001b[0m in \u001b[0;36mtrain\u001b[0;34m(network, train_dl, criterion, optimizer, device, n_epochs, valid_X, valid_y, patience, every, current_epoch)\u001b[0m\n\u001b[1;32m    213\u001b[0m             \u001b[0moutputs\u001b[0m \u001b[0;34m=\u001b[0m \u001b[0mnetwork\u001b[0m\u001b[0;34m.\u001b[0m\u001b[0mnet\u001b[0m\u001b[0;34m(\u001b[0m\u001b[0mframes\u001b[0m\u001b[0;34m)\u001b[0m\u001b[0;34m\u001b[0m\u001b[0;34m\u001b[0m\u001b[0m\n\u001b[1;32m    214\u001b[0m             \u001b[0mloss\u001b[0m \u001b[0;34m=\u001b[0m \u001b[0mcriterion\u001b[0m\u001b[0;34m(\u001b[0m\u001b[0moutputs\u001b[0m\u001b[0;34m,\u001b[0m \u001b[0mlabels\u001b[0m\u001b[0;34m)\u001b[0m\u001b[0;34m\u001b[0m\u001b[0;34m\u001b[0m\u001b[0m\n\u001b[0;32m--> 215\u001b[0;31m             \u001b[0mloss\u001b[0m\u001b[0;34m.\u001b[0m\u001b[0mbackward\u001b[0m\u001b[0;34m(\u001b[0m\u001b[0;34m)\u001b[0m\u001b[0;34m\u001b[0m\u001b[0;34m\u001b[0m\u001b[0m\n\u001b[0m\u001b[1;32m    216\u001b[0m             \u001b[0moptimizer\u001b[0m\u001b[0;34m.\u001b[0m\u001b[0mstep\u001b[0m\u001b[0;34m(\u001b[0m\u001b[0;34m)\u001b[0m\u001b[0;34m\u001b[0m\u001b[0;34m\u001b[0m\u001b[0m\n\u001b[1;32m    217\u001b[0m \u001b[0;34m\u001b[0m\u001b[0m\n",
      "\u001b[0;32m/usr/local/lib/python3.7/dist-packages/torch/_tensor.py\u001b[0m in \u001b[0;36mbackward\u001b[0;34m(self, gradient, retain_graph, create_graph, inputs)\u001b[0m\n\u001b[1;32m    305\u001b[0m                 \u001b[0mcreate_graph\u001b[0m\u001b[0;34m=\u001b[0m\u001b[0mcreate_graph\u001b[0m\u001b[0;34m,\u001b[0m\u001b[0;34m\u001b[0m\u001b[0;34m\u001b[0m\u001b[0m\n\u001b[1;32m    306\u001b[0m                 inputs=inputs)\n\u001b[0;32m--> 307\u001b[0;31m         \u001b[0mtorch\u001b[0m\u001b[0;34m.\u001b[0m\u001b[0mautograd\u001b[0m\u001b[0;34m.\u001b[0m\u001b[0mbackward\u001b[0m\u001b[0;34m(\u001b[0m\u001b[0mself\u001b[0m\u001b[0;34m,\u001b[0m \u001b[0mgradient\u001b[0m\u001b[0;34m,\u001b[0m \u001b[0mretain_graph\u001b[0m\u001b[0;34m,\u001b[0m \u001b[0mcreate_graph\u001b[0m\u001b[0;34m,\u001b[0m \u001b[0minputs\u001b[0m\u001b[0;34m=\u001b[0m\u001b[0minputs\u001b[0m\u001b[0;34m)\u001b[0m\u001b[0;34m\u001b[0m\u001b[0;34m\u001b[0m\u001b[0m\n\u001b[0m\u001b[1;32m    308\u001b[0m \u001b[0;34m\u001b[0m\u001b[0m\n\u001b[1;32m    309\u001b[0m     \u001b[0;32mdef\u001b[0m \u001b[0mregister_hook\u001b[0m\u001b[0;34m(\u001b[0m\u001b[0mself\u001b[0m\u001b[0;34m,\u001b[0m \u001b[0mhook\u001b[0m\u001b[0;34m)\u001b[0m\u001b[0;34m:\u001b[0m\u001b[0;34m\u001b[0m\u001b[0;34m\u001b[0m\u001b[0m\n",
      "\u001b[0;32m/usr/local/lib/python3.7/dist-packages/torch/autograd/__init__.py\u001b[0m in \u001b[0;36mbackward\u001b[0;34m(tensors, grad_tensors, retain_graph, create_graph, grad_variables, inputs)\u001b[0m\n\u001b[1;32m    154\u001b[0m     Variable._execution_engine.run_backward(\n\u001b[1;32m    155\u001b[0m         \u001b[0mtensors\u001b[0m\u001b[0;34m,\u001b[0m \u001b[0mgrad_tensors_\u001b[0m\u001b[0;34m,\u001b[0m \u001b[0mretain_graph\u001b[0m\u001b[0;34m,\u001b[0m \u001b[0mcreate_graph\u001b[0m\u001b[0;34m,\u001b[0m \u001b[0minputs\u001b[0m\u001b[0;34m,\u001b[0m\u001b[0;34m\u001b[0m\u001b[0;34m\u001b[0m\u001b[0m\n\u001b[0;32m--> 156\u001b[0;31m         allow_unreachable=True, accumulate_grad=True)  # allow_unreachable flag\n\u001b[0m\u001b[1;32m    157\u001b[0m \u001b[0;34m\u001b[0m\u001b[0m\n\u001b[1;32m    158\u001b[0m \u001b[0;34m\u001b[0m\u001b[0m\n",
      "\u001b[0;31mKeyboardInterrupt\u001b[0m: "
     ]
    }
   ],
   "source": [
    "# training\r\n",
    "# ! takes around 1 minute per 10 epochs \r\n",
    "# ~ 25 minutes until early stopping criterium is reached\r\n",
    "\r\n",
    "dnn_results = train(dnn_model, dnn_train_dl, criterion, dnn_optimizer, device, \r\n",
    "                    n_epochs, dnn_valid_X, valid_y, patience, every=10)\r\n",
    "dnn_train_loss, dnn_valid_loss, dnn_epoch = dnn_results"
   ]
  },
  {
   "cell_type": "code",
   "execution_count": null,
   "metadata": {
    "id": "EdvycGSeVMQ1"
   },
   "outputs": [],
   "source": [
    "# plot training and validation loss\r\n",
    "plt.figure()\r\n",
    "plt.plot(dnn_train_loss)\r\n",
    "plt.plot(dnn_valid_loss)\r\n",
    "plt.title(\"Training and validation loss - fully connected input layer\")\r\n",
    "plt.legend(['train', 'validation'])"
   ]
  },
  {
   "cell_type": "markdown",
   "metadata": {
    "id": "Kl1y5fPx7yG6"
   },
   "source": [
    "##### Evaluation"
   ]
  },
  {
   "cell_type": "code",
   "execution_count": null,
   "metadata": {
    "colab": {
     "base_uri": "https://localhost:8080/",
     "height": 376
    },
    "id": "E4wqmcCpVMQ8",
    "outputId": "530f7011-cec3-4e7d-b7b4-05aaea171333"
   },
   "outputs": [
    {
     "ename": "KeyboardInterrupt",
     "evalue": "ignored",
     "output_type": "error",
     "traceback": [
      "\u001b[0;31m---------------------------------------------------------------------------\u001b[0m",
      "\u001b[0;31mKeyboardInterrupt\u001b[0m                         Traceback (most recent call last)",
      "\u001b[0;32m<ipython-input-52-294fb6300a22>\u001b[0m in \u001b[0;36m<module>\u001b[0;34m()\u001b[0m\n\u001b[1;32m      1\u001b[0m \u001b[0;31m# compute confusionmatrix\u001b[0m\u001b[0;34m\u001b[0m\u001b[0;34m\u001b[0m\u001b[0;34m\u001b[0m\u001b[0m\n\u001b[0;32m----> 2\u001b[0;31m \u001b[0mdnn_cm\u001b[0m \u001b[0;34m=\u001b[0m \u001b[0mconfusionmatrix\u001b[0m\u001b[0;34m(\u001b[0m\u001b[0mdnn_model\u001b[0m\u001b[0;34m,\u001b[0m \u001b[0mdnn_test_X\u001b[0m\u001b[0;34m,\u001b[0m \u001b[0mtest_y\u001b[0m\u001b[0;34m,\u001b[0m \u001b[0mdevice\u001b[0m\u001b[0;34m)\u001b[0m\u001b[0;34m\u001b[0m\u001b[0;34m\u001b[0m\u001b[0m\n\u001b[0m\u001b[1;32m      3\u001b[0m \u001b[0;34m\u001b[0m\u001b[0m\n\u001b[1;32m      4\u001b[0m \u001b[0;31m# phone error rate\u001b[0m\u001b[0;34m\u001b[0m\u001b[0;34m\u001b[0m\u001b[0;34m\u001b[0m\u001b[0m\n\u001b[1;32m      5\u001b[0m \u001b[0mprint\u001b[0m\u001b[0;34m(\u001b[0m\u001b[0mevaluate_PER\u001b[0m\u001b[0;34m(\u001b[0m\u001b[0mdnn_cm\u001b[0m\u001b[0;34m)\u001b[0m\u001b[0;34m)\u001b[0m\u001b[0;34m\u001b[0m\u001b[0;34m\u001b[0m\u001b[0m\n",
      "\u001b[0;32m<ipython-input-27-0f375daa4398>\u001b[0m in \u001b[0;36mconfusionmatrix\u001b[0;34m(network, test_X, test_y, device, n_per_pass, unsqueeze, unsqueeze2d)\u001b[0m\n\u001b[1;32m    330\u001b[0m         \u001b[0;32mif\u001b[0m \u001b[0munsqueeze\u001b[0m\u001b[0;34m:\u001b[0m \u001b[0mprob\u001b[0m \u001b[0;34m=\u001b[0m \u001b[0mnetwork\u001b[0m\u001b[0;34m.\u001b[0m\u001b[0mnet\u001b[0m\u001b[0;34m(\u001b[0m\u001b[0mtorch\u001b[0m\u001b[0;34m.\u001b[0m\u001b[0munsqueeze\u001b[0m\u001b[0;34m(\u001b[0m\u001b[0minput\u001b[0m\u001b[0;34m,\u001b[0m \u001b[0;36m0\u001b[0m\u001b[0;34m)\u001b[0m\u001b[0;34m)\u001b[0m\u001b[0;34m\u001b[0m\u001b[0;34m\u001b[0m\u001b[0m\n\u001b[1;32m    331\u001b[0m         \u001b[0;32melif\u001b[0m \u001b[0munsqueeze2d\u001b[0m\u001b[0;34m:\u001b[0m \u001b[0mprob\u001b[0m \u001b[0;34m=\u001b[0m \u001b[0mnetwork\u001b[0m\u001b[0;34m.\u001b[0m\u001b[0mnet\u001b[0m\u001b[0;34m(\u001b[0m\u001b[0mtorch\u001b[0m\u001b[0;34m.\u001b[0m\u001b[0mreshape\u001b[0m\u001b[0;34m(\u001b[0m\u001b[0minput\u001b[0m\u001b[0;34m,\u001b[0m \u001b[0;34m(\u001b[0m\u001b[0;36m1\u001b[0m\u001b[0;34m,\u001b[0m \u001b[0;34m*\u001b[0m\u001b[0minput\u001b[0m\u001b[0;34m.\u001b[0m\u001b[0mshape\u001b[0m\u001b[0;34m)\u001b[0m\u001b[0;34m)\u001b[0m\u001b[0;34m)\u001b[0m\u001b[0;34m\u001b[0m\u001b[0;34m\u001b[0m\u001b[0m\n\u001b[0;32m--> 332\u001b[0;31m         \u001b[0;32melse\u001b[0m\u001b[0;34m:\u001b[0m \u001b[0mprob\u001b[0m \u001b[0;34m=\u001b[0m \u001b[0mnetwork\u001b[0m\u001b[0;34m.\u001b[0m\u001b[0mnet\u001b[0m\u001b[0;34m(\u001b[0m\u001b[0minput\u001b[0m\u001b[0;34m)\u001b[0m \u001b[0;31m# output = posterior class probabilities\u001b[0m\u001b[0;34m\u001b[0m\u001b[0;34m\u001b[0m\u001b[0m\n\u001b[0m\u001b[1;32m    333\u001b[0m         \u001b[0mpred\u001b[0m \u001b[0;34m=\u001b[0m \u001b[0mtorch\u001b[0m\u001b[0;34m.\u001b[0m\u001b[0margmax\u001b[0m\u001b[0;34m(\u001b[0m\u001b[0mprob\u001b[0m\u001b[0;34m)\u001b[0m \u001b[0;31m# prediction = label (or neuron) with highest probability (One-Hot Encoding)\u001b[0m\u001b[0;34m\u001b[0m\u001b[0;34m\u001b[0m\u001b[0m\n\u001b[1;32m    334\u001b[0m         \u001b[0mcm\u001b[0m\u001b[0;34m[\u001b[0m\u001b[0mlabel\u001b[0m\u001b[0;34m]\u001b[0m\u001b[0;34m[\u001b[0m\u001b[0mpred\u001b[0m\u001b[0;34m]\u001b[0m \u001b[0;34m+=\u001b[0m \u001b[0;36m1\u001b[0m\u001b[0;34m\u001b[0m\u001b[0;34m\u001b[0m\u001b[0m\n",
      "\u001b[0;32m/usr/local/lib/python3.7/dist-packages/torch/nn/modules/module.py\u001b[0m in \u001b[0;36m_call_impl\u001b[0;34m(self, *input, **kwargs)\u001b[0m\n\u001b[1;32m   1100\u001b[0m         if not (self._backward_hooks or self._forward_hooks or self._forward_pre_hooks or _global_backward_hooks\n\u001b[1;32m   1101\u001b[0m                 or _global_forward_hooks or _global_forward_pre_hooks):\n\u001b[0;32m-> 1102\u001b[0;31m             \u001b[0;32mreturn\u001b[0m \u001b[0mforward_call\u001b[0m\u001b[0;34m(\u001b[0m\u001b[0;34m*\u001b[0m\u001b[0minput\u001b[0m\u001b[0;34m,\u001b[0m \u001b[0;34m**\u001b[0m\u001b[0mkwargs\u001b[0m\u001b[0;34m)\u001b[0m\u001b[0;34m\u001b[0m\u001b[0;34m\u001b[0m\u001b[0m\n\u001b[0m\u001b[1;32m   1103\u001b[0m         \u001b[0;31m# Do not call functions when jit is used\u001b[0m\u001b[0;34m\u001b[0m\u001b[0;34m\u001b[0m\u001b[0;34m\u001b[0m\u001b[0m\n\u001b[1;32m   1104\u001b[0m         \u001b[0mfull_backward_hooks\u001b[0m\u001b[0;34m,\u001b[0m \u001b[0mnon_full_backward_hooks\u001b[0m \u001b[0;34m=\u001b[0m \u001b[0;34m[\u001b[0m\u001b[0;34m]\u001b[0m\u001b[0;34m,\u001b[0m \u001b[0;34m[\u001b[0m\u001b[0;34m]\u001b[0m\u001b[0;34m\u001b[0m\u001b[0;34m\u001b[0m\u001b[0m\n",
      "\u001b[0;32m/usr/local/lib/python3.7/dist-packages/torch/nn/modules/container.py\u001b[0m in \u001b[0;36mforward\u001b[0;34m(self, input)\u001b[0m\n\u001b[1;32m    139\u001b[0m     \u001b[0;32mdef\u001b[0m \u001b[0mforward\u001b[0m\u001b[0;34m(\u001b[0m\u001b[0mself\u001b[0m\u001b[0;34m,\u001b[0m \u001b[0minput\u001b[0m\u001b[0;34m)\u001b[0m\u001b[0;34m:\u001b[0m\u001b[0;34m\u001b[0m\u001b[0;34m\u001b[0m\u001b[0m\n\u001b[1;32m    140\u001b[0m         \u001b[0;32mfor\u001b[0m \u001b[0mmodule\u001b[0m \u001b[0;32min\u001b[0m \u001b[0mself\u001b[0m\u001b[0;34m:\u001b[0m\u001b[0;34m\u001b[0m\u001b[0;34m\u001b[0m\u001b[0m\n\u001b[0;32m--> 141\u001b[0;31m             \u001b[0minput\u001b[0m \u001b[0;34m=\u001b[0m \u001b[0mmodule\u001b[0m\u001b[0;34m(\u001b[0m\u001b[0minput\u001b[0m\u001b[0;34m)\u001b[0m\u001b[0;34m\u001b[0m\u001b[0;34m\u001b[0m\u001b[0m\n\u001b[0m\u001b[1;32m    142\u001b[0m         \u001b[0;32mreturn\u001b[0m \u001b[0minput\u001b[0m\u001b[0;34m\u001b[0m\u001b[0;34m\u001b[0m\u001b[0m\n\u001b[1;32m    143\u001b[0m \u001b[0;34m\u001b[0m\u001b[0m\n",
      "\u001b[0;32m/usr/local/lib/python3.7/dist-packages/torch/nn/modules/module.py\u001b[0m in \u001b[0;36m_call_impl\u001b[0;34m(self, *input, **kwargs)\u001b[0m\n\u001b[1;32m   1100\u001b[0m         if not (self._backward_hooks or self._forward_hooks or self._forward_pre_hooks or _global_backward_hooks\n\u001b[1;32m   1101\u001b[0m                 or _global_forward_hooks or _global_forward_pre_hooks):\n\u001b[0;32m-> 1102\u001b[0;31m             \u001b[0;32mreturn\u001b[0m \u001b[0mforward_call\u001b[0m\u001b[0;34m(\u001b[0m\u001b[0;34m*\u001b[0m\u001b[0minput\u001b[0m\u001b[0;34m,\u001b[0m \u001b[0;34m**\u001b[0m\u001b[0mkwargs\u001b[0m\u001b[0;34m)\u001b[0m\u001b[0;34m\u001b[0m\u001b[0;34m\u001b[0m\u001b[0m\n\u001b[0m\u001b[1;32m   1103\u001b[0m         \u001b[0;31m# Do not call functions when jit is used\u001b[0m\u001b[0;34m\u001b[0m\u001b[0;34m\u001b[0m\u001b[0;34m\u001b[0m\u001b[0m\n\u001b[1;32m   1104\u001b[0m         \u001b[0mfull_backward_hooks\u001b[0m\u001b[0;34m,\u001b[0m \u001b[0mnon_full_backward_hooks\u001b[0m \u001b[0;34m=\u001b[0m \u001b[0;34m[\u001b[0m\u001b[0;34m]\u001b[0m\u001b[0;34m,\u001b[0m \u001b[0;34m[\u001b[0m\u001b[0;34m]\u001b[0m\u001b[0;34m\u001b[0m\u001b[0;34m\u001b[0m\u001b[0m\n",
      "\u001b[0;32m/usr/local/lib/python3.7/dist-packages/torch/nn/modules/activation.py\u001b[0m in \u001b[0;36mforward\u001b[0;34m(self, input)\u001b[0m\n\u001b[1;32m    289\u001b[0m \u001b[0;34m\u001b[0m\u001b[0m\n\u001b[1;32m    290\u001b[0m     \u001b[0;32mdef\u001b[0m \u001b[0mforward\u001b[0m\u001b[0;34m(\u001b[0m\u001b[0mself\u001b[0m\u001b[0;34m,\u001b[0m \u001b[0minput\u001b[0m\u001b[0;34m:\u001b[0m \u001b[0mTensor\u001b[0m\u001b[0;34m)\u001b[0m \u001b[0;34m->\u001b[0m \u001b[0mTensor\u001b[0m\u001b[0;34m:\u001b[0m\u001b[0;34m\u001b[0m\u001b[0;34m\u001b[0m\u001b[0m\n\u001b[0;32m--> 291\u001b[0;31m         \u001b[0;32mreturn\u001b[0m \u001b[0mtorch\u001b[0m\u001b[0;34m.\u001b[0m\u001b[0msigmoid\u001b[0m\u001b[0;34m(\u001b[0m\u001b[0minput\u001b[0m\u001b[0;34m)\u001b[0m\u001b[0;34m\u001b[0m\u001b[0;34m\u001b[0m\u001b[0m\n\u001b[0m\u001b[1;32m    292\u001b[0m \u001b[0;34m\u001b[0m\u001b[0m\n\u001b[1;32m    293\u001b[0m \u001b[0;34m\u001b[0m\u001b[0m\n",
      "\u001b[0;31mKeyboardInterrupt\u001b[0m: "
     ]
    }
   ],
   "source": [
    "# compute confusionmatrix \r\n",
    "dnn_cm = confusionmatrix(dnn_model, dnn_test_X, test_y, device)\r\n",
    "\r\n",
    "# phone error rate\r\n",
    "print(evaluate_PER(dnn_cm))"
   ]
  },
  {
   "cell_type": "code",
   "execution_count": null,
   "metadata": {
    "colab": {
     "base_uri": "https://localhost:8080/",
     "height": 540
    },
    "id": "pX3VOCkzVMQ8",
    "outputId": "2b086894-2dbd-4373-dcc4-53b2fd3519b6"
   },
   "outputs": [
    {
     "ename": "NameError",
     "evalue": "ignored",
     "output_type": "error",
     "traceback": [
      "\u001b[0;31m---------------------------------------------------------------------------\u001b[0m",
      "\u001b[0;31mNameError\u001b[0m                                 Traceback (most recent call last)",
      "\u001b[0;32m<ipython-input-53-4c877c0e6678>\u001b[0m in \u001b[0;36m<module>\u001b[0;34m()\u001b[0m\n\u001b[1;32m      4\u001b[0m     \u001b[0;32mfrom\u001b[0m \u001b[0msklearn\u001b[0m\u001b[0;34m.\u001b[0m\u001b[0mpreprocessing\u001b[0m \u001b[0;32mimport\u001b[0m \u001b[0mnormalize\u001b[0m\u001b[0;34m\u001b[0m\u001b[0;34m\u001b[0m\u001b[0m\n\u001b[1;32m      5\u001b[0m     \u001b[0mfig\u001b[0m\u001b[0;34m,\u001b[0m \u001b[0max\u001b[0m \u001b[0;34m=\u001b[0m \u001b[0mplt\u001b[0m\u001b[0;34m.\u001b[0m\u001b[0msubplots\u001b[0m\u001b[0;34m(\u001b[0m\u001b[0mfigsize\u001b[0m\u001b[0;34m=\u001b[0m\u001b[0;34m(\u001b[0m\u001b[0;36m5\u001b[0m\u001b[0;34m,\u001b[0m \u001b[0;36m5\u001b[0m\u001b[0;34m)\u001b[0m\u001b[0;34m)\u001b[0m\u001b[0;34m\u001b[0m\u001b[0;34m\u001b[0m\u001b[0m\n\u001b[0;32m----> 6\u001b[0;31m     \u001b[0mcm_image\u001b[0m \u001b[0;34m=\u001b[0m \u001b[0max\u001b[0m\u001b[0;34m.\u001b[0m\u001b[0mmatshow\u001b[0m\u001b[0;34m(\u001b[0m\u001b[0mnormalize\u001b[0m\u001b[0;34m(\u001b[0m\u001b[0mdnn_cm\u001b[0m\u001b[0;34m,\u001b[0m \u001b[0maxis\u001b[0m\u001b[0;34m=\u001b[0m\u001b[0;36m0\u001b[0m\u001b[0;34m,\u001b[0m \u001b[0mnorm\u001b[0m\u001b[0;34m=\u001b[0m\u001b[0;34m'l1'\u001b[0m\u001b[0;34m)\u001b[0m\u001b[0;34m,\u001b[0m \u001b[0minterpolation\u001b[0m\u001b[0;34m=\u001b[0m\u001b[0;34m'nearest'\u001b[0m\u001b[0;34m)\u001b[0m\u001b[0;34m\u001b[0m\u001b[0;34m\u001b[0m\u001b[0m\n\u001b[0m\u001b[1;32m      7\u001b[0m     \u001b[0mfig\u001b[0m\u001b[0;34m.\u001b[0m\u001b[0mcolorbar\u001b[0m\u001b[0;34m(\u001b[0m\u001b[0mcm_image\u001b[0m\u001b[0;34m,\u001b[0m \u001b[0max\u001b[0m\u001b[0;34m=\u001b[0m\u001b[0max\u001b[0m\u001b[0;34m)\u001b[0m\u001b[0;34m\u001b[0m\u001b[0;34m\u001b[0m\u001b[0m\n\u001b[1;32m      8\u001b[0m     \u001b[0max\u001b[0m\u001b[0;34m.\u001b[0m\u001b[0mset_xticklabels\u001b[0m\u001b[0;34m(\u001b[0m\u001b[0;34m[\u001b[0m\u001b[0;34m''\u001b[0m\u001b[0;34m]\u001b[0m\u001b[0;34m+\u001b[0m\u001b[0mlist\u001b[0m\u001b[0;34m(\u001b[0m\u001b[0mphn2lab\u001b[0m\u001b[0;34m.\u001b[0m\u001b[0mkeys\u001b[0m\u001b[0;34m(\u001b[0m\u001b[0;34m)\u001b[0m\u001b[0;34m)\u001b[0m\u001b[0;34m)\u001b[0m\u001b[0;34m\u001b[0m\u001b[0;34m\u001b[0m\u001b[0m\n",
      "\u001b[0;31mNameError\u001b[0m: name 'dnn_cm' is not defined"
     ]
    },
    {
     "data": {
      "image/png": "[encoded data removed]",
      "text/plain": [
       "<Figure size 360x360 with 1 Axes>"
      ]
     },
     "metadata": {
      "needs_background": "light"
     },
     "output_type": "display_data"
    }
   ],
   "source": [
    "# plot normalized confusion matrix\r\n",
    "plotCm = True\r\n",
    "if plotCm:\r\n",
    "    from sklearn.preprocessing import normalize\r\n",
    "    fig, ax = plt.subplots(figsize=(5, 5))\r\n",
    "    cm_image = ax.matshow(normalize(dnn_cm, axis=0, norm='l1'), interpolation='nearest')\r\n",
    "    fig.colorbar(cm_image, ax=ax)\r\n",
    "    ax.set_xticklabels(['']+list(phn2lab.keys()))  \r\n",
    "    ax.set_yticklabels(['']+list(phn2lab.keys()))"
   ]
  },
  {
   "cell_type": "markdown",
   "metadata": {
    "id": "BVbdKyW98a_N"
   },
   "source": [
    "Saving the model in case you want to reuse it."
   ]
  },
  {
   "cell_type": "code",
   "execution_count": null,
   "metadata": {
    "id": "juY9JxdJgXvu"
   },
   "outputs": [],
   "source": [
    "# save model\r\n",
    "!mkdir -p 'models/'\r\n",
    "dnn_model_file = 'models/dnn_shortvowel_model.pt'\r\n",
    "dnn_model_dict = {'epoch': dnn_epoch,\r\n",
    "                  'model_state_dict': dnn_model.state_dict(),\r\n",
    "                  'criterion': criterion,\r\n",
    "                  'optimizer_state_dict': dnn_optimizer.state_dict()}\r\n",
    "torch.save(dnn_model_dict, dnn_model_file)"
   ]
  },
  {
   "cell_type": "markdown",
   "metadata": {
    "id": "Q3UwpkkosV2D"
   },
   "source": [
    "#### GMM model"
   ]
  },
  {
   "cell_type": "code",
   "execution_count": null,
   "metadata": {
    "id": "gIiegoHbbCFL"
   },
   "outputs": [],
   "source": [
    "#@title GMM functions\r\n",
    "\r\n",
    "# =============================================================================\r\n",
    "# GMM\r\n",
    "# =============================================================================\r\n",
    "\r\n",
    "def train_test_GMM(X_train,X_test,y_train,y_test,classes,\r\n",
    "                     n_components=1,max_iter=20,tol=1.e-3,print_result=True,print_cmat=False):\r\n",
    "    clf_GM = GaussianMixtureClf(classes=classes,n_components=n_components,max_iter=20,tol=1.e-3)\r\n",
    "    clf_GM.fit(X_train,y_train)\r\n",
    "    y_pred = clf_GM.predict(X_train)\r\n",
    "    acc_train = 100.0*skmetrics.accuracy_score(y_train, y_pred)\r\n",
    "    y_pred = clf_GM.predict(X_test)\r\n",
    "    acc_test = 100.0*skmetrics.accuracy_score(y_test, y_pred) \r\n",
    "    cmat = skmetrics.confusion_matrix(y_test,y_pred)\r\n",
    "    if(print_result):\r\n",
    "        lls, bics = llscore(clf_GM,X_train,y_train)\r\n",
    "        print('Training Set:  Accuracy = %.2f%%     LL = %.2f    BIC = %.2f ' % (acc_train,lls,bics) )\r\n",
    "        print('Test Set:      Accuracy = %.2f%%'  % (acc_test) )\r\n",
    "    if(print_cmat):\r\n",
    "        plot_confusion_matrix(cmat,labels=classes)\r\n",
    "    return (acc_test,acc_train)\r\n",
    "\r\n",
    "def llscore(GMM,X,y):\r\n",
    "    ''' Average log likelihood per sample over the full data set (X,y) \r\n",
    "    and BIC per sample '''\r\n",
    "    ll = 0.\r\n",
    "    for k in range(0,GMM.n_classes) :\r\n",
    "        ll += GMM.gmm[k].score(X[y== GMM.classes[k],: ])\r\n",
    "    lls = ll.mean()\r\n",
    "    nparam = ((2*n_dim+1)*n_components -1 ) * GMM.n_classes\r\n",
    "    bics = -2*lls + (np.log(X.shape[0])* nparam) / float(X.shape[0])\r\n",
    "    return(lls,bics)\r\n"
   ]
  },
  {
   "cell_type": "markdown",
   "metadata": {
    "id": "TfCE37DfIkNM"
   },
   "source": [
    "##### Input feature: window of frames "
   ]
  },
  {
   "cell_type": "code",
   "execution_count": null,
   "metadata": {
    "colab": {
     "base_uri": "https://localhost:8080/",
     "height": 1000
    },
    "id": "R7ZPLCi-Jj-U",
    "outputId": "91bcdab4-bc3a-4f8b-e01e-f3f5333ed139"
   },
   "outputs": [
    {
     "name": "stdout",
     "output_type": "stream",
     "text": [
      "***n_components=5 ***\n"
     ]
    },
    {
     "name": "stderr",
     "output_type": "stream",
     "text": [
      "/usr/local/lib/python3.7/dist-packages/sklearn/mixture/_base.py:282: ConvergenceWarning: Initialization 1 did not converge. Try different init parameters, or increase max_iter, tol or check for degenerate data.\n",
      "  ConvergenceWarning,\n",
      "/usr/local/lib/python3.7/dist-packages/sklearn/mixture/_base.py:282: ConvergenceWarning: Initialization 1 did not converge. Try different init parameters, or increase max_iter, tol or check for degenerate data.\n",
      "  ConvergenceWarning,\n",
      "/usr/local/lib/python3.7/dist-packages/sklearn/mixture/_base.py:282: ConvergenceWarning: Initialization 1 did not converge. Try different init parameters, or increase max_iter, tol or check for degenerate data.\n",
      "  ConvergenceWarning,\n",
      "/usr/local/lib/python3.7/dist-packages/sklearn/mixture/_base.py:282: ConvergenceWarning: Initialization 1 did not converge. Try different init parameters, or increase max_iter, tol or check for degenerate data.\n",
      "  ConvergenceWarning,\n",
      "/usr/local/lib/python3.7/dist-packages/sklearn/mixture/_base.py:282: ConvergenceWarning: Initialization 1 did not converge. Try different init parameters, or increase max_iter, tol or check for degenerate data.\n",
      "  ConvergenceWarning,\n",
      "/usr/local/lib/python3.7/dist-packages/sklearn/mixture/_base.py:282: ConvergenceWarning: Initialization 1 did not converge. Try different init parameters, or increase max_iter, tol or check for degenerate data.\n",
      "  ConvergenceWarning,\n",
      "/usr/local/lib/python3.7/dist-packages/sklearn/mixture/_base.py:282: ConvergenceWarning: Initialization 1 did not converge. Try different init parameters, or increase max_iter, tol or check for degenerate data.\n",
      "  ConvergenceWarning,\n",
      "/usr/local/lib/python3.7/dist-packages/sklearn/mixture/_base.py:282: ConvergenceWarning: Initialization 1 did not converge. Try different init parameters, or increase max_iter, tol or check for degenerate data.\n",
      "  ConvergenceWarning,\n",
      "/usr/local/lib/python3.7/dist-packages/sklearn/mixture/_base.py:282: ConvergenceWarning: Initialization 1 did not converge. Try different init parameters, or increase max_iter, tol or check for degenerate data.\n",
      "  ConvergenceWarning,\n",
      "/usr/local/lib/python3.7/dist-packages/sklearn/mixture/_base.py:282: ConvergenceWarning: Initialization 1 did not converge. Try different init parameters, or increase max_iter, tol or check for degenerate data.\n",
      "  ConvergenceWarning,\n",
      "/usr/local/lib/python3.7/dist-packages/sklearn/mixture/_base.py:282: ConvergenceWarning: Initialization 1 did not converge. Try different init parameters, or increase max_iter, tol or check for degenerate data.\n",
      "  ConvergenceWarning,\n",
      "/usr/local/lib/python3.7/dist-packages/sklearn/mixture/_base.py:282: ConvergenceWarning: Initialization 1 did not converge. Try different init parameters, or increase max_iter, tol or check for degenerate data.\n",
      "  ConvergenceWarning,\n",
      "/usr/local/lib/python3.7/dist-packages/sklearn/mixture/_base.py:282: ConvergenceWarning: Initialization 1 did not converge. Try different init parameters, or increase max_iter, tol or check for degenerate data.\n",
      "  ConvergenceWarning,\n",
      "/usr/local/lib/python3.7/dist-packages/sklearn/mixture/_base.py:282: ConvergenceWarning: Initialization 1 did not converge. Try different init parameters, or increase max_iter, tol or check for degenerate data.\n",
      "  ConvergenceWarning,\n",
      "/usr/local/lib/python3.7/dist-packages/sklearn/mixture/_base.py:282: ConvergenceWarning: Initialization 1 did not converge. Try different init parameters, or increase max_iter, tol or check for degenerate data.\n",
      "  ConvergenceWarning,\n",
      "/usr/local/lib/python3.7/dist-packages/sklearn/mixture/_base.py:282: ConvergenceWarning: Initialization 1 did not converge. Try different init parameters, or increase max_iter, tol or check for degenerate data.\n",
      "  ConvergenceWarning,\n",
      "/usr/local/lib/python3.7/dist-packages/sklearn/mixture/_base.py:282: ConvergenceWarning: Initialization 1 did not converge. Try different init parameters, or increase max_iter, tol or check for degenerate data.\n",
      "  ConvergenceWarning,\n",
      "/usr/local/lib/python3.7/dist-packages/sklearn/mixture/_base.py:282: ConvergenceWarning: Initialization 1 did not converge. Try different init parameters, or increase max_iter, tol or check for degenerate data.\n",
      "  ConvergenceWarning,\n",
      "/usr/local/lib/python3.7/dist-packages/sklearn/mixture/_base.py:282: ConvergenceWarning: Initialization 1 did not converge. Try different init parameters, or increase max_iter, tol or check for degenerate data.\n",
      "  ConvergenceWarning,\n",
      "/usr/local/lib/python3.7/dist-packages/sklearn/mixture/_base.py:282: ConvergenceWarning: Initialization 1 did not converge. Try different init parameters, or increase max_iter, tol or check for degenerate data.\n",
      "  ConvergenceWarning,\n"
     ]
    },
    {
     "ename": "KeyboardInterrupt",
     "evalue": "ignored",
     "output_type": "error",
     "traceback": [
      "\u001b[0;31m---------------------------------------------------------------------------\u001b[0m",
      "\u001b[0;31mKeyboardInterrupt\u001b[0m                         Traceback (most recent call last)",
      "\u001b[0;32m<ipython-input-58-d870808befee>\u001b[0m in \u001b[0;36m<module>\u001b[0;34m()\u001b[0m\n\u001b[1;32m      6\u001b[0m \u001b[0mprint\u001b[0m\u001b[0;34m(\u001b[0m\u001b[0;34m\"***n_components=%d ***\"\u001b[0m \u001b[0;34m%\u001b[0m \u001b[0;34m(\u001b[0m\u001b[0mn_components\u001b[0m\u001b[0;34m)\u001b[0m\u001b[0;34m)\u001b[0m\u001b[0;34m\u001b[0m\u001b[0;34m\u001b[0m\u001b[0m\n\u001b[1;32m      7\u001b[0m _,_ = train_test_GMM(dnn_train_X,dnn_test_X,train_y,test_y,classes,\n\u001b[0;32m----> 8\u001b[0;31m                      n_components=n_components,print_result=True,print_cmat=True)\n\u001b[0m",
      "\u001b[0;32m<ipython-input-54-785e94418954>\u001b[0m in \u001b[0;36mtrain_test_GMM\u001b[0;34m(X_train, X_test, y_train, y_test, classes, n_components, max_iter, tol, print_result, print_cmat)\u001b[0m\n\u001b[1;32m      8\u001b[0m                      n_components=1,max_iter=20,tol=1.e-3,print_result=True,print_cmat=False):\n\u001b[1;32m      9\u001b[0m     \u001b[0mclf_GM\u001b[0m \u001b[0;34m=\u001b[0m \u001b[0mGaussianMixtureClf\u001b[0m\u001b[0;34m(\u001b[0m\u001b[0mclasses\u001b[0m\u001b[0;34m=\u001b[0m\u001b[0mclasses\u001b[0m\u001b[0;34m,\u001b[0m\u001b[0mn_components\u001b[0m\u001b[0;34m=\u001b[0m\u001b[0mn_components\u001b[0m\u001b[0;34m,\u001b[0m\u001b[0mmax_iter\u001b[0m\u001b[0;34m=\u001b[0m\u001b[0;36m20\u001b[0m\u001b[0;34m,\u001b[0m\u001b[0mtol\u001b[0m\u001b[0;34m=\u001b[0m\u001b[0;36m1.e-3\u001b[0m\u001b[0;34m)\u001b[0m\u001b[0;34m\u001b[0m\u001b[0;34m\u001b[0m\u001b[0m\n\u001b[0;32m---> 10\u001b[0;31m     \u001b[0mclf_GM\u001b[0m\u001b[0;34m.\u001b[0m\u001b[0mfit\u001b[0m\u001b[0;34m(\u001b[0m\u001b[0mX_train\u001b[0m\u001b[0;34m,\u001b[0m\u001b[0my_train\u001b[0m\u001b[0;34m)\u001b[0m\u001b[0;34m\u001b[0m\u001b[0;34m\u001b[0m\u001b[0m\n\u001b[0m\u001b[1;32m     11\u001b[0m     \u001b[0my_pred\u001b[0m \u001b[0;34m=\u001b[0m \u001b[0mclf_GM\u001b[0m\u001b[0;34m.\u001b[0m\u001b[0mpredict\u001b[0m\u001b[0;34m(\u001b[0m\u001b[0mX_train\u001b[0m\u001b[0;34m)\u001b[0m\u001b[0;34m\u001b[0m\u001b[0;34m\u001b[0m\u001b[0m\n\u001b[1;32m     12\u001b[0m     \u001b[0macc_train\u001b[0m \u001b[0;34m=\u001b[0m \u001b[0;36m100.0\u001b[0m\u001b[0;34m*\u001b[0m\u001b[0mskmetrics\u001b[0m\u001b[0;34m.\u001b[0m\u001b[0maccuracy_score\u001b[0m\u001b[0;34m(\u001b[0m\u001b[0my_train\u001b[0m\u001b[0;34m,\u001b[0m \u001b[0my_pred\u001b[0m\u001b[0;34m)\u001b[0m\u001b[0;34m\u001b[0m\u001b[0;34m\u001b[0m\u001b[0m\n",
      "\u001b[0;32m/usr/local/lib/python3.7/dist-packages/pyspch/GaussianMixtureClf.py\u001b[0m in \u001b[0;36mfit\u001b[0;34m(self, X, y)\u001b[0m\n\u001b[1;32m     89\u001b[0m         \u001b[0;32mfor\u001b[0m \u001b[0mk\u001b[0m \u001b[0;32min\u001b[0m \u001b[0mrange\u001b[0m\u001b[0;34m(\u001b[0m\u001b[0;36m0\u001b[0m\u001b[0;34m,\u001b[0m\u001b[0mself\u001b[0m\u001b[0;34m.\u001b[0m\u001b[0mn_classes\u001b[0m\u001b[0;34m)\u001b[0m \u001b[0;34m:\u001b[0m\u001b[0;34m\u001b[0m\u001b[0;34m\u001b[0m\u001b[0m\n\u001b[1;32m     90\u001b[0m             \u001b[0mselection\u001b[0m \u001b[0;34m=\u001b[0m \u001b[0;34m(\u001b[0m\u001b[0my\u001b[0m\u001b[0;34m==\u001b[0m \u001b[0mself\u001b[0m\u001b[0;34m.\u001b[0m\u001b[0mclasses\u001b[0m\u001b[0;34m[\u001b[0m\u001b[0mk\u001b[0m\u001b[0;34m]\u001b[0m\u001b[0;34m)\u001b[0m\u001b[0;34m\u001b[0m\u001b[0;34m\u001b[0m\u001b[0m\n\u001b[0;32m---> 91\u001b[0;31m             \u001b[0mself\u001b[0m\u001b[0;34m.\u001b[0m\u001b[0mgmm\u001b[0m\u001b[0;34m[\u001b[0m\u001b[0mk\u001b[0m\u001b[0;34m]\u001b[0m\u001b[0;34m.\u001b[0m\u001b[0mfit\u001b[0m\u001b[0;34m(\u001b[0m\u001b[0mX\u001b[0m\u001b[0;34m[\u001b[0m\u001b[0mselection\u001b[0m\u001b[0;34m,\u001b[0m\u001b[0;34m:\u001b[0m \u001b[0;34m]\u001b[0m\u001b[0;34m)\u001b[0m\u001b[0;34m\u001b[0m\u001b[0;34m\u001b[0m\u001b[0m\n\u001b[0m\u001b[1;32m     92\u001b[0m             \u001b[0mself\u001b[0m\u001b[0;34m.\u001b[0m\u001b[0mclass_count_\u001b[0m\u001b[0;34m[\u001b[0m\u001b[0mk\u001b[0m\u001b[0;34m]\u001b[0m \u001b[0;34m=\u001b[0m \u001b[0mnp\u001b[0m\u001b[0;34m.\u001b[0m\u001b[0msum\u001b[0m\u001b[0;34m(\u001b[0m\u001b[0mselection\u001b[0m\u001b[0;34m)\u001b[0m\u001b[0;34m\u001b[0m\u001b[0;34m\u001b[0m\u001b[0m\n\u001b[1;32m     93\u001b[0m \u001b[0;31m#            print(\"Model for class: \",self.gmm[k].means_,np.sqrt(self.gmm[k].covariances_))\u001b[0m\u001b[0;34m\u001b[0m\u001b[0;34m\u001b[0m\u001b[0;34m\u001b[0m\u001b[0m\n",
      "\u001b[0;32m/usr/local/lib/python3.7/dist-packages/sklearn/mixture/_base.py\u001b[0m in \u001b[0;36mfit\u001b[0;34m(self, X, y)\u001b[0m\n\u001b[1;32m    196\u001b[0m             \u001b[0mThe\u001b[0m \u001b[0mfitted\u001b[0m \u001b[0mmixture\u001b[0m\u001b[0;34m.\u001b[0m\u001b[0;34m\u001b[0m\u001b[0;34m\u001b[0m\u001b[0m\n\u001b[1;32m    197\u001b[0m         \"\"\"\n\u001b[0;32m--> 198\u001b[0;31m         \u001b[0mself\u001b[0m\u001b[0;34m.\u001b[0m\u001b[0mfit_predict\u001b[0m\u001b[0;34m(\u001b[0m\u001b[0mX\u001b[0m\u001b[0;34m,\u001b[0m \u001b[0my\u001b[0m\u001b[0;34m)\u001b[0m\u001b[0;34m\u001b[0m\u001b[0;34m\u001b[0m\u001b[0m\n\u001b[0m\u001b[1;32m    199\u001b[0m         \u001b[0;32mreturn\u001b[0m \u001b[0mself\u001b[0m\u001b[0;34m\u001b[0m\u001b[0;34m\u001b[0m\u001b[0m\n\u001b[1;32m    200\u001b[0m \u001b[0;34m\u001b[0m\u001b[0m\n",
      "\u001b[0;32m/usr/local/lib/python3.7/dist-packages/sklearn/mixture/_base.py\u001b[0m in \u001b[0;36mfit_predict\u001b[0;34m(self, X, y)\u001b[0m\n\u001b[1;32m    256\u001b[0m                 \u001b[0mprev_lower_bound\u001b[0m \u001b[0;34m=\u001b[0m \u001b[0mlower_bound\u001b[0m\u001b[0;34m\u001b[0m\u001b[0;34m\u001b[0m\u001b[0m\n\u001b[1;32m    257\u001b[0m \u001b[0;34m\u001b[0m\u001b[0m\n\u001b[0;32m--> 258\u001b[0;31m                 \u001b[0mlog_prob_norm\u001b[0m\u001b[0;34m,\u001b[0m \u001b[0mlog_resp\u001b[0m \u001b[0;34m=\u001b[0m \u001b[0mself\u001b[0m\u001b[0;34m.\u001b[0m\u001b[0m_e_step\u001b[0m\u001b[0;34m(\u001b[0m\u001b[0mX\u001b[0m\u001b[0;34m)\u001b[0m\u001b[0;34m\u001b[0m\u001b[0;34m\u001b[0m\u001b[0m\n\u001b[0m\u001b[1;32m    259\u001b[0m                 \u001b[0mself\u001b[0m\u001b[0;34m.\u001b[0m\u001b[0m_m_step\u001b[0m\u001b[0;34m(\u001b[0m\u001b[0mX\u001b[0m\u001b[0;34m,\u001b[0m \u001b[0mlog_resp\u001b[0m\u001b[0;34m)\u001b[0m\u001b[0;34m\u001b[0m\u001b[0;34m\u001b[0m\u001b[0m\n\u001b[1;32m    260\u001b[0m                 \u001b[0mlower_bound\u001b[0m \u001b[0;34m=\u001b[0m \u001b[0mself\u001b[0m\u001b[0;34m.\u001b[0m\u001b[0m_compute_lower_bound\u001b[0m\u001b[0;34m(\u001b[0m\u001b[0mlog_resp\u001b[0m\u001b[0;34m,\u001b[0m \u001b[0mlog_prob_norm\u001b[0m\u001b[0;34m)\u001b[0m\u001b[0;34m\u001b[0m\u001b[0;34m\u001b[0m\u001b[0m\n",
      "\u001b[0;32m/usr/local/lib/python3.7/dist-packages/sklearn/mixture/_base.py\u001b[0m in \u001b[0;36m_e_step\u001b[0;34m(self, X)\u001b[0m\n\u001b[1;32m    310\u001b[0m             \u001b[0mthe\u001b[0m \u001b[0mpoint\u001b[0m \u001b[0mof\u001b[0m \u001b[0meach\u001b[0m \u001b[0msample\u001b[0m \u001b[0;32min\u001b[0m \u001b[0mX\u001b[0m\u001b[0;34m.\u001b[0m\u001b[0;34m\u001b[0m\u001b[0;34m\u001b[0m\u001b[0m\n\u001b[1;32m    311\u001b[0m         \"\"\"\n\u001b[0;32m--> 312\u001b[0;31m         \u001b[0mlog_prob_norm\u001b[0m\u001b[0;34m,\u001b[0m \u001b[0mlog_resp\u001b[0m \u001b[0;34m=\u001b[0m \u001b[0mself\u001b[0m\u001b[0;34m.\u001b[0m\u001b[0m_estimate_log_prob_resp\u001b[0m\u001b[0;34m(\u001b[0m\u001b[0mX\u001b[0m\u001b[0;34m)\u001b[0m\u001b[0;34m\u001b[0m\u001b[0;34m\u001b[0m\u001b[0m\n\u001b[0m\u001b[1;32m    313\u001b[0m         \u001b[0;32mreturn\u001b[0m \u001b[0mnp\u001b[0m\u001b[0;34m.\u001b[0m\u001b[0mmean\u001b[0m\u001b[0;34m(\u001b[0m\u001b[0mlog_prob_norm\u001b[0m\u001b[0;34m)\u001b[0m\u001b[0;34m,\u001b[0m \u001b[0mlog_resp\u001b[0m\u001b[0;34m\u001b[0m\u001b[0;34m\u001b[0m\u001b[0m\n\u001b[1;32m    314\u001b[0m \u001b[0;34m\u001b[0m\u001b[0m\n",
      "\u001b[0;32m/usr/local/lib/python3.7/dist-packages/sklearn/mixture/_base.py\u001b[0m in \u001b[0;36m_estimate_log_prob_resp\u001b[0;34m(self, X)\u001b[0m\n\u001b[1;32m    528\u001b[0m             \u001b[0mlogarithm\u001b[0m \u001b[0mof\u001b[0m \u001b[0mthe\u001b[0m \u001b[0mresponsibilities\u001b[0m\u001b[0;34m\u001b[0m\u001b[0;34m\u001b[0m\u001b[0m\n\u001b[1;32m    529\u001b[0m         \"\"\"\n\u001b[0;32m--> 530\u001b[0;31m         \u001b[0mweighted_log_prob\u001b[0m \u001b[0;34m=\u001b[0m \u001b[0mself\u001b[0m\u001b[0;34m.\u001b[0m\u001b[0m_estimate_weighted_log_prob\u001b[0m\u001b[0;34m(\u001b[0m\u001b[0mX\u001b[0m\u001b[0;34m)\u001b[0m\u001b[0;34m\u001b[0m\u001b[0;34m\u001b[0m\u001b[0m\n\u001b[0m\u001b[1;32m    531\u001b[0m         \u001b[0mlog_prob_norm\u001b[0m \u001b[0;34m=\u001b[0m \u001b[0mlogsumexp\u001b[0m\u001b[0;34m(\u001b[0m\u001b[0mweighted_log_prob\u001b[0m\u001b[0;34m,\u001b[0m \u001b[0maxis\u001b[0m\u001b[0;34m=\u001b[0m\u001b[0;36m1\u001b[0m\u001b[0;34m)\u001b[0m\u001b[0;34m\u001b[0m\u001b[0;34m\u001b[0m\u001b[0m\n\u001b[1;32m    532\u001b[0m         \u001b[0;32mwith\u001b[0m \u001b[0mnp\u001b[0m\u001b[0;34m.\u001b[0m\u001b[0merrstate\u001b[0m\u001b[0;34m(\u001b[0m\u001b[0munder\u001b[0m\u001b[0;34m=\u001b[0m\u001b[0;34m\"ignore\"\u001b[0m\u001b[0;34m)\u001b[0m\u001b[0;34m:\u001b[0m\u001b[0;34m\u001b[0m\u001b[0;34m\u001b[0m\u001b[0m\n",
      "\u001b[0;32m/usr/local/lib/python3.7/dist-packages/sklearn/mixture/_base.py\u001b[0m in \u001b[0;36m_estimate_weighted_log_prob\u001b[0;34m(self, X)\u001b[0m\n\u001b[1;32m    481\u001b[0m         \u001b[0mweighted_log_prob\u001b[0m \u001b[0;34m:\u001b[0m \u001b[0marray\u001b[0m\u001b[0;34m,\u001b[0m \u001b[0mshape\u001b[0m \u001b[0;34m(\u001b[0m\u001b[0mn_samples\u001b[0m\u001b[0;34m,\u001b[0m \u001b[0mn_component\u001b[0m\u001b[0;34m)\u001b[0m\u001b[0;34m\u001b[0m\u001b[0;34m\u001b[0m\u001b[0m\n\u001b[1;32m    482\u001b[0m         \"\"\"\n\u001b[0;32m--> 483\u001b[0;31m         \u001b[0;32mreturn\u001b[0m \u001b[0mself\u001b[0m\u001b[0;34m.\u001b[0m\u001b[0m_estimate_log_prob\u001b[0m\u001b[0;34m(\u001b[0m\u001b[0mX\u001b[0m\u001b[0;34m)\u001b[0m \u001b[0;34m+\u001b[0m \u001b[0mself\u001b[0m\u001b[0;34m.\u001b[0m\u001b[0m_estimate_log_weights\u001b[0m\u001b[0;34m(\u001b[0m\u001b[0;34m)\u001b[0m\u001b[0;34m\u001b[0m\u001b[0;34m\u001b[0m\u001b[0m\n\u001b[0m\u001b[1;32m    484\u001b[0m \u001b[0;34m\u001b[0m\u001b[0m\n\u001b[1;32m    485\u001b[0m     \u001b[0;34m@\u001b[0m\u001b[0mabstractmethod\u001b[0m\u001b[0;34m\u001b[0m\u001b[0;34m\u001b[0m\u001b[0m\n",
      "\u001b[0;32m/usr/local/lib/python3.7/dist-packages/sklearn/mixture/_gaussian_mixture.py\u001b[0m in \u001b[0;36m_estimate_log_prob\u001b[0;34m(self, X)\u001b[0m\n\u001b[1;32m    752\u001b[0m     \u001b[0;32mdef\u001b[0m \u001b[0m_estimate_log_prob\u001b[0m\u001b[0;34m(\u001b[0m\u001b[0mself\u001b[0m\u001b[0;34m,\u001b[0m \u001b[0mX\u001b[0m\u001b[0;34m)\u001b[0m\u001b[0;34m:\u001b[0m\u001b[0;34m\u001b[0m\u001b[0;34m\u001b[0m\u001b[0m\n\u001b[1;32m    753\u001b[0m         return _estimate_log_gaussian_prob(\n\u001b[0;32m--> 754\u001b[0;31m             \u001b[0mX\u001b[0m\u001b[0;34m,\u001b[0m \u001b[0mself\u001b[0m\u001b[0;34m.\u001b[0m\u001b[0mmeans_\u001b[0m\u001b[0;34m,\u001b[0m \u001b[0mself\u001b[0m\u001b[0;34m.\u001b[0m\u001b[0mprecisions_cholesky_\u001b[0m\u001b[0;34m,\u001b[0m \u001b[0mself\u001b[0m\u001b[0;34m.\u001b[0m\u001b[0mcovariance_type\u001b[0m\u001b[0;34m\u001b[0m\u001b[0;34m\u001b[0m\u001b[0m\n\u001b[0m\u001b[1;32m    755\u001b[0m         )\n\u001b[1;32m    756\u001b[0m \u001b[0;34m\u001b[0m\u001b[0m\n",
      "\u001b[0;32m/usr/local/lib/python3.7/dist-packages/sklearn/mixture/_gaussian_mixture.py\u001b[0m in \u001b[0;36m_estimate_log_gaussian_prob\u001b[0;34m(X, means, precisions_chol, covariance_type)\u001b[0m\n\u001b[1;32m    436\u001b[0m             \u001b[0mnp\u001b[0m\u001b[0;34m.\u001b[0m\u001b[0msum\u001b[0m\u001b[0;34m(\u001b[0m\u001b[0;34m(\u001b[0m\u001b[0mmeans\u001b[0m \u001b[0;34m**\u001b[0m \u001b[0;36m2\u001b[0m \u001b[0;34m*\u001b[0m \u001b[0mprecisions\u001b[0m\u001b[0;34m)\u001b[0m\u001b[0;34m,\u001b[0m \u001b[0;36m1\u001b[0m\u001b[0;34m)\u001b[0m\u001b[0;34m\u001b[0m\u001b[0;34m\u001b[0m\u001b[0m\n\u001b[1;32m    437\u001b[0m             \u001b[0;34m-\u001b[0m \u001b[0;36m2.0\u001b[0m \u001b[0;34m*\u001b[0m \u001b[0mnp\u001b[0m\u001b[0;34m.\u001b[0m\u001b[0mdot\u001b[0m\u001b[0;34m(\u001b[0m\u001b[0mX\u001b[0m\u001b[0;34m,\u001b[0m \u001b[0;34m(\u001b[0m\u001b[0mmeans\u001b[0m \u001b[0;34m*\u001b[0m \u001b[0mprecisions\u001b[0m\u001b[0;34m)\u001b[0m\u001b[0;34m.\u001b[0m\u001b[0mT\u001b[0m\u001b[0;34m)\u001b[0m\u001b[0;34m\u001b[0m\u001b[0;34m\u001b[0m\u001b[0m\n\u001b[0;32m--> 438\u001b[0;31m             \u001b[0;34m+\u001b[0m \u001b[0mnp\u001b[0m\u001b[0;34m.\u001b[0m\u001b[0mdot\u001b[0m\u001b[0;34m(\u001b[0m\u001b[0mX\u001b[0m \u001b[0;34m**\u001b[0m \u001b[0;36m2\u001b[0m\u001b[0;34m,\u001b[0m \u001b[0mprecisions\u001b[0m\u001b[0;34m.\u001b[0m\u001b[0mT\u001b[0m\u001b[0;34m)\u001b[0m\u001b[0;34m\u001b[0m\u001b[0;34m\u001b[0m\u001b[0m\n\u001b[0m\u001b[1;32m    439\u001b[0m         )\n\u001b[1;32m    440\u001b[0m \u001b[0;34m\u001b[0m\u001b[0m\n",
      "\u001b[0;32m<__array_function__ internals>\u001b[0m in \u001b[0;36mdot\u001b[0;34m(*args, **kwargs)\u001b[0m\n",
      "\u001b[0;31mKeyboardInterrupt\u001b[0m: "
     ]
    }
   ],
   "source": [
    "# GMM model\r\n",
    "n_dim = dnn_train_X.shape[1] #  feature dimension\r\n",
    "n_components = 5 # n_components to test\r\n",
    "classes = [phn2lab[phn] for phn in phn_set]\r\n",
    "\r\n",
    "print(\"***n_components=%d ***\" % (n_components))\r\n",
    "_,_ = train_test_GMM(dnn_train_X,dnn_test_X,train_y,test_y,classes,\r\n",
    "                     n_components=n_components,print_result=True,print_cmat=True)"
   ]
  },
  {
   "cell_type": "markdown",
   "metadata": {
    "id": "EjGAKXI7I0mU"
   },
   "source": [
    "##### Input feature: single frame"
   ]
  },
  {
   "cell_type": "code",
   "execution_count": null,
   "metadata": {
    "id": "pbgESBS5PwzP"
   },
   "outputs": [],
   "source": [
    "sframe_train_X = np.vstack(train_df['data']).astype('float32') \r\n",
    "sframe_test_X = np.vstack(test_df['data']).astype('float32') "
   ]
  },
  {
   "cell_type": "code",
   "execution_count": null,
   "metadata": {
    "id": "LQM3Wo2WmeLI"
   },
   "outputs": [],
   "source": [
    "# GMM model\r\n",
    "n_dim = sframe_train_X.shape[1] #  feature dimension\r\n",
    "n_components = 5 # n_components to test\r\n",
    "classes = [phn2lab[phn] for phn in phn_set]\r\n",
    "\r\n",
    "print(\"***n_components=%d ***\" % (n_components))\r\n",
    "_,_ = train_test_GMM(sframe_train_X,sframe_test_X,train_y,test_y,classes,\r\n",
    "                     n_components=n_components,print_result=True,print_cmat=True)"
   ]
  },
  {
   "cell_type": "markdown",
   "metadata": {
    "id": "iqWavbEsJRBG"
   },
   "source": [
    "##### Input feature: MFCC"
   ]
  },
  {
   "cell_type": "code",
   "execution_count": null,
   "metadata": {
    "colab": {
     "base_uri": "https://localhost:8080/"
    },
    "id": "c1oRPdfGO4UX",
    "outputId": "c22a0fc7-7bf4-4708-9779-7794371aae6e"
   },
   "outputs": [
    {
     "data": {
      "text/plain": [
       "(215588, 1056)"
      ]
     },
     "execution_count": 65,
     "metadata": {},
     "output_type": "execute_result"
    }
   ],
   "source": [
    "# MFCC features\r\n",
    "mfcc_train_X = dct(sframe_train_X, type=2, axis=1, norm='ortho')\r\n",
    "mfcc_test_X = dct(sframe_test_X, type=2, axis=1, norm='ortho')\r\n",
    "\r\n",
    "# add first order temporal derrivatives for GMM\r\n",
    "mfcc_train_X = add_derrivatives_data(mfcc_train_X, delta=True, ddelta=False)\r\n",
    "mfcc_test_X = add_derrivatives_data(mfcc_test_X, delta=True, ddelta=False)"
   ]
  },
  {
   "cell_type": "code",
   "execution_count": null,
   "metadata": {
    "colab": {
     "base_uri": "https://localhost:8080/",
     "height": 410
    },
    "id": "au-lFp25Oy8q",
    "outputId": "b6560132-2c3a-4050-99fe-9f8881c7fd8a"
   },
   "outputs": [
    {
     "name": "stdout",
     "output_type": "stream",
     "text": [
      "***n_components=5 ***\n"
     ]
    },
    {
     "name": "stderr",
     "output_type": "stream",
     "text": [
      "/usr/local/lib/python3.7/dist-packages/pyspch/GaussianMixtureClf.py:90: FutureWarning: elementwise comparison failed; returning scalar instead, but in the future will perform elementwise comparison\n",
      "  selection = (y== self.classes[k])\n"
     ]
    },
    {
     "ename": "ValueError",
     "evalue": "ignored",
     "output_type": "error",
     "traceback": [
      "\u001b[0;31m---------------------------------------------------------------------------\u001b[0m",
      "\u001b[0;31mValueError\u001b[0m                                Traceback (most recent call last)",
      "\u001b[0;32m<ipython-input-64-89c7b4293aa1>\u001b[0m in \u001b[0;36m<module>\u001b[0;34m()\u001b[0m\n\u001b[1;32m      6\u001b[0m \u001b[0mprint\u001b[0m\u001b[0;34m(\u001b[0m\u001b[0;34m\"***n_components=%d ***\"\u001b[0m \u001b[0;34m%\u001b[0m \u001b[0;34m(\u001b[0m\u001b[0mn_components\u001b[0m\u001b[0;34m)\u001b[0m\u001b[0;34m)\u001b[0m\u001b[0;34m\u001b[0m\u001b[0;34m\u001b[0m\u001b[0m\n\u001b[1;32m      7\u001b[0m _,_ = train_test_GMM(gmm_train_X,gmm_test_X,train_y,test_y,classes,\n\u001b[0;32m----> 8\u001b[0;31m                      n_components=n_components,print_result=True,print_cmat=True)\n\u001b[0m",
      "\u001b[0;32m<ipython-input-55-785e94418954>\u001b[0m in \u001b[0;36mtrain_test_GMM\u001b[0;34m(X_train, X_test, y_train, y_test, classes, n_components, max_iter, tol, print_result, print_cmat)\u001b[0m\n\u001b[1;32m      8\u001b[0m                      n_components=1,max_iter=20,tol=1.e-3,print_result=True,print_cmat=False):\n\u001b[1;32m      9\u001b[0m     \u001b[0mclf_GM\u001b[0m \u001b[0;34m=\u001b[0m \u001b[0mGaussianMixtureClf\u001b[0m\u001b[0;34m(\u001b[0m\u001b[0mclasses\u001b[0m\u001b[0;34m=\u001b[0m\u001b[0mclasses\u001b[0m\u001b[0;34m,\u001b[0m\u001b[0mn_components\u001b[0m\u001b[0;34m=\u001b[0m\u001b[0mn_components\u001b[0m\u001b[0;34m,\u001b[0m\u001b[0mmax_iter\u001b[0m\u001b[0;34m=\u001b[0m\u001b[0;36m20\u001b[0m\u001b[0;34m,\u001b[0m\u001b[0mtol\u001b[0m\u001b[0;34m=\u001b[0m\u001b[0;36m1.e-3\u001b[0m\u001b[0;34m)\u001b[0m\u001b[0;34m\u001b[0m\u001b[0;34m\u001b[0m\u001b[0m\n\u001b[0;32m---> 10\u001b[0;31m     \u001b[0mclf_GM\u001b[0m\u001b[0;34m.\u001b[0m\u001b[0mfit\u001b[0m\u001b[0;34m(\u001b[0m\u001b[0mX_train\u001b[0m\u001b[0;34m,\u001b[0m\u001b[0my_train\u001b[0m\u001b[0;34m)\u001b[0m\u001b[0;34m\u001b[0m\u001b[0;34m\u001b[0m\u001b[0m\n\u001b[0m\u001b[1;32m     11\u001b[0m     \u001b[0my_pred\u001b[0m \u001b[0;34m=\u001b[0m \u001b[0mclf_GM\u001b[0m\u001b[0;34m.\u001b[0m\u001b[0mpredict\u001b[0m\u001b[0;34m(\u001b[0m\u001b[0mX_train\u001b[0m\u001b[0;34m)\u001b[0m\u001b[0;34m\u001b[0m\u001b[0;34m\u001b[0m\u001b[0m\n\u001b[1;32m     12\u001b[0m     \u001b[0macc_train\u001b[0m \u001b[0;34m=\u001b[0m \u001b[0;36m100.0\u001b[0m\u001b[0;34m*\u001b[0m\u001b[0mskmetrics\u001b[0m\u001b[0;34m.\u001b[0m\u001b[0maccuracy_score\u001b[0m\u001b[0;34m(\u001b[0m\u001b[0my_train\u001b[0m\u001b[0;34m,\u001b[0m \u001b[0my_pred\u001b[0m\u001b[0;34m)\u001b[0m\u001b[0;34m\u001b[0m\u001b[0;34m\u001b[0m\u001b[0m\n",
      "\u001b[0;32m/usr/local/lib/python3.7/dist-packages/pyspch/GaussianMixtureClf.py\u001b[0m in \u001b[0;36mfit\u001b[0;34m(self, X, y)\u001b[0m\n\u001b[1;32m     89\u001b[0m         \u001b[0;32mfor\u001b[0m \u001b[0mk\u001b[0m \u001b[0;32min\u001b[0m \u001b[0mrange\u001b[0m\u001b[0;34m(\u001b[0m\u001b[0;36m0\u001b[0m\u001b[0;34m,\u001b[0m\u001b[0mself\u001b[0m\u001b[0;34m.\u001b[0m\u001b[0mn_classes\u001b[0m\u001b[0;34m)\u001b[0m \u001b[0;34m:\u001b[0m\u001b[0;34m\u001b[0m\u001b[0;34m\u001b[0m\u001b[0m\n\u001b[1;32m     90\u001b[0m             \u001b[0mselection\u001b[0m \u001b[0;34m=\u001b[0m \u001b[0;34m(\u001b[0m\u001b[0my\u001b[0m\u001b[0;34m==\u001b[0m \u001b[0mself\u001b[0m\u001b[0;34m.\u001b[0m\u001b[0mclasses\u001b[0m\u001b[0;34m[\u001b[0m\u001b[0mk\u001b[0m\u001b[0;34m]\u001b[0m\u001b[0;34m)\u001b[0m\u001b[0;34m\u001b[0m\u001b[0;34m\u001b[0m\u001b[0m\n\u001b[0;32m---> 91\u001b[0;31m             \u001b[0mself\u001b[0m\u001b[0;34m.\u001b[0m\u001b[0mgmm\u001b[0m\u001b[0;34m[\u001b[0m\u001b[0mk\u001b[0m\u001b[0;34m]\u001b[0m\u001b[0;34m.\u001b[0m\u001b[0mfit\u001b[0m\u001b[0;34m(\u001b[0m\u001b[0mX\u001b[0m\u001b[0;34m[\u001b[0m\u001b[0mselection\u001b[0m\u001b[0;34m,\u001b[0m\u001b[0;34m:\u001b[0m \u001b[0;34m]\u001b[0m\u001b[0;34m)\u001b[0m\u001b[0;34m\u001b[0m\u001b[0;34m\u001b[0m\u001b[0m\n\u001b[0m\u001b[1;32m     92\u001b[0m             \u001b[0mself\u001b[0m\u001b[0;34m.\u001b[0m\u001b[0mclass_count_\u001b[0m\u001b[0;34m[\u001b[0m\u001b[0mk\u001b[0m\u001b[0;34m]\u001b[0m \u001b[0;34m=\u001b[0m \u001b[0mnp\u001b[0m\u001b[0;34m.\u001b[0m\u001b[0msum\u001b[0m\u001b[0;34m(\u001b[0m\u001b[0mselection\u001b[0m\u001b[0;34m)\u001b[0m\u001b[0;34m\u001b[0m\u001b[0;34m\u001b[0m\u001b[0m\n\u001b[1;32m     93\u001b[0m \u001b[0;31m#            print(\"Model for class: \",self.gmm[k].means_,np.sqrt(self.gmm[k].covariances_))\u001b[0m\u001b[0;34m\u001b[0m\u001b[0;34m\u001b[0m\u001b[0;34m\u001b[0m\u001b[0m\n",
      "\u001b[0;32m/usr/local/lib/python3.7/dist-packages/sklearn/mixture/_base.py\u001b[0m in \u001b[0;36mfit\u001b[0;34m(self, X, y)\u001b[0m\n\u001b[1;32m    196\u001b[0m             \u001b[0mThe\u001b[0m \u001b[0mfitted\u001b[0m \u001b[0mmixture\u001b[0m\u001b[0;34m.\u001b[0m\u001b[0;34m\u001b[0m\u001b[0;34m\u001b[0m\u001b[0m\n\u001b[1;32m    197\u001b[0m         \"\"\"\n\u001b[0;32m--> 198\u001b[0;31m         \u001b[0mself\u001b[0m\u001b[0;34m.\u001b[0m\u001b[0mfit_predict\u001b[0m\u001b[0;34m(\u001b[0m\u001b[0mX\u001b[0m\u001b[0;34m,\u001b[0m \u001b[0my\u001b[0m\u001b[0;34m)\u001b[0m\u001b[0;34m\u001b[0m\u001b[0;34m\u001b[0m\u001b[0m\n\u001b[0m\u001b[1;32m    199\u001b[0m         \u001b[0;32mreturn\u001b[0m \u001b[0mself\u001b[0m\u001b[0;34m\u001b[0m\u001b[0;34m\u001b[0m\u001b[0m\n\u001b[1;32m    200\u001b[0m \u001b[0;34m\u001b[0m\u001b[0m\n",
      "\u001b[0;32m/usr/local/lib/python3.7/dist-packages/sklearn/mixture/_base.py\u001b[0m in \u001b[0;36mfit_predict\u001b[0;34m(self, X, y)\u001b[0m\n\u001b[1;32m    226\u001b[0m             \u001b[0mComponent\u001b[0m \u001b[0mlabels\u001b[0m\u001b[0;34m.\u001b[0m\u001b[0;34m\u001b[0m\u001b[0;34m\u001b[0m\u001b[0m\n\u001b[1;32m    227\u001b[0m         \"\"\"\n\u001b[0;32m--> 228\u001b[0;31m         \u001b[0mX\u001b[0m \u001b[0;34m=\u001b[0m \u001b[0mself\u001b[0m\u001b[0;34m.\u001b[0m\u001b[0m_validate_data\u001b[0m\u001b[0;34m(\u001b[0m\u001b[0mX\u001b[0m\u001b[0;34m,\u001b[0m \u001b[0mdtype\u001b[0m\u001b[0;34m=\u001b[0m\u001b[0;34m[\u001b[0m\u001b[0mnp\u001b[0m\u001b[0;34m.\u001b[0m\u001b[0mfloat64\u001b[0m\u001b[0;34m,\u001b[0m \u001b[0mnp\u001b[0m\u001b[0;34m.\u001b[0m\u001b[0mfloat32\u001b[0m\u001b[0;34m]\u001b[0m\u001b[0;34m,\u001b[0m \u001b[0mensure_min_samples\u001b[0m\u001b[0;34m=\u001b[0m\u001b[0;36m2\u001b[0m\u001b[0;34m)\u001b[0m\u001b[0;34m\u001b[0m\u001b[0;34m\u001b[0m\u001b[0m\n\u001b[0m\u001b[1;32m    229\u001b[0m         \u001b[0;32mif\u001b[0m \u001b[0mX\u001b[0m\u001b[0;34m.\u001b[0m\u001b[0mshape\u001b[0m\u001b[0;34m[\u001b[0m\u001b[0;36m0\u001b[0m\u001b[0;34m]\u001b[0m \u001b[0;34m<\u001b[0m \u001b[0mself\u001b[0m\u001b[0;34m.\u001b[0m\u001b[0mn_components\u001b[0m\u001b[0;34m:\u001b[0m\u001b[0;34m\u001b[0m\u001b[0;34m\u001b[0m\u001b[0m\n\u001b[1;32m    230\u001b[0m             raise ValueError(\n",
      "\u001b[0;32m/usr/local/lib/python3.7/dist-packages/sklearn/base.py\u001b[0m in \u001b[0;36m_validate_data\u001b[0;34m(self, X, y, reset, validate_separately, **check_params)\u001b[0m\n\u001b[1;32m    559\u001b[0m             \u001b[0;32mraise\u001b[0m \u001b[0mValueError\u001b[0m\u001b[0;34m(\u001b[0m\u001b[0;34m\"Validation should be done on X, y or both.\"\u001b[0m\u001b[0;34m)\u001b[0m\u001b[0;34m\u001b[0m\u001b[0;34m\u001b[0m\u001b[0m\n\u001b[1;32m    560\u001b[0m         \u001b[0;32melif\u001b[0m \u001b[0;32mnot\u001b[0m \u001b[0mno_val_X\u001b[0m \u001b[0;32mand\u001b[0m \u001b[0mno_val_y\u001b[0m\u001b[0;34m:\u001b[0m\u001b[0;34m\u001b[0m\u001b[0;34m\u001b[0m\u001b[0m\n\u001b[0;32m--> 561\u001b[0;31m             \u001b[0mX\u001b[0m \u001b[0;34m=\u001b[0m \u001b[0mcheck_array\u001b[0m\u001b[0;34m(\u001b[0m\u001b[0mX\u001b[0m\u001b[0;34m,\u001b[0m \u001b[0;34m**\u001b[0m\u001b[0mcheck_params\u001b[0m\u001b[0;34m)\u001b[0m\u001b[0;34m\u001b[0m\u001b[0;34m\u001b[0m\u001b[0m\n\u001b[0m\u001b[1;32m    562\u001b[0m             \u001b[0mout\u001b[0m \u001b[0;34m=\u001b[0m \u001b[0mX\u001b[0m\u001b[0;34m\u001b[0m\u001b[0;34m\u001b[0m\u001b[0m\n\u001b[1;32m    563\u001b[0m         \u001b[0;32melif\u001b[0m \u001b[0mno_val_X\u001b[0m \u001b[0;32mand\u001b[0m \u001b[0;32mnot\u001b[0m \u001b[0mno_val_y\u001b[0m\u001b[0;34m:\u001b[0m\u001b[0;34m\u001b[0m\u001b[0;34m\u001b[0m\u001b[0m\n",
      "\u001b[0;32m/usr/local/lib/python3.7/dist-packages/sklearn/utils/validation.py\u001b[0m in \u001b[0;36mcheck_array\u001b[0;34m(array, accept_sparse, accept_large_sparse, dtype, order, copy, force_all_finite, ensure_2d, allow_nd, ensure_min_samples, ensure_min_features, estimator)\u001b[0m\n\u001b[1;32m    786\u001b[0m             raise ValueError(\n\u001b[1;32m    787\u001b[0m                 \u001b[0;34m\"Found array with dim %d. %s expected <= 2.\"\u001b[0m\u001b[0;34m\u001b[0m\u001b[0;34m\u001b[0m\u001b[0m\n\u001b[0;32m--> 788\u001b[0;31m                 \u001b[0;34m%\u001b[0m \u001b[0;34m(\u001b[0m\u001b[0marray\u001b[0m\u001b[0;34m.\u001b[0m\u001b[0mndim\u001b[0m\u001b[0;34m,\u001b[0m \u001b[0mestimator_name\u001b[0m\u001b[0;34m)\u001b[0m\u001b[0;34m\u001b[0m\u001b[0;34m\u001b[0m\u001b[0m\n\u001b[0m\u001b[1;32m    789\u001b[0m             )\n\u001b[1;32m    790\u001b[0m \u001b[0;34m\u001b[0m\u001b[0m\n",
      "\u001b[0;31mValueError\u001b[0m: Found array with dim 3. Estimator expected <= 2."
     ]
    }
   ],
   "source": [
    "# GMM model\r\n",
    "n_dim = mfcc_train_X.shape[1] #  feature dimension\r\n",
    "n_components = 5 #  n_components to test\r\n",
    "classes = [phn2lab[phn] for phn in phn_set]\r\n",
    "\r\n",
    "print(\"***n_components=%d ***\" % (n_components))\r\n",
    "_,_ = train_test_GMM(mfcc_train_X,mfcc_test_X,train_y,test_y,classes,\r\n",
    "                     n_components=n_components,print_result=True,print_cmat=True)"
   ]
  },
  {
   "cell_type": "markdown",
   "metadata": {
    "id": "3eFPffdUGl_k"
   },
   "source": [
    "#### Questions\r\n",
    "\r\n",
    "**DNN model**\r\n",
    "\r\n",
    "Q1. Why use early stopping? What happens if you continue training?\r\n",
    "\r\n",
    "**GMM model**\r\n",
    "\r\n",
    "Q2. Does the GMM model's performance increase when using a window of frames as input feature, compared to a single frame, and why? \r\n",
    "\r\n",
    "**Comparison**\r\n",
    "\r\n",
    "Q2. In the end, is a DNN model better suited for phoneme classification as a GMM model, and why?\r\n",
    "\r\n",
    "\r\n",
    "\r\n"
   ]
  }
 ],
 "metadata": {
  "accelerator": "GPU",
  "colab": {
   "collapsed_sections": [],
   "name": "ex_timit-3",
   "provenance": [],
   "toc_visible": true
  },
  "kernelspec": {
   "display_name": "Python 3",
   "language": "python",
   "name": "python3"
  },
  "language_info": {
   "codemirror_mode": {
    "name": "ipython",
    "version": 3
   },
   "file_extension": ".py",
   "mimetype": "text/x-python",
   "name": "python",
   "nbconvert_exporter": "python",
   "pygments_lexer": "ipython3",
   "version": "3.7.8"
  },
  "widgets": {
   "application/vnd.jupyter.widget-state+json": {
    "state": {},
    "version_major": 2,
    "version_minor": 0
   }
  }
 },
 "nbformat": 4,
 "nbformat_minor": 4
}
