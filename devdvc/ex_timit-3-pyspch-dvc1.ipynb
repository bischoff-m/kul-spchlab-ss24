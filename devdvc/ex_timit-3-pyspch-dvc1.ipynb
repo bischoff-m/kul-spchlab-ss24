{
 "cells": [
  {
   "cell_type": "markdown",
   "metadata": {
    "id": "1-Sg0pH041mX"
   },
   "source": [
    "## Classification of Speech Frames\n",
    "PART IV: RECOGNIZE A PHONEME FROM FILTERBANK FEATURES WITH A DNN"
   ]
  },
  {
   "cell_type": "markdown",
   "metadata": {
    "id": "nEBOGxM441mY"
   },
   "source": [
    "### 1. Setting up your Python Environment\n",
    "\n",
    "1. Import Python's Machine Learning Stack and other utilities\n",
    "\n",
    "2. Quite a few helper routines are defined for learning our Neural Network in Pytorch in the pyspch.nn module.\n",
    "\n",
    "#### ISSUES: \n",
    "- 30/03/2022:   problem opening/importing current version on PC/windows 'code editor out of sync'\n"
   ]
  },
  {
   "cell_type": "code",
   "execution_count": 1,
   "metadata": {},
   "outputs": [],
   "source": [
    "%matplotlib inline\n",
    "import io, os, sys\n",
    "import logging\n",
    "\n",
    "import matplotlib.pyplot as plt\n",
    "import numpy as np\n",
    "import pandas as pd\n",
    "import scipy.io as sio\n",
    "import seaborn as sns\n",
    "import torch\n",
    "from scipy.fftpack import dct\n",
    "#from IPython.display import display\n",
    "\n",
    "# reproducibility \n",
    "torch.manual_seed(0) \n",
    "np.random.seed(0)\n",
    "\n",
    "# pyspch\n",
    "try:\n",
    "  import google.colab\n",
    "  IN_COLAB = True\n",
    "  ! pip install git+https://github.com/compi1234/pyspch.git@v0.6\n",
    "except:\n",
    "  IN_COLAB = False\n",
    "\n",
    "# pyspch\n",
    "import pyspch\n",
    "import pyspch.nn\n",
    "logging.basicConfig(level=logging.INFO)"
   ]
  },
  {
   "cell_type": "code",
   "execution_count": 2,
   "metadata": {},
   "outputs": [],
   "source": [
    "#@title Auxiliary functions \n",
    "\n",
    "import requests\n",
    "import importlib\n",
    "import scipy.io as sio\n",
    "import urllib.request\n",
    "import pickle\n",
    "import gzip\n",
    "\n",
    "# download from url and write to file\n",
    "def write_from_url(url, filename):\n",
    "    r = requests.get(url)\n",
    "    with open(filename, 'wb') as f:\n",
    "        f.write(r.content)\n",
    "\n",
    "# dictionairy\n",
    "class dotdict(dict):\n",
    "    \"\"\"dot.notation access to dictionary attributes\"\"\"\n",
    "    __getattr__ = dict.get\n",
    "    __setattr__ = dict.__setitem__\n",
    "    __delattr__ = dict.__delitem__\n",
    "    \n",
    "def dict_from_module(module):\n",
    "    context = {}\n",
    "    for setting in dir(module):\n",
    "        # you can write your filter here\n",
    "        if not setting.startswith('_'):\n",
    "            context[setting] = getattr(module, setting)\n",
    "\n",
    "    return context\n",
    "\n",
    "# import setup file (.py) as module (dotdict)\n",
    "def read_setup(filename, new_read_path=None, old_read_path='/users/spraak/spchlab/public_html/data/timit/'):\n",
    "    \n",
    "    # load module\n",
    "    spec = importlib.util.spec_from_file_location(os.path.basename(filename), filename)\n",
    "    setup = importlib.util.module_from_spec(spec)\n",
    "    spec.loader.exec_module(setup)\n",
    "    \n",
    "    # convert to dict \n",
    "    setup = dict_from_module(setup)\n",
    "    setup = dotdict(setup)\n",
    "\n",
    "    # replace esat_path with root_url\n",
    "    if new_read_path is not None:\n",
    "        for k, v in setup.items():\n",
    "            if type(v) == str:\n",
    "                setup[k] = v.replace(old_read_path, new_read_path)\n",
    "            \n",
    "    return setup\n",
    "\n",
    "# loads all data in a matlab file at given url to the contents structure\n",
    "# this is working for MATLAB 7.0 files and older ; not hdf5 MATLAB 7.3 or more recent\n",
    "def load_matlab_from_url(url):\n",
    "    url_response = urllib.request.urlopen(url)\n",
    "    matio = io.BytesIO(url_response.read())\n",
    "    contents = sio.loadmat(matio,squeeze_me=True)\n",
    "    return(contents)"
   ]
  },
  {
   "cell_type": "code",
   "execution_count": null,
   "metadata": {},
   "outputs": [],
   "source": []
  },
  {
   "cell_type": "code",
   "execution_count": 3,
   "metadata": {},
   "outputs": [],
   "source": [
    "# device\n",
    "use_cuda_if_available = True\n",
    "if use_cuda_if_available:\n",
    "    device = torch.device(\"cuda:0\" if torch.cuda.is_available() else \"cpu\") \n",
    "else:\n",
    "    device = \"cpu\""
   ]
  },
  {
   "cell_type": "markdown",
   "metadata": {
    "id": "r3ezItDBC8y9"
   },
   "source": [
    "### Baseline DNN model\n",
    "\n",
    "We use a simple Neural Network (NN) to classify the frames, namely a fully connected feed-forward network, with a sigmoid activation function following each hidden layer. The architecture is defined by the input, output and hidden layer sizes. \n",
    "\n",
    "The input feature is a window of 11 frames (black) around the target frame (red) with a stride of 2, giving window that spans 210 ms. \n",
    "The stride is distance (in time steps) between the selected frames. \n",
    "For each target frames, the selected frames are concatenated into a vector.\n",
    "Alternatively, one could preserve the 2D structure of the input (time x frequency) provided the neural architecture allows it (e.g. using 2D convolutional layers). \n",
    "\n",
    "The phone labels are one-hot encoded, we thus have a neuron for each phone label in the output layer of the network. By applying the softmax function at the end of the network, we obtain phone probabilities as outputs. The predicted label is the one with the highest probabilty. \n",
    "\n",
    "Note that training a model from scratch on TIMIT is (relatively) computationally expensive. That is why we load a pretrained model, matching the architecture described above.\n",
    "\n",
    "<img src=\"http://homes.esat.kuleuven.be/~spchlab/data_old/timit/dnn_setup_3.PNG\" width=\"750\">"
   ]
  },
  {
   "cell_type": "markdown",
   "metadata": {},
   "source": [
    "#### Setup for baseline\n"
   ]
  },
  {
   "cell_type": "code",
   "execution_count": 4,
   "metadata": {},
   "outputs": [],
   "source": [
    "# root url\n",
    "root_url = 'https://homes.esat.kuleuven.be/~spchlab/data/timit/'\n",
    "\n",
    "# baseline path\n",
    "baseline_path = 'models/default/mfcc13dd2v/N5s2/'\n",
    "# baseline_path = 'models/dummy/'\n",
    "os.makedirs(baseline_path, exist_ok=True, mode=0o777)\n",
    "\n",
    "#\n",
    "#\n",
    "#\n",
    "model_fobj = pyspch.read_fobj(root_url + baseline_path + 'model.pt')\n",
    "checkpoint = pyspch.nn.read_checkpoint(model_fobj, device)\n",
    "    \n",
    "# setup file\n",
    "write_from_url(root_url + baseline_path + 'setup.py', baseline_path + 'setup.py')\n",
    "#write_from_url(root_url + baseline_path + 'model.pt', baseline_path + 'model.pt')"
   ]
  },
  {
   "cell_type": "code",
   "execution_count": 5,
   "metadata": {
    "collapsed": true,
    "jupyter": {
     "outputs_hidden": true
    }
   },
   "outputs": [
    {
     "data": {
      "text/plain": [
       "({'feature_args': {'spg': None,\n",
       "   'Deltas': 'delta_delta2',\n",
       "   'Norm': 'var',\n",
       "   'sample_rate': 16000,\n",
       "   'f_shift': 0.01,\n",
       "   'f_length': 0.03,\n",
       "   'preemp': 0.97,\n",
       "   'window': 'hamm',\n",
       "   'mode': 'dB',\n",
       "   'n_mels': 24,\n",
       "   'n_cep': 13},\n",
       "  'sampler_args': {'N': 5, 'stride': 2, 'mode': 'flatten'},\n",
       "  'model_args': {'model': 'ffdnn',\n",
       "   'model_args': {'in_dim': 429,\n",
       "    'out_dim': 41,\n",
       "    'hidden_layer_dims': [1024, 768, 512],\n",
       "    'nonlinearity': 'sig',\n",
       "    'dropout': 0.1}},\n",
       "  'training_args': {'n_epoch': 250,\n",
       "   'patience': 20,\n",
       "   'criterion': 'crossentropy',\n",
       "   'criterion_args': {},\n",
       "   'optimizer': 'adamw',\n",
       "   'optimizer_args': {'lr': 0.001},\n",
       "   'scheduler': 'plateau',\n",
       "   'scheduler_args': {'factor': 0.1, 'patience': 10, 'threshold': 0.0001},\n",
       "   'clip_args': {},\n",
       "   'batch_size': 64,\n",
       "   'shuffle': True,\n",
       "   'num_workers': 0,\n",
       "   'val_frac': 0.1,\n",
       "   'val_seed': 1234}},\n",
       " {'aa': 0,\n",
       "  'ae': 1,\n",
       "  'ah': 2,\n",
       "  'ao': 3,\n",
       "  'aw': 4,\n",
       "  'er': 5,\n",
       "  'ay': 6,\n",
       "  'b': 7,\n",
       "  'ch': 8,\n",
       "  'd': 9,\n",
       "  'dh': 10,\n",
       "  'eh': 11,\n",
       "  'm': 12,\n",
       "  'ng': 13,\n",
       "  'ey': 14,\n",
       "  'f': 15,\n",
       "  'g': 16,\n",
       "  'hh': 17,\n",
       "  'ih': 18,\n",
       "  'iy': 19,\n",
       "  'jh': 20,\n",
       "  'k': 21,\n",
       "  'l': 22,\n",
       "  'n': 23,\n",
       "  'ow': 24,\n",
       "  'oy': 25,\n",
       "  'p': 26,\n",
       "  'r': 27,\n",
       "  's': 28,\n",
       "  'sh': 29,\n",
       "  't': 30,\n",
       "  'th': 31,\n",
       "  'uh': 32,\n",
       "  'uw': 33,\n",
       "  'v': 34,\n",
       "  'w': 35,\n",
       "  'y': 36,\n",
       "  'z': 37,\n",
       "  'zh': 38,\n",
       "  'sil': 39,\n",
       "  'cl': 40},\n",
       " FFDNN(\n",
       "   (net): Sequential(\n",
       "     (0): Linear(in_features=429, out_features=1024, bias=True)\n",
       "     (1): Sigmoid()\n",
       "     (2): Dropout(p=0.1, inplace=False)\n",
       "     (3): Linear(in_features=1024, out_features=768, bias=True)\n",
       "     (4): Sigmoid()\n",
       "     (5): Dropout(p=0.1, inplace=False)\n",
       "     (6): Linear(in_features=768, out_features=512, bias=True)\n",
       "     (7): Sigmoid()\n",
       "     (8): Dropout(p=0.1, inplace=False)\n",
       "     (9): Linear(in_features=512, out_features=41, bias=True)\n",
       "   )\n",
       " ),\n",
       " CrossEntropyLoss(),\n",
       " AdamW (\n",
       " Parameter Group 0\n",
       "     amsgrad: False\n",
       "     betas: (0.9, 0.999)\n",
       "     eps: 1e-08\n",
       "     lr: 1.0000000000000002e-06\n",
       "     maximize: False\n",
       "     weight_decay: 0.01\n",
       " ),\n",
       " <torch.optim.lr_scheduler.ReduceLROnPlateau at 0x25ce603dc48>)"
      ]
     },
     "execution_count": 5,
     "metadata": {},
     "output_type": "execute_result"
    }
   ],
   "source": [
    "checkpoint"
   ]
  },
  {
   "cell_type": "code",
   "execution_count": 6,
   "metadata": {},
   "outputs": [
    {
     "ename": "AttributeError",
     "evalue": "'NoneType' object has no attribute 'loader'",
     "output_type": "error",
     "traceback": [
      "\u001b[1;31m---------------------------------------------------------------------------\u001b[0m",
      "\u001b[1;31mAttributeError\u001b[0m                            Traceback (most recent call last)",
      "\u001b[1;32m<ipython-input-6-1dd53e957c95>\u001b[0m in \u001b[0;36m<module>\u001b[1;34m\u001b[0m\n\u001b[0;32m      1\u001b[0m \u001b[0mspec\u001b[0m \u001b[1;33m=\u001b[0m \u001b[0mimportlib\u001b[0m\u001b[1;33m.\u001b[0m\u001b[0mutil\u001b[0m\u001b[1;33m.\u001b[0m\u001b[0mspec_from_file_location\u001b[0m\u001b[1;33m(\u001b[0m\u001b[0mroot_url\u001b[0m \u001b[1;33m+\u001b[0m \u001b[0mbaseline_path\u001b[0m \u001b[1;33m+\u001b[0m \u001b[1;34m'setup.py'\u001b[0m\u001b[1;33m)\u001b[0m\u001b[1;33m\u001b[0m\u001b[1;33m\u001b[0m\u001b[0m\n\u001b[1;32m----> 2\u001b[1;33m \u001b[0msetup\u001b[0m \u001b[1;33m=\u001b[0m \u001b[0mimportlib\u001b[0m\u001b[1;33m.\u001b[0m\u001b[0mutil\u001b[0m\u001b[1;33m.\u001b[0m\u001b[0mmodule_from_spec\u001b[0m\u001b[1;33m(\u001b[0m\u001b[0mspec\u001b[0m\u001b[1;33m)\u001b[0m\u001b[1;33m\u001b[0m\u001b[1;33m\u001b[0m\u001b[0m\n\u001b[0m\u001b[0;32m      3\u001b[0m \u001b[0mspec\u001b[0m\u001b[1;33m.\u001b[0m\u001b[0mloader\u001b[0m\u001b[1;33m.\u001b[0m\u001b[0mexec_module\u001b[0m\u001b[1;33m(\u001b[0m\u001b[0msetup\u001b[0m\u001b[1;33m)\u001b[0m\u001b[1;33m\u001b[0m\u001b[1;33m\u001b[0m\u001b[0m\n\u001b[0;32m      4\u001b[0m \u001b[0mspec\u001b[0m\u001b[1;33m,\u001b[0m \u001b[0msetup\u001b[0m\u001b[1;33m\u001b[0m\u001b[1;33m\u001b[0m\u001b[0m\n",
      "\u001b[1;32m~\\Anaconda3\\envs\\py37\\lib\\importlib\\_bootstrap.py\u001b[0m in \u001b[0;36mmodule_from_spec\u001b[1;34m(spec)\u001b[0m\n",
      "\u001b[1;31mAttributeError\u001b[0m: 'NoneType' object has no attribute 'loader'"
     ]
    }
   ],
   "source": [
    "spec = importlib.util.spec_from_file_location(root_url + baseline_path + 'setup.py')\n",
    "setup = importlib.util.module_from_spec(spec)\n",
    "spec.loader.exec_module(setup)\n",
    "spec, setup"
   ]
  },
  {
   "cell_type": "code",
   "execution_count": null,
   "metadata": {},
   "outputs": [],
   "source": [
    "# read setup \n",
    "setup = read_setup(baseline_path + 'setup.py', root_url)\n",
    "\n",
    "# read checkpoint (model)\n",
    "checkpoint = pyspch.nn.read_checkpoint(baseline_path + 'model.pt', device)\n",
    "model_setup, lab2idx, model, criterion, optimizer, scheduler = checkpoint\n",
    "model.to(device)\n",
    "\n",
    "# update setup - allows continued training\n",
    "setup.update(model_setup)"
   ]
  },
  {
   "cell_type": "markdown",
   "metadata": {
    "id": "ndcw8aPpVGaU"
   },
   "source": [
    "#### Data loading\n",
    "\n",
    "Apart from using a window of frames as input feature for each target frame, we can also normalize and add temporal derrivatives to input feature. \n",
    "Here we normalize the variance per channel (and per utterance) and add a first order temporal derrivative (called delta).  \n",
    "\n",
    "Next we prepare our test data set according to our feature extraction setup.\n",
    "Note we don't need the training or validation data since we're using a pretrained model."
   ]
  },
  {
   "cell_type": "code",
   "execution_count": null,
   "metadata": {},
   "outputs": [],
   "source": [
    "# feature arguments\n",
    "# feature_path = root_url + 'features/mel24/'\n",
    "read_feature_args = pyspch.read_json(setup.feature_path + 'feature_args.json')\n",
    "modify_feature_args = pyspch.dct_diff(read_feature_args, setup.feature_args)\n",
    "print(modify_feature_args)"
   ]
  },
  {
   "cell_type": "code",
   "execution_count": null,
   "metadata": {},
   "outputs": [],
   "source": [
    "# label mapping \n",
    "labels = pyspch.timit.get_timit_alphabet(setup.labset_out)\n",
    "lab2lab = pyspch.timit.get_timit_mapping(setup.labset_in, setup.labset_out) \n",
    "print(lab2idx)"
   ]
  },
  {
   "cell_type": "code",
   "execution_count": null,
   "metadata": {},
   "outputs": [],
   "source": [
    "# Prepare test set (evaluation)\n",
    "\n",
    "# corpus\n",
    "test_corpus = pyspch.read_txt(setup.test_corpus_file)\n",
    "\n",
    "# read features \n",
    "test_df = pd.read_pickle(setup.test_pickle_file)\n",
    "test_data = pyspch.nn.DataFrame_to_SpchData(test_df, delete_df=True) \n",
    "\n",
    "# modify features in corpus\n",
    "test_data = test_data.subset(test_corpus) \n",
    "test_data.modify_features(modify_feature_args) \n",
    "\n",
    "# SpchDataset\n",
    "test_ds = pyspch.nn.SpchDataset(test_data.corpus, test_data.features, test_data.labels)\n",
    "test_ds.map_target(lab2lab) # timit61 -> timit41\n",
    "test_ds.encode_target(lab2idx) # one-hot encoding\n",
    "test_ds.to_tensor()\n",
    "\n",
    "# Sampler (splicing)\n",
    "test_lengths = test_data.get_length('features')\n",
    "test_ds.set_sampler(test_lengths, setup.sampler_args)\n",
    "test_ds.to_device(device)\n",
    "\n",
    "# DataLoader\n",
    "test_dl = torch.utils.data.DataLoader(test_ds, batch_size=256)"
   ]
  },
  {
   "cell_type": "markdown",
   "metadata": {},
   "source": [
    "#### Baseline model evaluation"
   ]
  },
  {
   "cell_type": "markdown",
   "metadata": {},
   "source": [
    "##### Test set: PER and confusion matrix"
   ]
  },
  {
   "cell_type": "code",
   "execution_count": null,
   "metadata": {},
   "outputs": [],
   "source": [
    "# Confusion matrix\n",
    "cm = pyspch.nn.evaluate_cm(model, test_dl) \n",
    "\n",
    "# Phone Error Rate (PER) + PER per phone class\n",
    "per, per_pc = pyspch.nn.cm2per(cm)\n",
    "print(\"PER %.2f \" % (per))\n",
    "if not None in per_pc:\n",
    "    print(\"PER per phone class %s\" % (np.round(per_pc, 4)))\n",
    "\n",
    "# Cross-entropy loss\n",
    "loss = pyspch.nn.evaluate(model, test_dl, criterion)\n",
    "print(\"CE Loss %.2f\" % loss)\n",
    "\n",
    "# plot\n",
    "pyspch.plot_confusion_matrix(cm, labels, annot=False, figsize=(20,20))"
   ]
  },
  {
   "cell_type": "markdown",
   "metadata": {},
   "source": [
    "##### Single utterance: phone probabilties\n",
    "\n",
    "The posterior probabilties are now visualized for one entire utterance below. Because the dataset (after feature extraction) is quite big, we avoid loading unnecessary data. Here we only do the feature extraction for a single utterance."
   ]
  },
  {
   "cell_type": "code",
   "execution_count": null,
   "metadata": {},
   "outputs": [],
   "source": [
    "# select file to visualize\n",
    "example = 'test/dr1/faks0/si2203'\n",
    "\n",
    "# transcription + word segmentation \n",
    "example_txt = pyspch.read_txt(setup.label_path + example + \".txt\")\n",
    "example_wrd = pyspch.read_dataframe(setup.label_path + example + \".wrd\", sep=\" \", names=['t0','t1','wrd'])\n",
    "\n",
    "# labels (phone segmentation)\n",
    "lab_shift = read_feature_args['f_shift'] * read_feature_args['sample_rate']\n",
    "example_phn = pyspch.timit.read_seg_file(setup.label_path + example + \".phn\", fmt=\"float32\", dt=1/16000)\n",
    "example_lab = pyspch.seg2lbls(example_phn) #length !!!\n",
    "example_lab = [lab2lab[lbl] for lbl in example_lab]\n",
    "example_idx = [lab2idx[lbl] for lbl in example_lab] # target\n",
    "\n",
    "# audio\n",
    "example_audio, _ = pyspch.audio.load(root_url + 'audio/' + example + \".wav\")\n",
    "\n",
    "# feature + modification + splicing\n",
    "example_feature = np.load(pyspch.read_fobj(setup.feature_path + example + '.npy'))\n",
    "example_mod = pyspch.sp.feature_extraction(spg=example_feature, **modify_feature_args)\n",
    "example_spliced = pyspch.sp.splice_frames(example_mod, setup.sampler_args['N'], setup.sampler_args['stride']) # input\n",
    "\n",
    "# tensor\n",
    "example_X = torch.tensor(example_spliced).T.float().to(device)\n",
    "example_y = torch.tensor(example_idx).long().to(device)\n",
    "\n",
    "# prediction \n",
    "example_yp = model(example_X) # log probs\n",
    "example_yp = torch.nn.Softmax(dim=1)(example_yp) # probs"
   ]
  },
  {
   "cell_type": "code",
   "execution_count": null,
   "metadata": {},
   "outputs": [],
   "source": [
    "# Visualization\n",
    "pyspch.display.PlotSpg(spgdata=example_feature, segspg=example_phn)"
   ]
  },
  {
   "cell_type": "code",
   "execution_count": null,
   "metadata": {
    "id": "l_gUZsrR3x3b"
   },
   "outputs": [],
   "source": [
    "# plot only subset of phones (for readability)\n",
    "long_vowels = ['aw', 'ay', 'er', 'ey', 'iy', 'ow', 'oy', 'uw']\n",
    "short_vowels = ['aa', 'ao', 'ae', 'ah', 'eh', 'ih', 'uh']\n",
    "\n",
    "# plot input\n",
    "if False:\n",
    "  utt_fig, utt_ax = plt.subplots(figsize=(15, 10))\n",
    "  utt_ax.matshow(example_X.cpu().detach().numpy().T)\n",
    "\n",
    "# plot output - posterior probabilities\n",
    "plot_df = pd.DataFrame(example_yp.cpu().detach().numpy(), columns=labels)\n",
    "cols = labels\n",
    "cols = ['sil'] + short_vowels # choose phones to plot (subset) \n",
    "# Note: sil = silence and vcl = 'voiced closure' ~ silence\n",
    "plot_df[cols].plot(title=\"Predicted phone probabilties\", figsize=(15, 3), xlim=[0, example_yp.shape[0]])\n",
    "\n",
    "# plot output - posterior probabilities\n",
    "cols = ['sil'] + long_vowels # choose phones to plot (subset) \n",
    "plot_df[cols].plot(title=\"Predicted phone probabilties\", figsize=(15, 3), xlim=[0, example_yp.shape[0]])"
   ]
  },
  {
   "cell_type": "markdown",
   "metadata": {
    "id": "5ayLeimW7KYk"
   },
   "source": [
    "#### Questions\n",
    "\n",
    "**Phone mapping**\n",
    "\n",
    "Q1. What is the effect of reducing the number of phone labels (e.g. from 61 to 48) for training the model? \n",
    "\n",
    "**Feature extraction**\n",
    "\n",
    "Q2. Can we use our pretrained model with a different feature extraction setup?\n",
    "\n",
    "Q3. What happens to the input feature on the phone boundaries?\n",
    "\n",
    "Q4. What happens to the input feature on the utterance boundaries?\n",
    "\n",
    "**Evaluation**\n",
    "\n",
    "Q5. What is the effect of reducing the number of phone labels from 48 to 39 for evaluating the model? \n",
    "\n",
    "<!-- Q6. Given the posterior probabilities for the utterance \"The reasons for this dive seemed foolish now\", is there a corespondence between the short vowels that are hard to recognize for the model and your own perception? -->\n"
   ]
  },
  {
   "cell_type": "markdown",
   "metadata": {
    "id": "OWAzcb7HXsGb"
   },
   "source": [
    "### Effect of input features\n",
    "\n",
    "Using the same model setup as above, we will now vary the feature extraction setup. Four new setups are considered. Note that we are still loading pretrained models."
   ]
  },
  {
   "cell_type": "markdown",
   "metadata": {},
   "source": [
    "#### Setups"
   ]
  },
  {
   "cell_type": "code",
   "execution_count": null,
   "metadata": {},
   "outputs": [],
   "source": [
    "# write multiple pretrained models \n",
    "\n",
    "# models/architecture/feature/sampler/\n",
    "model_paths = ['models/default/mfcc13dd2mv/N5s2/', # 11 frames, stride 2 (210 ms), delta_delta2 (+ 40 ms) \n",
    "               'models/default/mel24dd2mv/N5s2/', # 11 frames, stride 2 (210 ms), delta_delta2 (+ 40 ms) \n",
    "               'models/default/mel80mv/N5s2/', # 11 frames, stride 2 (210 ms)\n",
    "               'models/default/mfcc13dd2mv/N0s1/', # 1 frames, stride 2 (10 ms), delta_delta2 (+ 40 ms) \n",
    "               'models/default/mel24dd2mv/N0s1/', # 1 frames, stride 2 (10 ms), delta_delta2 (+ 40 ms) \n",
    "               'models/default/mel80mv/N0s1/', # 1 frames, stride 2 (10 ms)\n",
    "               ]\n",
    "\n",
    "for model_path in model_paths:\n",
    "    os.makedirs(model_path, exist_ok=True, mode=0o777)\n",
    "    write_from_url(root_url + model_path + 'setup.py', model_path + 'setup.py')\n",
    "    write_from_url(root_url + model_path + 'model.pt', model_path + 'model.pt')"
   ]
  },
  {
   "cell_type": "markdown",
   "metadata": {},
   "source": [
    "#### Evaluate and visualize "
   ]
  },
  {
   "cell_type": "code",
   "execution_count": null,
   "metadata": {},
   "outputs": [],
   "source": [
    "# shared (base) feature = mel24\n",
    "test_corpus = pyspch.read_txt(setup.test_corpus_file) # corpus\n",
    "test_df = pd.read_pickle(setup.test_pickle_file) # read all features "
   ]
  },
  {
   "cell_type": "code",
   "execution_count": null,
   "metadata": {
    "colab": {
     "base_uri": "https://localhost:8080/",
     "height": 924
    },
    "id": "tNHqOxbldQC3",
    "outputId": "b8f0af33-008c-44f5-98d2-07b448e4cf6d"
   },
   "outputs": [],
   "source": [
    "for model_path in model_paths: \n",
    "    \n",
    "    print(model_path)\n",
    "    \n",
    "    ### Model\n",
    "    \n",
    "    # setup and model\n",
    "    setup = read_setup(model_path + 'setup.py', root_url)\n",
    "    checkpoint = pyspch.nn.read_checkpoint(model_path + 'model.pt', device)\n",
    "    model_setup, lab2idx, model, criterion, optimizer, scheduler = checkpoint\n",
    "    model.to(device)\n",
    "    \n",
    "    # feature arguments\n",
    "    read_feature_args = pyspch.read_json(setup.feature_path + 'feature_args.json')\n",
    "    modify_feature_args = pyspch.dct_diff(read_feature_args, setup.feature_args)\n",
    "    \n",
    "    # label mapping \n",
    "    labels = pyspch.timit.get_timit_alphabet(setup.labset_out)\n",
    "    lab2lab = pyspch.timit.get_timit_mapping(setup.labset_in, setup.labset_out) \n",
    "    \n",
    "    ### Single utterance: phone probabilties\n",
    "    \n",
    "    # utterance\n",
    "    example = 'test/dr1/faks0/si2203'\n",
    "    \n",
    "    # feature + modification + splicing\n",
    "    example_feature = np.load(pyspch.read_fobj(setup.feature_path + example + '.npy'))\n",
    "    example_mod = pyspch.sp.feature_extraction(spg=example_feature, **modify_feature_args)\n",
    "    example_spliced = pyspch.sp.splice_frames(example_mod, setup.sampler_args['N'], setup.sampler_args['stride']) # input\n",
    "\n",
    "    # labels (phone segmentation)\n",
    "    lab_shift = read_feature_args['f_shift'] * read_feature_args['sample_rate']\n",
    "    example_phn = pyspch.timit.read_seg_file(setup.label_path + example + \".phn\", fmt=\"float32\")\n",
    "    example_lab = pyspch.seg2lbls(example_phn, lab_shift)\n",
    "    example_lab = [lab2lab[lbl] for lbl in example_lab]\n",
    "    example_idx = [lab2idx[lbl] for lbl in example_lab] # target\n",
    "    \n",
    "    # tensor\n",
    "    example_X = torch.tensor(example_spliced).T.float().to(device)\n",
    "    example_y = torch.tensor(example_idx).long().to(device)\n",
    "\n",
    "    # prediction \n",
    "    example_yp = model(example_X) # log probs\n",
    "    example_yp = torch.nn.Softmax(dim=1)(example_yp) # probs\n",
    "    \n",
    "    # plot output - posterior probabilities\n",
    "    plot_df = pd.DataFrame(example_yp.cpu().detach().numpy())\n",
    "    plot_df.columns = labels\n",
    "    cols = plot_df.columns # choose phones to plot\n",
    "    cols = ['sil'] + short_vowels # + long_vowels # \n",
    "    plot_df[cols].plot(title=\"Predicted phone probabilties\", figsize=(15, 3))\n",
    "\n",
    "    if False:\n",
    "      \n",
    "        ## Test set: PER and confusion matrix\n",
    "        \n",
    "        # modify features\n",
    "        test_data = pyspch.nn.DataFrame_to_SpchData(test_df, delete_df=False)  \n",
    "        test_data = test_data.subset(test_corpus) # subset by corpus\n",
    "        test_data.modify_features(modify_feature_args) # modify features\n",
    "\n",
    "        # SpchDataset\n",
    "        test_ds = pyspch.nn.SpchDataset(test_data.corpus, test_data.features, test_data.labels)\n",
    "        test_ds.map_target(lab2lab) # timit61 -> timit41\n",
    "        test_ds.encode_target(lab2idx) # one-hot encoding\n",
    "        test_ds.to_tensor()\n",
    "\n",
    "        # Sampler (splicing)\n",
    "        test_lengths = test_data.get_length('features')\n",
    "        test_ds.set_sampler(test_lengths, setup.sampler_args)\n",
    "\n",
    "        # DataLoader\n",
    "        test_dl = torch.utils.data.DataLoader(test_ds, batch_size=256)\n",
    "        \n",
    "        # PER and confusion matrix\n",
    "        loss = pyspch.nn.evaluate(model, test_dl, criterion)\n",
    "        cm = pyspch.nn.evaluate_cm(model, test_dl) \n",
    "        per, per_pc = pyspch.nn.cm2per(cm)\n",
    "        print(\"CEL %.2f\" % loss)\n",
    "        print(\"PER %.2f \" % (per))\n",
    "        pyspch.plot_confusion_matrix(cm, labels, annot=False)"
   ]
  },
  {
   "cell_type": "markdown",
   "metadata": {
    "id": "26x3pC1WaaMk"
   },
   "source": [
    "#### Questions\n",
    "\n",
    "**Example utterance**\n",
    "\n",
    "Q1. Do you notice a difference in the posterior probabilities for different input features?\n",
    "\n",
    "Q2. Evaluate the models on the test set (run this only if you have spare time). Do you notice a difference in the PER for different input features? Which feature gives the best performance, and why?\n"
   ]
  },
  {
   "cell_type": "markdown",
   "metadata": {
    "id": "3AbGPiN70Kt0"
   },
   "source": [
    "### DNN vs. GMM on single frame \n",
    "\n",
    "Last exercise session on phoneme classification, we compared the performance of DNNs and GMMs. Near the end we remarked the toy problem was too small for meaningful conclusions. Here we compare the two models on a subset of TIMIT, namely the short vowels. \n",
    "\n",
    "If you want to run small experiments yourself, you can select a subset with only a couple of phonemes (reducing the size of the dataset and the diversity in labels). Here we use the short vowels."
   ]
  },
  {
   "cell_type": "code",
   "execution_count": null,
   "metadata": {
    "id": "nhOYltapZNje"
   },
   "outputs": [],
   "source": [
    "# subset of phone labels\n",
    "short_vowels = ['aa', 'ao', 'ae', 'ah', 'eh', 'ih', 'uh']\n",
    "long_vowels = ['aw', 'ay', 'er', 'ey', 'iy', 'ow', 'oy', 'uw']"
   ]
  },
  {
   "cell_type": "code",
   "execution_count": null,
   "metadata": {},
   "outputs": [],
   "source": [
    "# baseline path\n",
    "single_frame_path = 'models/default/mfcc13dd2mv/N0s1/'\n",
    "os.makedirs(single_frame_path, exist_ok=True, mode=0o777)\n",
    "\n",
    "# setup file\n",
    "write_from_url(root_url + single_frame_path + 'setup.py', single_frame_path + 'setup.py')\n",
    "write_from_url(root_url + single_frame_path + 'model.pt', single_frame_path + 'model.pt')\n",
    "setup = read_setup(single_frame_path + 'setup.py', root_url)"
   ]
  },
  {
   "cell_type": "code",
   "execution_count": null,
   "metadata": {},
   "outputs": [],
   "source": [
    "# Prepare train set \n",
    "\n",
    "# corpus\n",
    "train_corpus = pyspch.read_txt(setup.train_corpus_file)\n",
    "\n",
    "# read features \n",
    "train_df = pd.read_pickle(setup.train_pickle_file)\n",
    "train_data = pyspch.nn.DataFrame_to_SpchData(train_df, delete_df=True) \n",
    "\n",
    "# modify features in corpus\n",
    "train_data = train_data.subset(train_corpus) \n",
    "train_data.modify_features(modify_feature_args) \n",
    "\n",
    "# SpchDataset\n",
    "train_ds = pyspch.nn.SpchDataset(train_data.corpus, train_data.features, train_data.labels)\n",
    "train_ds.map_target(lab2lab) # timit61 -> timit41\n",
    "train_ds.encode_target(lab2idx) # one-hot encoding\n",
    "train_ds.to_tensor()\n",
    "\n",
    "# Sampler (splicing)\n",
    "train_lengths = train_data.get_length('features')\n",
    "train_ds.set_sampler(train_lengths, setup.sampler_args)\n",
    "train_ds.to_device(device)\n",
    "\n",
    "# DataLoader\n",
    "batch_size, shuffle, num_workers = setup.training_args['batch_size'], setup.training_args['shuffle'], setup.training_args['num_workers']\n",
    "train_dl = torch.utils.data.DataLoader(train_ds, batch_size=batch_size, shuffle=shuffle, num_workers=num_workers)"
   ]
  },
  {
   "cell_type": "code",
   "execution_count": null,
   "metadata": {},
   "outputs": [],
   "source": [
    "# Prepare test set (evaluation)\n",
    "\n",
    "# corpus\n",
    "test_corpus = pyspch.read_txt(setup.test_corpus_file)\n",
    "\n",
    "# read features \n",
    "test_df = pd.read_pickle(setup.test_pickle_file)\n",
    "test_data = pyspch.nn.DataFrame_to_SpchData(test_df, delete_df=True) \n",
    "\n",
    "# modify features in corpus\n",
    "test_data = test_data.subset(test_corpus) \n",
    "test_data.modify_features(modify_feature_args) \n",
    "\n",
    "# SpchDataset\n",
    "test_ds = pyspch.nn.SpchDataset(test_data.corpus, test_data.features, test_data.labels)\n",
    "test_ds.map_target(lab2lab) # timit61 -> timit41\n",
    "test_ds.encode_target(lab2idx) # one-hot encoding\n",
    "test_ds.to_tensor()\n",
    "\n",
    "# Sampler (splicing)\n",
    "test_lengths = test_data.get_length('features')\n",
    "test_ds.set_sampler(test_lengths, setup.sampler_args)\n",
    "test_ds.to_device(device)\n",
    "\n",
    "# DataLoader\n",
    "test_dl = torch.utils.data.DataLoader(test_ds, batch_size=256)"
   ]
  },
  {
   "cell_type": "markdown",
   "metadata": {},
   "source": [
    "#### DNN model"
   ]
  },
  {
   "cell_type": "code",
   "execution_count": null,
   "metadata": {},
   "outputs": [],
   "source": [
    "# model\n",
    "checkpoint = pyspch.nn.read_checkpoint(single_frame_path + 'model.pt', device)\n",
    "model_setup, lab2idx, model, criterion, optimizer, scheduler = checkpoint\n",
    "model.to(device)\n",
    "\n",
    "# feature arguments\n",
    "read_feature_args = pyspch.read_json(setup.feature_path + 'feature_args.json')\n",
    "modify_feature_args = pyspch.dct_diff(read_feature_args, setup.feature_args)\n",
    "\n",
    "# label mapping \n",
    "labels = pyspch.timit.get_timit_alphabet(setup.labset_out)\n",
    "lab2lab = pyspch.timit.get_timit_mapping(setup.labset_in, setup.labset_out) \n",
    "\n",
    "### Single utterance: phone probabilties\n",
    "\n",
    "# utterance\n",
    "example = 'test/dr1/faks0/si2203'\n",
    "\n",
    "# feature + modification + splicing\n",
    "example_feature = np.load(pyspch.read_fobj(setup.feature_path + example + '.npy'))\n",
    "example_mod = pyspch.sp.feature_extraction(spg=example_feature, **modify_feature_args)\n",
    "example_spliced = pyspch.sp.splice_frames(example_mod, setup.sampler_args['N'], setup.sampler_args['stride']) # input\n",
    "\n",
    "# labels (phone segmentation)\n",
    "lab_shift = read_feature_args['f_shift'] * read_feature_args['sample_rate']\n",
    "example_phn = pyspch.timit.read_seg_file(setup.label_path + example + \".phn\", fmt=\"float32\")\n",
    "example_lab = pyspch.seg2lbls(example_phn, lab_shift)\n",
    "example_lab = [lab2lab[lbl] for lbl in example_lab]\n",
    "example_idx = [lab2idx[lbl] for lbl in example_lab] # target\n",
    "\n",
    "# tensor\n",
    "example_X = torch.tensor(example_spliced).T.float().to(device)\n",
    "example_y = torch.tensor(example_idx).long().to(device)\n",
    "\n",
    "# prediction \n",
    "example_yp = model(example_X) # log probs\n",
    "example_yp = torch.nn.Softmax(dim=1)(example_yp) # probs\n",
    "\n",
    "# plot output - posterior probabilities\n",
    "plot_df = pd.DataFrame(example_yp.cpu().detach().numpy())\n",
    "plot_df.columns = labels\n",
    "cols = plot_df.columns # choose phones to plot\n",
    "cols = ['sil'] + short_vowels # + long_vowels # \n",
    "plot_df[cols].plot(title=\"Predicted phone probabilties\", figsize=(15, 3))\n",
    "\n",
    "if False:\n",
    "    \n",
    "    ## Test set: PER and confusion matrix\n",
    "        \n",
    "    # PER and confusion matrix\n",
    "    loss = pyspch.nn.evaluate(model, test_dl, criterion)\n",
    "    cm = pyspch.nn.evaluate_cm(model, test_dl) \n",
    "    per, per_pc = pyspch.nn.cm2per(cm)\n",
    "    print(\"CEL %.2f\" % loss)\n",
    "    print(\"PER %.2f \" % (per))\n",
    "    pyspch.plot_confusion_matrix(cm, labels, annot=False)"
   ]
  },
  {
   "cell_type": "markdown",
   "metadata": {},
   "source": [
    "#### GMM model"
   ]
  },
  {
   "cell_type": "code",
   "execution_count": null,
   "metadata": {},
   "outputs": [],
   "source": [
    "# Prepare GMM data\n",
    "\n",
    "# input features\n",
    "gmm_train_X = train_ds.input.cpu().numpy().astype('float32') \n",
    "gmm_test_X = test_ds.input.cpu().numpy().astype('float32') \n",
    "\n",
    "# labels\n",
    "train_y = train_ds.target.cpu().numpy().astype('int64') \n",
    "test_y = test_ds.target.cpu().numpy().astype('int64')\n",
    "\n",
    "# map to strings for plotting\n",
    "idx2lab = {v: k for k, v in lab2idx.items()}\n",
    "train_y = np.array([idx2lab[i] for i in train_y])\n",
    "test_y = np.array([idx2lab[i] for i in test_y])"
   ]
  },
  {
   "cell_type": "code",
   "execution_count": null,
   "metadata": {},
   "outputs": [],
   "source": [
    "#@title GMM functions\n",
    "\n",
    "from pyspch.GaussianMixtureClf import GaussianMixtureClf\n",
    "from sklearn import metrics as skmetrics \n",
    "\n",
    "# =============================================================================\n",
    "# GMM\n",
    "# =============================================================================\n",
    "def train_GMM(X_train, y_train,  classes, \n",
    "                n_components=1, max_iter=20, tol=1.e-3,\n",
    "                print_result=True):\n",
    "    clf_GMM = GaussianMixtureClf(n_components, classes, max_iter, tol)\n",
    "    clf_GMM.fit(X_train,y_train)\n",
    "    if(print_result):\n",
    "        y_pred = clf_GMM.predict(X_train)\n",
    "        acc_train = 100.0*skmetrics.accuracy_score(y_train, y_pred)\n",
    "        lls, bics = llscore(clf_GMM,X_train,y_train)\n",
    "        print('Training Set:  Accuracy = %.2f%%     LL = %.2f    BIC = %.2f ' % (acc_train,lls,bics) )\n",
    "    return(clf_GMM)\n",
    "    \n",
    "def test_GMM(X_test, y_test, clf_GMM , priors=None,\n",
    "                   print_result=True, figsize=(20,20), print_cmat=False):\n",
    "\n",
    "    y_pred = clf_GMM.predict(X_test,priors=priors)\n",
    "    acc_test = 100.0*skmetrics.accuracy_score(y_test, y_pred) \n",
    "    cmat = skmetrics.confusion_matrix(y_test,y_pred)\n",
    "    if(print_result):\n",
    "        print('Test Set:      Accuracy = %.2f%%'  % (acc_test) )\n",
    "    if(print_cmat):\n",
    "        pyspch.plot_confusion_matrix(cmat, labels=clf_GMM.classes,figsize=figsize)\n",
    "\n",
    "\n",
    "def train_test_GMM(X_train, X_test, y_train, y_test, classes, \n",
    "                   n_components=1, max_iter=20, tol=1.e-3,\n",
    "                   print_result=True, print_cmat=False):\n",
    "    clf_GM = GaussianMixtureClf(n_components, classes, max_iter, tol)\n",
    "    clf_GM.fit(X_train,y_train)\n",
    "    y_pred = clf_GM.predict(X_train)\n",
    "    acc_train = 100.0*skmetrics.accuracy_score(y_train, y_pred)\n",
    "    y_pred = clf_GM.predict(X_test)\n",
    "    acc_test = 100.0*skmetrics.accuracy_score(y_test, y_pred) \n",
    "    cmat = skmetrics.confusion_matrix(y_test,y_pred)\n",
    "    if(print_result):\n",
    "        lls, bics = llscore(clf_GM,X_train,y_train)\n",
    "        print('Training Set:  Accuracy = %.2f%%     LL = %.2f    BIC = %.2f ' % (acc_train,lls,bics) )\n",
    "        print('Test Set:      Accuracy = %.2f%%'  % (acc_test) )\n",
    "    if(print_cmat):\n",
    "        pyspch.plot_confusion_matrix(cmat, labels=classes)\n",
    "    return (acc_test,acc_train)\n",
    "\n",
    "def llscore(GMM,X,y):\n",
    "    ''' Average log likelihood per sample over the full data set (X,y) \n",
    "    and BIC per sample '''\n",
    "    ll = 0.\n",
    "    for k in range(0,GMM.n_classes) :\n",
    "        ll += GMM.gmm[k].score(X[y== GMM.classes[k],: ])\n",
    "    lls = ll.mean()\n",
    "    nparam = ((2*n_dim+1)*n_components -1 ) * GMM.n_classes\n",
    "    bics = -2*lls + (np.log(X.shape[0])* nparam) / float(X.shape[0])\n",
    "    return(lls,bics)"
   ]
  },
  {
   "cell_type": "code",
   "execution_count": null,
   "metadata": {},
   "outputs": [],
   "source": [
    "# GMM model\n",
    "n_dim = gmm_train_X.shape[1] # feature dimension\n",
    "n_components = 8 # number guassians, time = {8: 2min, 16: 3min, 32: 6min, 64: 12min}\n",
    "max_iter = 20 # max number EM iterations\n",
    "tolerance = 0.001 # tolerance (determines convergence)\n",
    "\n",
    "print(\"*** n_components=%d ***\" % (n_components))\n",
    "#_,_ = train_test_GMM(gmm_train_X, gmm_test_X, train_y, test_y, classes=labels,\n",
    "#                     n_components=n_components, max_iter=max_iter, tol=tolerance,\n",
    "#                     print_result=True, print_cmat=True)\n",
    "\n",
    "clf_GMM = train_GMM(gmm_train_X, train_y,  classes=labels,\n",
    "                     n_components=n_components, max_iter=max_iter, tol=tolerance)"
   ]
  },
  {
   "cell_type": "code",
   "execution_count": null,
   "metadata": {},
   "outputs": [],
   "source": [
    "test_GMM(gmm_test_X, test_y, clf_GMM, \n",
    "                     print_result=True, print_cmat=True, priors=None)"
   ]
  },
  {
   "cell_type": "markdown",
   "metadata": {
    "id": "3eFPffdUGl_k"
   },
   "source": [
    "#### Questions\n",
    "\n",
    "**DNN model**\n",
    "\n",
    "Q1. Why use early stopping? What happens if you continue training?\n",
    "\n",
    "**GMM model**\n",
    "\n",
    "Q2. Does the GMM model's performance increase when using a window of frames as input feature, compared to a single frame, and why? \n",
    "\n",
    "**Comparison**\n",
    "\n",
    "Q2. In the end, is a DNN model better suited for phoneme classification as a GMM model, and why?\n",
    "\n",
    "\n",
    "\n"
   ]
  }
 ],
 "metadata": {
  "accelerator": "GPU",
  "colab": {
   "collapsed_sections": [],
   "name": "ex_timit-3",
   "provenance": [],
   "toc_visible": true
  },
  "kernelspec": {
   "display_name": "Python 3",
   "language": "python",
   "name": "python3"
  },
  "language_info": {
   "codemirror_mode": {
    "name": "ipython",
    "version": 3
   },
   "file_extension": ".py",
   "mimetype": "text/x-python",
   "name": "python",
   "nbconvert_exporter": "python",
   "pygments_lexer": "ipython3",
   "version": "3.7.8"
  },
  "widgets": {
   "application/vnd.jupyter.widget-state+json": {
    "state": {},
    "version_major": 2,
    "version_minor": 0
   }
  }
 },
 "nbformat": 4,
 "nbformat_minor": 4
}
