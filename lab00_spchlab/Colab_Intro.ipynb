{
 "cells": [
  {
   "cell_type": "markdown",
   "metadata": {
    "id": "l6uLS2mjFAGy"
   },
   "source": [
    "# Colab_intro - Working with *spchlab* and *pyspch* on Google Colab\n",
    "\n",
    "+ ###### Author: Dirk Van Compernolle   \n",
    "+ ###### Modification History: 12/01/2024\n",
    "+ ###### Required packages:  pyspch>=0.8"
   ]
  },
  {
   "cell_type": "markdown",
   "metadata": {
    "id": "Nky_0yB5kLx_"
   },
   "source": [
    "## Setting up pyspch\n",
    "**spchlab** uses the **pyspch** package for almost all demos / exercises.\n",
    "**pyspch** is not pre-installed on Google Colab, so you need to install it yourself.\n",
    "In the first cell of most spchlab notebooks you find the required code to download and install\n",
    "\n",
    "> !pip install git+https://github.com/compi1234/pyspch.git\n",
    "\n",
    "\n",
    "**NOTE**  \n",
    "- If you need to install a specific version of pyspch, e.g. v.0.8.2, just modify the last part to *\\/pyspch.git@0.8.2*\n",
    "- There is way to avoid reinstalling pyspch with every runtime; i.e. by installing it in your Google Drive.\n",
    "However, this process is not trivial and has failed in several use cases; so we don't recommend it at this moment."
   ]
  },
  {
   "cell_type": "markdown",
   "metadata": {
    "id": "Nky_0yB5kLx_"
   },
   "source": [
    "## Setting up your Google Drive\n",
    "If you want to save some work for future usage, you can best do this by mounting your Google Drive into Colab\n",
    "This is done with the following commands.\n",
    "> import os, sys   \r",
    "> from google.colab import drive   \n",
    "> drive.mount('/content/drive'   \n",
    "\n",
    "Google will ask permission to give the current runtime session read/write access to your drive.  You need to accept this.    \n",
    "Once agreed you can access and write data in the local folder **/content/drive**.n.\n",
    "."
   ]
  },
  {
   "cell_type": "code",
   "execution_count": null,
   "metadata": {},
   "outputs": [],
   "source": []
  },
  {
   "cell_type": "code",
   "execution_count": null,
   "metadata": {},
   "outputs": [],
   "source": []
  }
 ],
 "metadata": {
  "kernelspec": {
   "display_name": "Python 3 (ipykernel)",
   "language": "python",
   "name": "python3"
  },
  "language_info": {
   "codemirror_mode": {
    "name": "ipython",
    "version": 3
   },
   "file_extension": ".py",
   "mimetype": "text/x-python",
   "name": "python",
   "nbconvert_exporter": "python",
   "pygments_lexer": "ipython3",
   "version": "3.10.13"
  },
  "widgets": {
   "application/vnd.jupyter.widget-state+json": {
    "state": {},
    "version_major": 2,
    "version_minor": 0
   }
  }
 },
 "nbformat": 4,
 "nbformat_minor": 4
}
